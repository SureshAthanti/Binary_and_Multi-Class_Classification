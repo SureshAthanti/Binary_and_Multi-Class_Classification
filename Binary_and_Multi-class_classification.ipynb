{
 "cells": [
  {
   "cell_type": "markdown",
   "metadata": {},
   "source": [
    "## Binary Classification and Multi-class Classification"
   ]
  },
  {
   "cell_type": "markdown",
   "metadata": {},
   "source": [
    "### Data for Binary Classification:\n",
    "* URL: https://www.kaggle.com/lodetomasi1995/income-classification\n",
    "* Column “income” is the target label to classify.\n"
   ]
  },
  {
   "cell_type": "code",
   "execution_count": 1,
   "metadata": {},
   "outputs": [],
   "source": [
    "import seaborn as sns\n",
    "import numpy as np\n",
    "import pandas as pd\n",
    "from scipy import stats\n",
    "from scipy.stats import norm, probplot\n",
    "import matplotlib.pyplot as plt\n",
    "import warnings\n",
    "warnings.filterwarnings(\"ignore\")"
   ]
  },
  {
   "cell_type": "code",
   "execution_count": 3,
   "metadata": {},
   "outputs": [],
   "source": [
    "# On Kaggle Notebook, after adding the data, you can import the data as Pandas DataFrame as follows\n",
    "df = pd.read_csv(\"income_evaluation.csv\")"
   ]
  },
  {
   "cell_type": "markdown",
   "metadata": {},
   "source": [
    "### Displaying columns and Length of columns"
   ]
  },
  {
   "cell_type": "code",
   "execution_count": 4,
   "metadata": {},
   "outputs": [
    {
     "name": "stdout",
     "output_type": "stream",
     "text": [
      "Index(['age', ' workclass', ' fnlwgt', ' education', ' education-num',\n",
      "       ' marital-status', ' occupation', ' relationship', ' race', ' sex',\n",
      "       ' capital-gain', ' capital-loss', ' hours-per-week', ' native-country',\n",
      "       ' income'],\n",
      "      dtype='object')\n",
      " \n",
      "Lenght of columns:  15\n",
      " \n",
      "Total numbe of data fields: 32561\n"
     ]
    }
   ],
   "source": [
    "print(df.columns)\n",
    "print(\" \")\n",
    "print(\"Lenght of columns: \",len(df.columns))\n",
    "print(\" \")\n",
    "print(\"Total numbe of data fields:\",len(df))"
   ]
  },
  {
   "cell_type": "markdown",
   "metadata": {},
   "source": [
    "<font color='blue'>As we can see some spaces in the column names we have processed the data to remove the spaces in the coulumns.</blue>"
   ]
  },
  {
   "cell_type": "code",
   "execution_count": 5,
   "metadata": {},
   "outputs": [],
   "source": [
    "## we could see some spaces in the columns names so we are removing it manually \n",
    "\n",
    "df.columns = ['age', 'workclass', 'fnlwgt', 'education', 'education-num','marital-status', 'occupation', 'relationship', 'race', \n",
    "              'sex','capital-gain', 'capital-loss', 'hours-per-week', 'native-country','income']\n",
    "\n",
    "df.columns = df.columns.str.replace('-','_')"
   ]
  },
  {
   "cell_type": "code",
   "execution_count": 6,
   "metadata": {},
   "outputs": [
    {
     "data": {
      "text/html": [
       "<div>\n",
       "<style scoped>\n",
       "    .dataframe tbody tr th:only-of-type {\n",
       "        vertical-align: middle;\n",
       "    }\n",
       "\n",
       "    .dataframe tbody tr th {\n",
       "        vertical-align: top;\n",
       "    }\n",
       "\n",
       "    .dataframe thead th {\n",
       "        text-align: right;\n",
       "    }\n",
       "</style>\n",
       "<table border=\"1\" class=\"dataframe\">\n",
       "  <thead>\n",
       "    <tr style=\"text-align: right;\">\n",
       "      <th></th>\n",
       "      <th>age</th>\n",
       "      <th>workclass</th>\n",
       "      <th>fnlwgt</th>\n",
       "      <th>education</th>\n",
       "      <th>education_num</th>\n",
       "      <th>marital_status</th>\n",
       "      <th>occupation</th>\n",
       "      <th>relationship</th>\n",
       "      <th>race</th>\n",
       "      <th>sex</th>\n",
       "      <th>capital_gain</th>\n",
       "      <th>capital_loss</th>\n",
       "      <th>hours_per_week</th>\n",
       "      <th>native_country</th>\n",
       "      <th>income</th>\n",
       "    </tr>\n",
       "  </thead>\n",
       "  <tbody>\n",
       "    <tr>\n",
       "      <td>0</td>\n",
       "      <td>39</td>\n",
       "      <td>State-gov</td>\n",
       "      <td>77516</td>\n",
       "      <td>Bachelors</td>\n",
       "      <td>13</td>\n",
       "      <td>Never-married</td>\n",
       "      <td>Adm-clerical</td>\n",
       "      <td>Not-in-family</td>\n",
       "      <td>White</td>\n",
       "      <td>Male</td>\n",
       "      <td>2174</td>\n",
       "      <td>0</td>\n",
       "      <td>40</td>\n",
       "      <td>United-States</td>\n",
       "      <td>&lt;=50K</td>\n",
       "    </tr>\n",
       "    <tr>\n",
       "      <td>1</td>\n",
       "      <td>50</td>\n",
       "      <td>Self-emp-not-inc</td>\n",
       "      <td>83311</td>\n",
       "      <td>Bachelors</td>\n",
       "      <td>13</td>\n",
       "      <td>Married-civ-spouse</td>\n",
       "      <td>Exec-managerial</td>\n",
       "      <td>Husband</td>\n",
       "      <td>White</td>\n",
       "      <td>Male</td>\n",
       "      <td>0</td>\n",
       "      <td>0</td>\n",
       "      <td>13</td>\n",
       "      <td>United-States</td>\n",
       "      <td>&lt;=50K</td>\n",
       "    </tr>\n",
       "    <tr>\n",
       "      <td>2</td>\n",
       "      <td>38</td>\n",
       "      <td>Private</td>\n",
       "      <td>215646</td>\n",
       "      <td>HS-grad</td>\n",
       "      <td>9</td>\n",
       "      <td>Divorced</td>\n",
       "      <td>Handlers-cleaners</td>\n",
       "      <td>Not-in-family</td>\n",
       "      <td>White</td>\n",
       "      <td>Male</td>\n",
       "      <td>0</td>\n",
       "      <td>0</td>\n",
       "      <td>40</td>\n",
       "      <td>United-States</td>\n",
       "      <td>&lt;=50K</td>\n",
       "    </tr>\n",
       "    <tr>\n",
       "      <td>3</td>\n",
       "      <td>53</td>\n",
       "      <td>Private</td>\n",
       "      <td>234721</td>\n",
       "      <td>11th</td>\n",
       "      <td>7</td>\n",
       "      <td>Married-civ-spouse</td>\n",
       "      <td>Handlers-cleaners</td>\n",
       "      <td>Husband</td>\n",
       "      <td>Black</td>\n",
       "      <td>Male</td>\n",
       "      <td>0</td>\n",
       "      <td>0</td>\n",
       "      <td>40</td>\n",
       "      <td>United-States</td>\n",
       "      <td>&lt;=50K</td>\n",
       "    </tr>\n",
       "    <tr>\n",
       "      <td>4</td>\n",
       "      <td>28</td>\n",
       "      <td>Private</td>\n",
       "      <td>338409</td>\n",
       "      <td>Bachelors</td>\n",
       "      <td>13</td>\n",
       "      <td>Married-civ-spouse</td>\n",
       "      <td>Prof-specialty</td>\n",
       "      <td>Wife</td>\n",
       "      <td>Black</td>\n",
       "      <td>Female</td>\n",
       "      <td>0</td>\n",
       "      <td>0</td>\n",
       "      <td>40</td>\n",
       "      <td>Cuba</td>\n",
       "      <td>&lt;=50K</td>\n",
       "    </tr>\n",
       "  </tbody>\n",
       "</table>\n",
       "</div>"
      ],
      "text/plain": [
       "   age          workclass  fnlwgt   education  education_num  \\\n",
       "0   39          State-gov   77516   Bachelors             13   \n",
       "1   50   Self-emp-not-inc   83311   Bachelors             13   \n",
       "2   38            Private  215646     HS-grad              9   \n",
       "3   53            Private  234721        11th              7   \n",
       "4   28            Private  338409   Bachelors             13   \n",
       "\n",
       "        marital_status          occupation    relationship    race      sex  \\\n",
       "0        Never-married        Adm-clerical   Not-in-family   White     Male   \n",
       "1   Married-civ-spouse     Exec-managerial         Husband   White     Male   \n",
       "2             Divorced   Handlers-cleaners   Not-in-family   White     Male   \n",
       "3   Married-civ-spouse   Handlers-cleaners         Husband   Black     Male   \n",
       "4   Married-civ-spouse      Prof-specialty            Wife   Black   Female   \n",
       "\n",
       "   capital_gain  capital_loss  hours_per_week  native_country  income  \n",
       "0          2174             0              40   United-States   <=50K  \n",
       "1             0             0              13   United-States   <=50K  \n",
       "2             0             0              40   United-States   <=50K  \n",
       "3             0             0              40   United-States   <=50K  \n",
       "4             0             0              40            Cuba   <=50K  "
      ]
     },
     "execution_count": 6,
     "metadata": {},
     "output_type": "execute_result"
    }
   ],
   "source": [
    "df.head()"
   ]
  },
  {
   "cell_type": "markdown",
   "metadata": {},
   "source": [
    "#### Question 1:\n",
    "Examine the features of the data. Identify which feature is continuous and which feature is categorical. Make some analyses and use your analyses to discuss whether each feature could be useful for classify the \"income.\""
   ]
  },
  {
   "cell_type": "code",
   "execution_count": 7,
   "metadata": {},
   "outputs": [
    {
     "name": "stdout",
     "output_type": "stream",
     "text": [
      "<class 'pandas.core.frame.DataFrame'>\n",
      "RangeIndex: 32561 entries, 0 to 32560\n",
      "Data columns (total 15 columns):\n",
      "age               32561 non-null int64\n",
      "workclass         32561 non-null object\n",
      "fnlwgt            32561 non-null int64\n",
      "education         32561 non-null object\n",
      "education_num     32561 non-null int64\n",
      "marital_status    32561 non-null object\n",
      "occupation        32561 non-null object\n",
      "relationship      32561 non-null object\n",
      "race              32561 non-null object\n",
      "sex               32561 non-null object\n",
      "capital_gain      32561 non-null int64\n",
      "capital_loss      32561 non-null int64\n",
      "hours_per_week    32561 non-null int64\n",
      "native_country    32561 non-null object\n",
      "income            32561 non-null object\n",
      "dtypes: int64(6), object(9)\n",
      "memory usage: 3.7+ MB\n"
     ]
    }
   ],
   "source": [
    "df.info()"
   ]
  },
  {
   "cell_type": "code",
   "execution_count": 7,
   "metadata": {},
   "outputs": [
    {
     "data": {
      "text/html": [
       "<div>\n",
       "<style scoped>\n",
       "    .dataframe tbody tr th:only-of-type {\n",
       "        vertical-align: middle;\n",
       "    }\n",
       "\n",
       "    .dataframe tbody tr th {\n",
       "        vertical-align: top;\n",
       "    }\n",
       "\n",
       "    .dataframe thead th {\n",
       "        text-align: right;\n",
       "    }\n",
       "</style>\n",
       "<table border=\"1\" class=\"dataframe\">\n",
       "  <thead>\n",
       "    <tr style=\"text-align: right;\">\n",
       "      <th></th>\n",
       "      <th>count</th>\n",
       "      <th>mean</th>\n",
       "      <th>std</th>\n",
       "      <th>min</th>\n",
       "      <th>25%</th>\n",
       "      <th>50%</th>\n",
       "      <th>75%</th>\n",
       "      <th>max</th>\n",
       "    </tr>\n",
       "  </thead>\n",
       "  <tbody>\n",
       "    <tr>\n",
       "      <td>age</td>\n",
       "      <td>32561.0</td>\n",
       "      <td>38.581647</td>\n",
       "      <td>13.640433</td>\n",
       "      <td>17.0</td>\n",
       "      <td>28.0</td>\n",
       "      <td>37.0</td>\n",
       "      <td>48.0</td>\n",
       "      <td>90.0</td>\n",
       "    </tr>\n",
       "    <tr>\n",
       "      <td>fnlwgt</td>\n",
       "      <td>32561.0</td>\n",
       "      <td>189778.366512</td>\n",
       "      <td>105549.977697</td>\n",
       "      <td>12285.0</td>\n",
       "      <td>117827.0</td>\n",
       "      <td>178356.0</td>\n",
       "      <td>237051.0</td>\n",
       "      <td>1484705.0</td>\n",
       "    </tr>\n",
       "    <tr>\n",
       "      <td>education_num</td>\n",
       "      <td>32561.0</td>\n",
       "      <td>10.080679</td>\n",
       "      <td>2.572720</td>\n",
       "      <td>1.0</td>\n",
       "      <td>9.0</td>\n",
       "      <td>10.0</td>\n",
       "      <td>12.0</td>\n",
       "      <td>16.0</td>\n",
       "    </tr>\n",
       "    <tr>\n",
       "      <td>capital_gain</td>\n",
       "      <td>32561.0</td>\n",
       "      <td>1077.648844</td>\n",
       "      <td>7385.292085</td>\n",
       "      <td>0.0</td>\n",
       "      <td>0.0</td>\n",
       "      <td>0.0</td>\n",
       "      <td>0.0</td>\n",
       "      <td>99999.0</td>\n",
       "    </tr>\n",
       "    <tr>\n",
       "      <td>capital_loss</td>\n",
       "      <td>32561.0</td>\n",
       "      <td>87.303830</td>\n",
       "      <td>402.960219</td>\n",
       "      <td>0.0</td>\n",
       "      <td>0.0</td>\n",
       "      <td>0.0</td>\n",
       "      <td>0.0</td>\n",
       "      <td>4356.0</td>\n",
       "    </tr>\n",
       "    <tr>\n",
       "      <td>hours_per_week</td>\n",
       "      <td>32561.0</td>\n",
       "      <td>40.437456</td>\n",
       "      <td>12.347429</td>\n",
       "      <td>1.0</td>\n",
       "      <td>40.0</td>\n",
       "      <td>40.0</td>\n",
       "      <td>45.0</td>\n",
       "      <td>99.0</td>\n",
       "    </tr>\n",
       "  </tbody>\n",
       "</table>\n",
       "</div>"
      ],
      "text/plain": [
       "                  count           mean            std      min       25%  \\\n",
       "age             32561.0      38.581647      13.640433     17.0      28.0   \n",
       "fnlwgt          32561.0  189778.366512  105549.977697  12285.0  117827.0   \n",
       "education_num   32561.0      10.080679       2.572720      1.0       9.0   \n",
       "capital_gain    32561.0    1077.648844    7385.292085      0.0       0.0   \n",
       "capital_loss    32561.0      87.303830     402.960219      0.0       0.0   \n",
       "hours_per_week  32561.0      40.437456      12.347429      1.0      40.0   \n",
       "\n",
       "                     50%       75%        max  \n",
       "age                 37.0      48.0       90.0  \n",
       "fnlwgt          178356.0  237051.0  1484705.0  \n",
       "education_num       10.0      12.0       16.0  \n",
       "capital_gain         0.0       0.0    99999.0  \n",
       "capital_loss         0.0       0.0     4356.0  \n",
       "hours_per_week      40.0      45.0       99.0  "
      ]
     },
     "execution_count": 7,
     "metadata": {},
     "output_type": "execute_result"
    }
   ],
   "source": [
    "df.describe().T"
   ]
  },
  {
   "cell_type": "markdown",
   "metadata": {},
   "source": [
    "We have total of 15 columns in the datset. As per the initial analysis on the dataset we can say that we have 6 continuous features and 9 categorical fetures. \n",
    "\n",
    "## Categorical Features:\n",
    "\n",
    "1. workclass\n",
    "2. education\n",
    "3. marital-status\n",
    "4. occupation\n",
    "5. relationship\n",
    "6. race\n",
    "7. sex\n",
    "8. native-country\n",
    "9. income\n",
    "\n",
    "## Continuous Features:\n",
    "\n",
    "1. age\n",
    "2. fnlwgt\n",
    "3. education-num\n",
    "4. capital-gain\n",
    "5. capital-loss\n",
    "6. hours-per-week\n",
    "\n",
    "From the above feature analysis we could see that the task is classification task and the target variable is \"income\". By observing the dataset we have continuous and categorical variables for doing the classification analysis on the target variable (income).\n",
    "\n",
    "Here, both continuous and categorical features plays important role in classifying the target variable. further analysis on each feature is done in the below steps on how important the feature is useful in classification. \n"
   ]
  },
  {
   "cell_type": "code",
   "execution_count": 8,
   "metadata": {},
   "outputs": [
    {
     "data": {
      "text/html": [
       "<div>\n",
       "<style scoped>\n",
       "    .dataframe tbody tr th:only-of-type {\n",
       "        vertical-align: middle;\n",
       "    }\n",
       "\n",
       "    .dataframe tbody tr th {\n",
       "        vertical-align: top;\n",
       "    }\n",
       "\n",
       "    .dataframe thead th {\n",
       "        text-align: right;\n",
       "    }\n",
       "</style>\n",
       "<table border=\"1\" class=\"dataframe\">\n",
       "  <thead>\n",
       "    <tr style=\"text-align: right;\">\n",
       "      <th></th>\n",
       "      <th>age</th>\n",
       "      <th>fnlwgt</th>\n",
       "      <th>education_num</th>\n",
       "      <th>capital_gain</th>\n",
       "      <th>capital_loss</th>\n",
       "      <th>hours_per_week</th>\n",
       "    </tr>\n",
       "  </thead>\n",
       "  <tbody>\n",
       "    <tr>\n",
       "      <td>age</td>\n",
       "      <td>1.000000</td>\n",
       "      <td>-0.076646</td>\n",
       "      <td>0.036527</td>\n",
       "      <td>0.077674</td>\n",
       "      <td>0.057775</td>\n",
       "      <td>0.068756</td>\n",
       "    </tr>\n",
       "    <tr>\n",
       "      <td>fnlwgt</td>\n",
       "      <td>-0.076646</td>\n",
       "      <td>1.000000</td>\n",
       "      <td>-0.043195</td>\n",
       "      <td>0.000432</td>\n",
       "      <td>-0.010252</td>\n",
       "      <td>-0.018768</td>\n",
       "    </tr>\n",
       "    <tr>\n",
       "      <td>education_num</td>\n",
       "      <td>0.036527</td>\n",
       "      <td>-0.043195</td>\n",
       "      <td>1.000000</td>\n",
       "      <td>0.122630</td>\n",
       "      <td>0.079923</td>\n",
       "      <td>0.148123</td>\n",
       "    </tr>\n",
       "    <tr>\n",
       "      <td>capital_gain</td>\n",
       "      <td>0.077674</td>\n",
       "      <td>0.000432</td>\n",
       "      <td>0.122630</td>\n",
       "      <td>1.000000</td>\n",
       "      <td>-0.031615</td>\n",
       "      <td>0.078409</td>\n",
       "    </tr>\n",
       "    <tr>\n",
       "      <td>capital_loss</td>\n",
       "      <td>0.057775</td>\n",
       "      <td>-0.010252</td>\n",
       "      <td>0.079923</td>\n",
       "      <td>-0.031615</td>\n",
       "      <td>1.000000</td>\n",
       "      <td>0.054256</td>\n",
       "    </tr>\n",
       "    <tr>\n",
       "      <td>hours_per_week</td>\n",
       "      <td>0.068756</td>\n",
       "      <td>-0.018768</td>\n",
       "      <td>0.148123</td>\n",
       "      <td>0.078409</td>\n",
       "      <td>0.054256</td>\n",
       "      <td>1.000000</td>\n",
       "    </tr>\n",
       "  </tbody>\n",
       "</table>\n",
       "</div>"
      ],
      "text/plain": [
       "                     age    fnlwgt  education_num  capital_gain  capital_loss  \\\n",
       "age             1.000000 -0.076646       0.036527      0.077674      0.057775   \n",
       "fnlwgt         -0.076646  1.000000      -0.043195      0.000432     -0.010252   \n",
       "education_num   0.036527 -0.043195       1.000000      0.122630      0.079923   \n",
       "capital_gain    0.077674  0.000432       0.122630      1.000000     -0.031615   \n",
       "capital_loss    0.057775 -0.010252       0.079923     -0.031615      1.000000   \n",
       "hours_per_week  0.068756 -0.018768       0.148123      0.078409      0.054256   \n",
       "\n",
       "                hours_per_week  \n",
       "age                   0.068756  \n",
       "fnlwgt               -0.018768  \n",
       "education_num         0.148123  \n",
       "capital_gain          0.078409  \n",
       "capital_loss          0.054256  \n",
       "hours_per_week        1.000000  "
      ]
     },
     "execution_count": 8,
     "metadata": {},
     "output_type": "execute_result"
    }
   ],
   "source": [
    "correlation = df.corr()\n",
    "correlation"
   ]
  },
  {
   "cell_type": "code",
   "execution_count": 9,
   "metadata": {},
   "outputs": [
    {
     "data": {
      "text/plain": [
       "<matplotlib.axes._subplots.AxesSubplot at 0x186b2fa0f08>"
      ]
     },
     "execution_count": 9,
     "metadata": {},
     "output_type": "execute_result"
    },
    {
     "data": {
      "image/png": "[encoded data removed]",
      "text/plain": [
       "<Figure size 720x720 with 2 Axes>"
      ]
     },
     "metadata": {
      "needs_background": "light"
     },
     "output_type": "display_data"
    }
   ],
   "source": [
    "f, ax = plt.subplots(figsize=(10, 10))\n",
    "sns.heatmap(correlation, annot=True, fmt='.2f',mask=np.zeros_like(correlation, dtype=np.bool), \n",
    "            cmap=sns.diverging_palette(220, 10, as_cmap=True),square=True, ax=ax)"
   ]
  },
  {
   "cell_type": "markdown",
   "metadata": {},
   "source": [
    "#### Question 2:\n",
    "Create plots to visualize the distribution of the label \"income\" and the distribution of  each continuous feature. Do you notice anything that might require special treatment? Discuss your findings and suggestions on wrangling the data for the classification task."
   ]
  },
  {
   "cell_type": "code",
   "execution_count": 10,
   "metadata": {},
   "outputs": [
    {
     "data": {
      "image/png": "[encoded data removed]",
      "text/plain": [
       "<Figure size 864x864 with 36 Axes>"
      ]
     },
     "metadata": {
      "needs_background": "light"
     },
     "output_type": "display_data"
    }
   ],
   "source": [
    "from pandas.plotting import scatter_matrix\n",
    "\n",
    "attributes = [\"age\", \"fnlwgt\", \"education_num\",\n",
    "              \"capital_gain\", \"capital_loss\", \"hours_per_week\"]\n",
    "scatter_matrix(df[attributes], figsize=(12, 12))\n",
    "plt.show()"
   ]
  },
  {
   "cell_type": "code",
   "execution_count": 11,
   "metadata": {},
   "outputs": [
    {
     "data": {
      "text/plain": [
       "<matplotlib.axes._subplots.AxesSubplot at 0x186b2ebb1c8>"
      ]
     },
     "execution_count": 11,
     "metadata": {},
     "output_type": "execute_result"
    },
    {
     "data": {
      "image/png": "[encoded data removed]",
      "text/plain": [
       "<Figure size 432x288 with 1 Axes>"
      ]
     },
     "metadata": {
      "needs_background": "light"
     },
     "output_type": "display_data"
    }
   ],
   "source": [
    "sns.distplot(df[\"fnlwgt\"], fit = norm)"
   ]
  },
  {
   "cell_type": "code",
   "execution_count": 12,
   "metadata": {},
   "outputs": [
    {
     "data": {
      "text/plain": [
       "<matplotlib.axes._subplots.AxesSubplot at 0x186b34b5d08>"
      ]
     },
     "execution_count": 12,
     "metadata": {},
     "output_type": "execute_result"
    },
    {
     "data": {
      "image/png": "[encoded data removed]",
      "text/plain": [
       "<Figure size 432x288 with 1 Axes>"
      ]
     },
     "metadata": {
      "needs_background": "light"
     },
     "output_type": "display_data"
    }
   ],
   "source": [
    "sns.distplot(df[\"education_num\"], fit = norm)"
   ]
  },
  {
   "cell_type": "code",
   "execution_count": 13,
   "metadata": {},
   "outputs": [
    {
     "data": {
      "text/plain": [
       "<matplotlib.axes._subplots.AxesSubplot at 0x186b5232c08>"
      ]
     },
     "execution_count": 13,
     "metadata": {},
     "output_type": "execute_result"
    },
    {
     "data": {
      "image/png": "[encoded data removed]",
      "text/plain": [
       "<Figure size 432x288 with 1 Axes>"
      ]
     },
     "metadata": {
      "needs_background": "light"
     },
     "output_type": "display_data"
    }
   ],
   "source": [
    "sns.distplot(df[\"capital_gain\"], fit = norm)"
   ]
  },
  {
   "cell_type": "code",
   "execution_count": 14,
   "metadata": {},
   "outputs": [
    {
     "data": {
      "image/png": "[encoded data removed]",
      "text/plain": [
       "<Figure size 1440x1080 with 6 Axes>"
      ]
     },
     "metadata": {
      "needs_background": "light"
     },
     "output_type": "display_data"
    }
   ],
   "source": [
    "df.hist(bins=50, figsize=(20,15))\n",
    "plt.show()"
   ]
  },
  {
   "cell_type": "markdown",
   "metadata": {},
   "source": [
    "#### Distribution of each continuous feature\n",
    "\n",
    "<font color='blue'>age: From the distribution plot of age variable the data is slightly positively skewed. The variable seems fine with the data.</blue>\n",
    "\n",
    "<font color='blue'>fnlwgt: From the distribution of the data(fnlwgt) the majority of the data lies with in the normal curve. looks like the data is normal.</blue>\n",
    "\n",
    "<font color='blue'>education_num and hours_per_wek: From the data distribution plot of the eduation and hours_per_week variable the data is more concentated on some categories. </blue>\n",
    "\n",
    "<font color='blue'>Catpital_gain and capital_loss: from the data distribution plot of the gain and loss looks same like the data is peaked at one place. </blue>\n"
   ]
  },
  {
   "cell_type": "markdown",
   "metadata": {},
   "source": [
    "#### Visualization of some categorical features"
   ]
  },
  {
   "cell_type": "code",
   "execution_count": 15,
   "metadata": {},
   "outputs": [
    {
     "data": {
      "text/plain": [
       "<matplotlib.axes._subplots.AxesSubplot at 0x186b39d4088>"
      ]
     },
     "execution_count": 15,
     "metadata": {},
     "output_type": "execute_result"
    },
    {
     "data": {
      "image/png": "[encoded data removed]",
      "text/plain": [
       "<Figure size 432x288 with 1 Axes>"
      ]
     },
     "metadata": {
      "needs_background": "light"
     },
     "output_type": "display_data"
    }
   ],
   "source": [
    "df.workclass.value_counts().plot(kind=\"bar\", color=\"orange\")"
   ]
  },
  {
   "cell_type": "code",
   "execution_count": 16,
   "metadata": {},
   "outputs": [
    {
     "data": {
      "text/plain": [
       "<matplotlib.axes._subplots.AxesSubplot at 0x186b38820c8>"
      ]
     },
     "execution_count": 16,
     "metadata": {},
     "output_type": "execute_result"
    },
    {
     "data": {
      "image/png": "[encoded data removed]",
      "text/plain": [
       "<Figure size 432x288 with 1 Axes>"
      ]
     },
     "metadata": {
      "needs_background": "light"
     },
     "output_type": "display_data"
    }
   ],
   "source": [
    "df.education.value_counts().plot(kind=\"bar\", color=\"orange\")"
   ]
  },
  {
   "cell_type": "code",
   "execution_count": 17,
   "metadata": {},
   "outputs": [
    {
     "data": {
      "text/plain": [
       "<matplotlib.axes._subplots.AxesSubplot at 0x186b353d348>"
      ]
     },
     "execution_count": 17,
     "metadata": {},
     "output_type": "execute_result"
    },
    {
     "data": {
      "image/png": "[encoded data removed]",
      "text/plain": [
       "<Figure size 432x288 with 1 Axes>"
      ]
     },
     "metadata": {
      "needs_background": "light"
     },
     "output_type": "display_data"
    }
   ],
   "source": [
    "df.sex.value_counts().plot(kind=\"bar\", color=\"orange\")"
   ]
  },
  {
   "cell_type": "code",
   "execution_count": 18,
   "metadata": {},
   "outputs": [
    {
     "data": {
      "text/plain": [
       "<matplotlib.axes._subplots.AxesSubplot at 0x186b39a6308>"
      ]
     },
     "execution_count": 18,
     "metadata": {},
     "output_type": "execute_result"
    },
    {
     "data": {
      "image/png": "[encoded data removed]",
      "text/plain": [
       "<Figure size 432x288 with 1 Axes>"
      ]
     },
     "metadata": {
      "needs_background": "light"
     },
     "output_type": "display_data"
    }
   ],
   "source": [
    "df.occupation.value_counts().plot(kind=\"bar\", color=\"orange\")"
   ]
  },
  {
   "cell_type": "markdown",
   "metadata": {},
   "source": [
    "\n",
    "#### Identification of missing values \n",
    "<font color='blue'>We could see some missing varibales in the data with special charecter which needs to be taken care of. Listing out the features which have special charecters. </blue>\n",
    "\n",
    "\n",
    "<font color='blue'>Examining each feature for the special charecters: From the below obervations we could see that the numerical features are good and does not have any missing values. </blue>\n",
    "\n",
    "\n",
    "<font color='blue'>For the categorical features we have some variables with missing values. workclass, occupation and native_country have the missing values which can be replaced with Nan values and later it is imputed with most frequent values.</blue>"
   ]
  },
  {
   "cell_type": "code",
   "execution_count": 19,
   "metadata": {},
   "outputs": [
    {
     "data": {
      "text/plain": [
       "Index(['age', 'workclass', 'fnlwgt', 'education', 'education_num',\n",
       "       'marital_status', 'occupation', 'relationship', 'race', 'sex',\n",
       "       'capital_gain', 'capital_loss', 'hours_per_week', 'native_country',\n",
       "       'income'],\n",
       "      dtype='object')"
      ]
     },
     "execution_count": 19,
     "metadata": {},
     "output_type": "execute_result"
    }
   ],
   "source": [
    "df.columns"
   ]
  },
  {
   "cell_type": "code",
   "execution_count": 20,
   "metadata": {},
   "outputs": [
    {
     "data": {
      "text/plain": [
       " United-States                 29170\n",
       " Mexico                          643\n",
       " ?                               583\n",
       " Philippines                     198\n",
       " Germany                         137\n",
       " Canada                          121\n",
       " Puerto-Rico                     114\n",
       " El-Salvador                     106\n",
       " India                           100\n",
       " Cuba                             95\n",
       " England                          90\n",
       " Jamaica                          81\n",
       " South                            80\n",
       " China                            75\n",
       " Italy                            73\n",
       " Dominican-Republic               70\n",
       " Vietnam                          67\n",
       " Guatemala                        64\n",
       " Japan                            62\n",
       " Poland                           60\n",
       " Columbia                         59\n",
       " Taiwan                           51\n",
       " Haiti                            44\n",
       " Iran                             43\n",
       " Portugal                         37\n",
       " Nicaragua                        34\n",
       " Peru                             31\n",
       " Greece                           29\n",
       " France                           29\n",
       " Ecuador                          28\n",
       " Ireland                          24\n",
       " Hong                             20\n",
       " Trinadad&Tobago                  19\n",
       " Cambodia                         19\n",
       " Thailand                         18\n",
       " Laos                             18\n",
       " Yugoslavia                       16\n",
       " Outlying-US(Guam-USVI-etc)       14\n",
       " Honduras                         13\n",
       " Hungary                          13\n",
       " Scotland                         12\n",
       " Holand-Netherlands                1\n",
       "Name: native_country, dtype: int64"
      ]
     },
     "execution_count": 20,
     "metadata": {},
     "output_type": "execute_result"
    }
   ],
   "source": [
    "df['native_country'].value_counts()"
   ]
  },
  {
   "cell_type": "code",
   "execution_count": 21,
   "metadata": {},
   "outputs": [
    {
     "data": {
      "text/plain": [
       " Prof-specialty       4140\n",
       " Craft-repair         4099\n",
       " Exec-managerial      4066\n",
       " Adm-clerical         3770\n",
       " Sales                3650\n",
       " Other-service        3295\n",
       " Machine-op-inspct    2002\n",
       " ?                    1843\n",
       " Transport-moving     1597\n",
       " Handlers-cleaners    1370\n",
       " Farming-fishing       994\n",
       " Tech-support          928\n",
       " Protective-serv       649\n",
       " Priv-house-serv       149\n",
       " Armed-Forces            9\n",
       "Name: occupation, dtype: int64"
      ]
     },
     "execution_count": 21,
     "metadata": {},
     "output_type": "execute_result"
    }
   ],
   "source": [
    "df['occupation'].value_counts()"
   ]
  },
  {
   "cell_type": "code",
   "execution_count": 22,
   "metadata": {},
   "outputs": [
    {
     "data": {
      "text/plain": [
       " Private             22696\n",
       " Self-emp-not-inc     2541\n",
       " Local-gov            2093\n",
       " ?                    1836\n",
       " State-gov            1298\n",
       " Self-emp-inc         1116\n",
       " Federal-gov           960\n",
       " Without-pay            14\n",
       " Never-worked            7\n",
       "Name: workclass, dtype: int64"
      ]
     },
     "execution_count": 22,
     "metadata": {},
     "output_type": "execute_result"
    }
   ],
   "source": [
    "df['workclass'].value_counts()"
   ]
  },
  {
   "cell_type": "code",
   "execution_count": 8,
   "metadata": {},
   "outputs": [],
   "source": [
    "# Replacing the special charecters with Nan values \n",
    "## Now the Dataset filled with null values, which is easy in modeling.\n",
    "df.replace(' ?', np.nan, inplace= True)"
   ]
  },
  {
   "cell_type": "code",
   "execution_count": 9,
   "metadata": {},
   "outputs": [
    {
     "data": {
      "text/plain": [
       "age                  0\n",
       "workclass         1836\n",
       "fnlwgt               0\n",
       "education            0\n",
       "education_num        0\n",
       "marital_status       0\n",
       "occupation        1843\n",
       "relationship         0\n",
       "race                 0\n",
       "sex                  0\n",
       "capital_gain         0\n",
       "capital_loss         0\n",
       "hours_per_week       0\n",
       "native_country     583\n",
       "income               0\n",
       "dtype: int64"
      ]
     },
     "execution_count": 9,
     "metadata": {},
     "output_type": "execute_result"
    }
   ],
   "source": [
    "df.isnull().sum()"
   ]
  },
  {
   "cell_type": "code",
   "execution_count": 10,
   "metadata": {},
   "outputs": [],
   "source": [
    "from sklearn.preprocessing import LabelEncoder\n",
    "labelEncoder = LabelEncoder()\n",
    "df['income'] = labelEncoder.fit_transform(df['income'])"
   ]
  },
  {
   "cell_type": "markdown",
   "metadata": {},
   "source": [
    "Now the Dataset filled with null values, which is easy in modeling."
   ]
  },
  {
   "cell_type": "markdown",
   "metadata": {},
   "source": [
    "#### Question 3: \n",
    "Split the data into train and test data, What parameters do you use for splitting the data? Why? "
   ]
  },
  {
   "cell_type": "code",
   "execution_count": 11,
   "metadata": {},
   "outputs": [],
   "source": [
    "x=df.drop(['income'],axis=1)\n",
    "y=df['income']"
   ]
  },
  {
   "cell_type": "code",
   "execution_count": 12,
   "metadata": {},
   "outputs": [],
   "source": [
    "from sklearn.model_selection import train_test_split\n",
    "\n",
    "x_train, x_test, y_train, y_test = train_test_split(x, y, test_size = 0.2, stratify = y,random_state = 42)"
   ]
  },
  {
   "cell_type": "markdown",
   "metadata": {},
   "source": [
    "<font color='blue'>We have used stratified sampling for the Target variable. In Stratified random sample we split the data in proportion to the category size instead of whole data.</blue>"
   ]
  },
  {
   "cell_type": "code",
   "execution_count": 13,
   "metadata": {},
   "outputs": [
    {
     "data": {
      "text/plain": [
       "age                  0\n",
       "workclass         1473\n",
       "fnlwgt               0\n",
       "education            0\n",
       "education_num        0\n",
       "marital_status       0\n",
       "occupation        1479\n",
       "relationship         0\n",
       "race                 0\n",
       "sex                  0\n",
       "capital_gain         0\n",
       "capital_loss         0\n",
       "hours_per_week       0\n",
       "native_country     458\n",
       "dtype: int64"
      ]
     },
     "execution_count": 13,
     "metadata": {},
     "output_type": "execute_result"
    }
   ],
   "source": [
    "## Checking for the missing values in the Train and test sets \n",
    "x_train.isnull().sum()"
   ]
  },
  {
   "cell_type": "code",
   "execution_count": 14,
   "metadata": {},
   "outputs": [
    {
     "data": {
      "text/plain": [
       "age                 0\n",
       "workclass         363\n",
       "fnlwgt              0\n",
       "education           0\n",
       "education_num       0\n",
       "marital_status      0\n",
       "occupation        364\n",
       "relationship        0\n",
       "race                0\n",
       "sex                 0\n",
       "capital_gain        0\n",
       "capital_loss        0\n",
       "hours_per_week      0\n",
       "native_country    125\n",
       "dtype: int64"
      ]
     },
     "execution_count": 14,
     "metadata": {},
     "output_type": "execute_result"
    }
   ],
   "source": [
    "x_test.isnull().sum()"
   ]
  },
  {
   "cell_type": "code",
   "execution_count": 15,
   "metadata": {},
   "outputs": [],
   "source": [
    "#Selecting numerical dataframe in train set\n",
    "x_train_num = x_train.select_dtypes(include=np.number)\n",
    "\n",
    "#Selecting categorical dataframe in train set\n",
    "x_train_cat = x_train.select_dtypes(exclude=['number'])"
   ]
  },
  {
   "cell_type": "code",
   "execution_count": 17,
   "metadata": {},
   "outputs": [],
   "source": [
    "x_train_copy = x_train_cat.copy()"
   ]
  },
  {
   "cell_type": "code",
   "execution_count": 18,
   "metadata": {},
   "outputs": [],
   "source": [
    "for df in [x_train_copy]:\n",
    "    df['workclass'].fillna(x_train_copy['workclass'].mode()[0], inplace=True)\n",
    "    df['occupation'].fillna(x_train_copy['occupation'].mode()[0], inplace=True)\n",
    "    df['native_country'].fillna(x_train_copy['native_country'].mode()[0], inplace=True)"
   ]
  },
  {
   "cell_type": "markdown",
   "metadata": {},
   "source": [
    "#### Question 4: \n",
    "Use Pipeline, ColumnTransformer and OneHotEncoder to fit and evaluate Logistic Regression, Support Vector Machines, Naïve Bayes and K-Nearest Neighbors, with cross-validation to classify the \"price\". Compare the performance of different algorithms on Test set. Discuss your results and findings."
   ]
  },
  {
   "cell_type": "markdown",
   "metadata": {},
   "source": [
    "<font color='blue'>we are Using OneHotEncoder for converting the categorical variables in to OneHot vectors. Usually OneHotEncoder returns a sparse array, we are using toarray() method to conevrt it into dense array. we can also acheive this by setting the sparse parameter as False in OneHotEncoder(sparse=False).</font>\n",
    "\n",
    "<font color='blue'> The below is tested using the copy of the categorical variables for onehot encoding. </blue>"
   ]
  },
  {
   "cell_type": "code",
   "execution_count": 19,
   "metadata": {},
   "outputs": [
    {
     "data": {
      "text/plain": [
       "array([[0., 0., 0., ..., 1., 0., 0.],\n",
       "       [0., 0., 0., ..., 1., 0., 0.],\n",
       "       [0., 0., 0., ..., 1., 0., 0.],\n",
       "       ...,\n",
       "       [0., 0., 0., ..., 1., 0., 0.],\n",
       "       [0., 0., 0., ..., 1., 0., 0.],\n",
       "       [0., 0., 0., ..., 1., 0., 0.]])"
      ]
     },
     "execution_count": 19,
     "metadata": {},
     "output_type": "execute_result"
    }
   ],
   "source": [
    "# OneHotEncoding for the categorical variables \n",
    "from sklearn.preprocessing import OneHotEncoder\n",
    "\n",
    "cat_encoder = OneHotEncoder()\n",
    "x_train_cat_hot = cat_encoder.fit_transform(x_train_copy)\n",
    "x_train_cat_hot.toarray()"
   ]
  },
  {
   "cell_type": "code",
   "execution_count": 20,
   "metadata": {},
   "outputs": [
    {
     "data": {
      "text/plain": [
       "[array([' Federal-gov', ' Local-gov', ' Never-worked', ' Private',\n",
       "        ' Self-emp-inc', ' Self-emp-not-inc', ' State-gov', ' Without-pay'],\n",
       "       dtype=object),\n",
       " array([' 10th', ' 11th', ' 12th', ' 1st-4th', ' 5th-6th', ' 7th-8th',\n",
       "        ' 9th', ' Assoc-acdm', ' Assoc-voc', ' Bachelors', ' Doctorate',\n",
       "        ' HS-grad', ' Masters', ' Preschool', ' Prof-school',\n",
       "        ' Some-college'], dtype=object),\n",
       " array([' Divorced', ' Married-AF-spouse', ' Married-civ-spouse',\n",
       "        ' Married-spouse-absent', ' Never-married', ' Separated',\n",
       "        ' Widowed'], dtype=object),\n",
       " array([' Adm-clerical', ' Armed-Forces', ' Craft-repair',\n",
       "        ' Exec-managerial', ' Farming-fishing', ' Handlers-cleaners',\n",
       "        ' Machine-op-inspct', ' Other-service', ' Priv-house-serv',\n",
       "        ' Prof-specialty', ' Protective-serv', ' Sales', ' Tech-support',\n",
       "        ' Transport-moving'], dtype=object),\n",
       " array([' Husband', ' Not-in-family', ' Other-relative', ' Own-child',\n",
       "        ' Unmarried', ' Wife'], dtype=object),\n",
       " array([' Amer-Indian-Eskimo', ' Asian-Pac-Islander', ' Black', ' Other',\n",
       "        ' White'], dtype=object),\n",
       " array([' Female', ' Male'], dtype=object),\n",
       " array([' Cambodia', ' Canada', ' China', ' Columbia', ' Cuba',\n",
       "        ' Dominican-Republic', ' Ecuador', ' El-Salvador', ' England',\n",
       "        ' France', ' Germany', ' Greece', ' Guatemala', ' Haiti',\n",
       "        ' Holand-Netherlands', ' Honduras', ' Hong', ' Hungary', ' India',\n",
       "        ' Iran', ' Ireland', ' Italy', ' Jamaica', ' Japan', ' Laos',\n",
       "        ' Mexico', ' Nicaragua', ' Outlying-US(Guam-USVI-etc)', ' Peru',\n",
       "        ' Philippines', ' Poland', ' Portugal', ' Puerto-Rico',\n",
       "        ' Scotland', ' South', ' Taiwan', ' Thailand', ' Trinadad&Tobago',\n",
       "        ' United-States', ' Vietnam', ' Yugoslavia'], dtype=object)]"
      ]
     },
     "execution_count": 20,
     "metadata": {},
     "output_type": "execute_result"
    }
   ],
   "source": [
    "cat_encoder.categories_"
   ]
  },
  {
   "cell_type": "code",
   "execution_count": 21,
   "metadata": {},
   "outputs": [],
   "source": [
    "from sklearn.impute import SimpleImputer\n",
    "from sklearn.pipeline import Pipeline\n",
    "from sklearn.preprocessing import RobustScaler\n",
    "\n",
    "num_pipeline = Pipeline([('imputer', SimpleImputer(strategy='constant', fill_value=0)),('Robust_scaler',RobustScaler()),])\n",
    "cat_pipeline = Pipeline([('imputer', SimpleImputer(strategy='most_frequent', fill_value=0)),('onehot', OneHotEncoder(handle_unknown='ignore')),])"
   ]
  },
  {
   "cell_type": "code",
   "execution_count": 22,
   "metadata": {},
   "outputs": [],
   "source": [
    "from sklearn.compose import ColumnTransformer\n",
    "from sklearn.preprocessing import OneHotEncoder\n",
    "\n",
    "num_attribs = list(x_train_num.columns)\n",
    "cat_attribs = list(x_train_cat.columns)\n",
    "\n",
    "#full pipeline of numeric and categorical attributes\n",
    "full_pipeline = ColumnTransformer([(\"num\",num_pipeline,num_attribs),(\"cat\",cat_pipeline,cat_attribs)])\n",
    "\n",
    "#Using full_pipeline perform fit and transform on training data\n",
    "x_train_prepared = full_pipeline.fit_transform(x_train)"
   ]
  },
  {
   "cell_type": "code",
   "execution_count": 23,
   "metadata": {},
   "outputs": [],
   "source": [
    "# Using full_pipeline perform transform on training data\n",
    "x_test_prepared = full_pipeline.transform(x_test)"
   ]
  },
  {
   "cell_type": "code",
   "execution_count": 24,
   "metadata": {},
   "outputs": [
    {
     "data": {
      "text/plain": [
       "(26048, 105)"
      ]
     },
     "execution_count": 24,
     "metadata": {},
     "output_type": "execute_result"
    }
   ],
   "source": [
    "x_train_prepared.shape"
   ]
  },
  {
   "cell_type": "code",
   "execution_count": 25,
   "metadata": {},
   "outputs": [
    {
     "data": {
      "text/plain": [
       "(6513, 105)"
      ]
     },
     "execution_count": 25,
     "metadata": {},
     "output_type": "execute_result"
    }
   ],
   "source": [
    "x_test_prepared.shape"
   ]
  },
  {
   "cell_type": "code",
   "execution_count": 26,
   "metadata": {},
   "outputs": [
    {
     "data": {
      "text/plain": [
       "<bound method ColumnTransformer.get_feature_names of ColumnTransformer(transformers=[('num',\n",
       "                                 Pipeline(steps=[('imputer',\n",
       "                                                  SimpleImputer(fill_value=0,\n",
       "                                                                strategy='constant')),\n",
       "                                                 ('Robust_scaler',\n",
       "                                                  RobustScaler())]),\n",
       "                                 ['age', 'fnlwgt', 'education_num',\n",
       "                                  'capital_gain', 'capital_loss',\n",
       "                                  'hours_per_week']),\n",
       "                                ('cat',\n",
       "                                 Pipeline(steps=[('imputer',\n",
       "                                                  SimpleImputer(fill_value=0,\n",
       "                                                                strategy='most_frequent')),\n",
       "                                                 ('onehot',\n",
       "                                                  OneHotEncoder(handle_unknown='ignore'))]),\n",
       "                                 ['workclass', 'education', 'marital_status',\n",
       "                                  'occupation', 'relationship', 'race', 'sex',\n",
       "                                  'native_country'])])>"
      ]
     },
     "execution_count": 26,
     "metadata": {},
     "output_type": "execute_result"
    }
   ],
   "source": [
    "full_pipeline.get_feature_names"
   ]
  },
  {
   "cell_type": "markdown",
   "metadata": {},
   "source": [
    "<font color='blue'>Pipeline: we have imputed the missing values in the pipeline with simple imupter. Missing values in the categorical features is filled with the most frequent variable. Later we have column transformed the pipeline and attributes. the full pipeline is made fit_transformed with the train data and applied the transformation for the test data. </font>\n"
   ]
  },
  {
   "cell_type": "markdown",
   "metadata": {},
   "source": [
    "## Logistic Regression"
   ]
  },
  {
   "cell_type": "markdown",
   "metadata": {},
   "source": [
    "###  Prediction with Train and Test data "
   ]
  },
  {
   "cell_type": "code",
   "execution_count": 41,
   "metadata": {},
   "outputs": [
    {
     "name": "stdout",
     "output_type": "stream",
     "text": [
      "Accuracy on Train data : 0.8381833538083538\n",
      "Accuracy on Test data : 0.8424689083371718\n",
      "Cross validation accuracy: 0.8434042415182903\n"
     ]
    }
   ],
   "source": [
    "from sklearn.linear_model import LogisticRegression\n",
    "from sklearn import metrics\n",
    "from sklearn.model_selection import cross_val_score\n",
    "\n",
    "lgr_reg = LogisticRegression(random_state=42)\n",
    "lgr_mod = lgr_reg.fit(x_train_prepared, y_train)\n",
    "logreg_train_predictions = lgr_mod.predict(x_train_prepared)\n",
    "logreg_test_predictions = lgr_mod.predict(x_test_prepared)\n",
    "\n",
    "print(\"Accuracy on Train data :\", metrics.accuracy_score(y_train,logreg_train_predictions)) \n",
    "print(\"Accuracy on Test data :\", metrics.accuracy_score(y_test,logreg_test_predictions)) \n",
    "print(\"Cross validation accuracy:\", cross_val_score(lgr_reg, x_train_prepared, y_train, cv=10, scoring='accuracy').mean())"
   ]
  },
  {
   "cell_type": "markdown",
   "metadata": {},
   "source": [
    "## Support Vector Machines"
   ]
  },
  {
   "cell_type": "code",
   "execution_count": 42,
   "metadata": {},
   "outputs": [
    {
     "name": "stdout",
     "output_type": "stream",
     "text": [
      "Accuracy on Train data : 0.8015586609336609\n",
      "Accuracy on Test data : 0.8054659910947336\n",
      "Cross validation accuracy: 0.8015587417556336\n"
     ]
    }
   ],
   "source": [
    "from sklearn import svm\n",
    "\n",
    "svm_clf = svm.SVC()\n",
    "svm_mod = svm_clf.fit(x_train_prepared, y_train)\n",
    "svm_train_predictions = svm_mod.predict(x_train_prepared)\n",
    "svm_test_predictions = svm_mod.predict(x_test_prepared)\n",
    "print(\"Accuracy on Train data :\", metrics.accuracy_score(y_train,svm_train_predictions)) \n",
    "print(\"Accuracy on Test data :\", metrics.accuracy_score(y_test,svm_test_predictions)) \n",
    "print(\"Cross validation accuracy:\", cross_val_score(svm_clf, x_train_prepared, y_train, cv=10, scoring='accuracy').mean())"
   ]
  },
  {
   "cell_type": "markdown",
   "metadata": {},
   "source": [
    "## Naïve Bayes"
   ]
  },
  {
   "cell_type": "code",
   "execution_count": 43,
   "metadata": {},
   "outputs": [
    {
     "name": "stdout",
     "output_type": "stream",
     "text": [
      "Accuracy on Train data : 0.7990248771498771\n",
      "Accuracy on Test data : 0.8034699831107017\n",
      "Cross validation accuracy: 0.7987942955028584\n"
     ]
    }
   ],
   "source": [
    "from sklearn.naive_bayes import GaussianNB\n",
    "\n",
    "gnb = GaussianNB()\n",
    "gnb_mod=gnb.fit(x_train_prepared.toarray(), y_train)\n",
    "gnb_train_predictions = gnb_mod.predict(x_train_prepared.toarray())\n",
    "gnb_test_predictions = gnb_mod.predict(x_test_prepared.toarray())\n",
    "\n",
    "print(\"Accuracy on Train data :\", metrics.accuracy_score(y_train,gnb_train_predictions)) \n",
    "print(\"Accuracy on Test data :\", metrics.accuracy_score(y_test,gnb_test_predictions)) \n",
    "print(\"Cross validation accuracy:\", cross_val_score(gnb, x_train_prepared.toarray(), y_train, cv=10, scoring='accuracy').mean())"
   ]
  },
  {
   "cell_type": "markdown",
   "metadata": {},
   "source": [
    "## K-Nearest Neighbors"
   ]
  },
  {
   "cell_type": "code",
   "execution_count": 44,
   "metadata": {},
   "outputs": [
    {
     "name": "stdout",
     "output_type": "stream",
     "text": [
      "Accuracy on Train data : 0.8976504914004914\n",
      "Accuracy on Test data : 0.8587440503608168\n",
      "Cross validation accuracy: 0.8539621164545318\n"
     ]
    }
   ],
   "source": [
    "from sklearn.neighbors import KNeighborsClassifier\n",
    "knn = KNeighborsClassifier()\n",
    "knn_mod=knn.fit(x_train_prepared, y_train)\n",
    "knn_train_predictions = knn_mod.predict(x_train_prepared)\n",
    "knn_test_predictions = knn_mod.predict(x_test_prepared)\n",
    "\n",
    "print(\"Accuracy on Train data :\", metrics.accuracy_score(y_train,knn_train_predictions)) \n",
    "print(\"Accuracy on Test data :\", metrics.accuracy_score(y_test,knn_test_predictions)) \n",
    "print(\"Cross validation accuracy:\", cross_val_score(knn, x_train_prepared, y_train, cv=10, scoring='accuracy').mean())"
   ]
  },
  {
   "cell_type": "markdown",
   "metadata": {},
   "source": [
    "### Results and model comparisions"
   ]
  },
  {
   "cell_type": "markdown",
   "metadata": {},
   "source": [
    "|  Score/ Metric                          |  LogisticReression   | Support Vector Machines | Naïve Bayes   | K-Nearest Neighbors | \n",
    "|----------------------------------------|----------------------|-------------------------|---------------|---------------------|\n",
    "|Accuracy on Train data                  |    0.83818           |  0.80155                |    0.79902    | 0.89765             |\n",
    "|Accuray on Test data                    |    0.84246           |  0.80546                |    0.80346    | 0.85874             |\n",
    "|Cross validation Acuuracy on Train data |    0.84340           |  0.80155                |    0.79879    | 0.85396             |\n",
    "\n",
    "<font color='blue'>Logistic Regression: From the performence metrics of logistic regression on Train with tarin data is 0.838 and Test data is 0.842. we have done the Cross validation on the Train data, the accuracy of the of the cross validation is 0.8434 which is slighlty greater than normal Train accuracy.From the cross validation results,It is clear that the classification task accuracy is correctly defined with the Logistic Regreesion. </font>\n",
    "\n",
    "<font color='blue'>Support Vector Machines: From the performence metrics of Support Vector Machines on Train with tarin data is 0.801 and Test data is 0.8054. we have done the Cross validation on the Train data, the accuracy of the of the cross validation is 0.801 which is equal to Train accuracy.from the Cross validation results It is clear that the classification task accuracy is correctly defined with the Support Vector Machines.</font>\n",
    "\n",
    "<font color='blue'>Naïve Bayes: From the performence metrics of Naïve Bayes on Train with tarin data is 0.799 and Test data is 0.8034. we have done the Cross validation on the Train data, the accuracy of the of the cross validation is 0.798 which is equal to Train accuracy.So form the results it is clear that the correct classification derived through the method of cross validation. </font>\n",
    " \n",
    "<font color='blue'>K-Nearest Neighbors: From the performence metrics of K-Nearest Neighbors on Train with tarin data is 0.897 and Test data is 0.858. we have done the Cross validation on the Train data, the accuracy of the of the cross validation is 0.853 which is less than normal Train accuracy. Here, the Corss validation does not give equal accuracy with the Train vaidation.There is a differnce in the accuracy so it is slightly deviating.</font>\n",
    "\n",
    "<font color= 'blue'>K-Nearest Neighbors performed very good when compared with the other models with an accuracy of 0.897 which is highest of all models.</font> \n",
    "\n",
    "<font color= 'blue'>K-Nearest Neighbors performed very good when compared with the other models with an accuracy of test data which is 0.858 and it is highest of all models</font>"
   ]
  },
  {
   "cell_type": "markdown",
   "metadata": {},
   "source": [
    "#### Quesetion 5:\n",
    "Tune the parameters of each algorithms, and evaluate the performance of the best estimators on the Test dataset, does the results improved? Discuss your results and findings."
   ]
  },
  {
   "cell_type": "markdown",
   "metadata": {},
   "source": [
    "## Logistic Regression"
   ]
  },
  {
   "cell_type": "code",
   "execution_count": 45,
   "metadata": {},
   "outputs": [
    {
     "name": "stdout",
     "output_type": "stream",
     "text": [
      "Tuning Hyper Parameter with Accuracy Metrics\n"
     ]
    },
    {
     "data": {
      "text/plain": [
       "GridSearchCV(cv=10, estimator=LogisticRegression(), n_jobs=-1,\n",
       "             param_grid={'C': [0.01, 0.1, 1, 10, 20, 30],\n",
       "                         'penalty': ['l2', 'l1']},\n",
       "             scoring='accuracy')"
      ]
     },
     "execution_count": 45,
     "metadata": {},
     "output_type": "execute_result"
    }
   ],
   "source": [
    "from sklearn.model_selection import GridSearchCV\n",
    "parameters = {'C':[0.01, 0.1, 1, 10, 20, 30], 'penalty':['l2','l1']}\n",
    "logreg = LogisticRegression()\n",
    "print(\"Tuning Hyper Parameter with Accuracy Metrics\")\n",
    "clf = GridSearchCV(logreg, parameters, cv=10, scoring= 'accuracy', n_jobs = -1)\n",
    "clf.fit(x_train_prepared,y_train)"
   ]
  },
  {
   "cell_type": "code",
   "execution_count": 46,
   "metadata": {},
   "outputs": [],
   "source": [
    "final_model = clf.best_estimator_"
   ]
  },
  {
   "cell_type": "code",
   "execution_count": 47,
   "metadata": {},
   "outputs": [
    {
     "name": "stdout",
     "output_type": "stream",
     "text": [
      "Report:\n",
      "0.8489175495163519\n",
      "              precision    recall  f1-score   support\n",
      "\n",
      "           0       0.88      0.93      0.90      4945\n",
      "           1       0.73      0.59      0.65      1568\n",
      "\n",
      "    accuracy                           0.85      6513\n",
      "   macro avg       0.80      0.76      0.78      6513\n",
      "weighted avg       0.84      0.85      0.84      6513\n",
      "\n"
     ]
    }
   ],
   "source": [
    "from sklearn.metrics import classification_report\n",
    "print(\"Report:\")\n",
    "logreg_pred = final_model.predict(x_test_prepared)\n",
    "print(metrics.accuracy_score(y_test,logreg_pred))\n",
    "print(classification_report(y_test, logreg_pred))"
   ]
  },
  {
   "cell_type": "markdown",
   "metadata": {},
   "source": [
    "## Support Vector Machines"
   ]
  },
  {
   "cell_type": "code",
   "execution_count": 28,
   "metadata": {},
   "outputs": [
    {
     "name": "stdout",
     "output_type": "stream",
     "text": [
      "Tuning Hyper Parameter with Accuracy Metrics\n"
     ]
    },
    {
     "data": {
      "text/plain": [
       "RandomizedSearchCV(cv=5, estimator=LinearSVC(), n_jobs=-1,\n",
       "                   param_distributions={'C': array([1, 3, 5, 7, 9])},\n",
       "                   scoring='accuracy')"
      ]
     },
     "execution_count": 28,
     "metadata": {},
     "output_type": "execute_result"
    }
   ],
   "source": [
    "from sklearn.svm import LinearSVC\n",
    "from sklearn.model_selection import RandomizedSearchCV\n",
    "parameters = {'C':np.arange(1,10,2)}\n",
    "svm_model = LinearSVC()\n",
    "print(\"Tuning Hyper Parameter with Accuracy Metrics\")\n",
    "clf = RandomizedSearchCV(svm_model, parameters, cv=5, scoring= 'accuracy', n_jobs = -1)\n",
    "clf.fit(x_train_prepared,y_train)"
   ]
  },
  {
   "cell_type": "code",
   "execution_count": 29,
   "metadata": {},
   "outputs": [],
   "source": [
    "final_model = clf.best_estimator_"
   ]
  },
  {
   "cell_type": "code",
   "execution_count": 32,
   "metadata": {},
   "outputs": [
    {
     "name": "stdout",
     "output_type": "stream",
     "text": [
      "Report:\n",
      "0.852141870105942\n",
      "              precision    recall  f1-score   support\n",
      "\n",
      "           0       0.89      0.92      0.90      4945\n",
      "           1       0.72      0.64      0.68      1568\n",
      "\n",
      "    accuracy                           0.85      6513\n",
      "   macro avg       0.80      0.78      0.79      6513\n",
      "weighted avg       0.85      0.85      0.85      6513\n",
      "\n"
     ]
    }
   ],
   "source": [
    "print(\"Report:\")\n",
    "svm_pred = final_model.predict(x_test_prepared)\n",
    "print(metrics.accuracy_score(y_test,svm_pred))\n",
    "print(classification_report(y_test, svm_pred))"
   ]
  },
  {
   "cell_type": "markdown",
   "metadata": {},
   "source": [
    "## Naive Bayes"
   ]
  },
  {
   "cell_type": "code",
   "execution_count": 48,
   "metadata": {},
   "outputs": [
    {
     "name": "stdout",
     "output_type": "stream",
     "text": [
      "Tuning Hyper Parameter with Accuracy Metrics\n"
     ]
    },
    {
     "data": {
      "text/plain": [
       "GridSearchCV(cv=10, estimator=GaussianNB(), n_jobs=-1,\n",
       "             param_grid={'var_smoothing': array([1.00000000e+00, 8.11130831e-01, 6.57933225e-01, 5.33669923e-01,\n",
       "       4.32876128e-01, 3.51119173e-01, 2.84803587e-01, 2.31012970e-01,\n",
       "       1.87381742e-01, 1.51991108e-01, 1.23284674e-01, 1.00000000e-01,\n",
       "       8.11130831e-02, 6.57933225e-02, 5.33669923e-02, 4.32876128e-02,\n",
       "       3.51119173e-02, 2.848035...\n",
       "       1.23284674e-07, 1.00000000e-07, 8.11130831e-08, 6.57933225e-08,\n",
       "       5.33669923e-08, 4.32876128e-08, 3.51119173e-08, 2.84803587e-08,\n",
       "       2.31012970e-08, 1.87381742e-08, 1.51991108e-08, 1.23284674e-08,\n",
       "       1.00000000e-08, 8.11130831e-09, 6.57933225e-09, 5.33669923e-09,\n",
       "       4.32876128e-09, 3.51119173e-09, 2.84803587e-09, 2.31012970e-09,\n",
       "       1.87381742e-09, 1.51991108e-09, 1.23284674e-09, 1.00000000e-09])},\n",
       "             return_train_score=True, scoring='accuracy')"
      ]
     },
     "execution_count": 48,
     "metadata": {},
     "output_type": "execute_result"
    }
   ],
   "source": [
    "params_NB = {'var_smoothing': np.logspace(0,-9, num=100)}\n",
    "gnb = GaussianNB()\n",
    "\n",
    "print(\"Tuning Hyper Parameter with Accuracy Metrics\")\n",
    "gnb_clf = GridSearchCV(gnb, params_NB, cv=10, scoring= 'accuracy', n_jobs = -1, return_train_score=True)\n",
    "gnb_clf.fit(x_train_prepared.toarray(),y_train)"
   ]
  },
  {
   "cell_type": "code",
   "execution_count": 49,
   "metadata": {},
   "outputs": [],
   "source": [
    "final_model = gnb_clf.best_estimator_"
   ]
  },
  {
   "cell_type": "code",
   "execution_count": 50,
   "metadata": {},
   "outputs": [
    {
     "name": "stdout",
     "output_type": "stream",
     "text": [
      "Report:\n",
      "0.8341777982496545\n",
      "              precision    recall  f1-score   support\n",
      "\n",
      "           0       0.88      0.91      0.89      4945\n",
      "           1       0.67      0.60      0.64      1568\n",
      "\n",
      "    accuracy                           0.83      6513\n",
      "   macro avg       0.78      0.76      0.76      6513\n",
      "weighted avg       0.83      0.83      0.83      6513\n",
      "\n"
     ]
    }
   ],
   "source": [
    "print(\"Report:\")\n",
    "gnb_pred = final_model.predict(x_test_prepared.toarray())\n",
    "print(metrics.accuracy_score(y_test,gnb_pred))\n",
    "print(classification_report(y_test, gnb_pred))"
   ]
  },
  {
   "cell_type": "markdown",
   "metadata": {},
   "source": [
    "## KNN"
   ]
  },
  {
   "cell_type": "code",
   "execution_count": 113,
   "metadata": {},
   "outputs": [
    {
     "name": "stdout",
     "output_type": "stream",
     "text": [
      "Tuning Hyper Parameter with Accuracy Metrics\n"
     ]
    },
    {
     "data": {
      "text/plain": [
       "GridSearchCV(cv=10, estimator=KNeighborsClassifier(), n_jobs=-1,\n",
       "             param_grid={'n_neighbors': [1, 3, 5], 'p': [1, 2]},\n",
       "             return_train_score=True, scoring='accuracy')"
      ]
     },
     "execution_count": 113,
     "metadata": {},
     "output_type": "execute_result"
    }
   ],
   "source": [
    "params_KNN = {'n_neighbors': [1, 3, 5], \n",
    "              'p': [1, 2]}\n",
    "knn = KNeighborsClassifier()\n",
    "print(\"Tuning Hyper Parameter with Accuracy Metrics\")\n",
    "knn_clf = GridSearchCV(knn, params_KNN, cv=10, scoring= 'accuracy', n_jobs = -1, return_train_score=True)\n",
    "knn_clf.fit(x_train_prepared,y_train)"
   ]
  },
  {
   "cell_type": "code",
   "execution_count": 114,
   "metadata": {},
   "outputs": [],
   "source": [
    "final_model = knn_clf.best_estimator_"
   ]
  },
  {
   "cell_type": "code",
   "execution_count": 115,
   "metadata": {},
   "outputs": [
    {
     "name": "stdout",
     "output_type": "stream",
     "text": [
      "Report:\n",
      "0.857976354982343\n",
      "              precision    recall  f1-score   support\n",
      "\n",
      "           0       0.90      0.92      0.91      4945\n",
      "           1       0.72      0.67      0.70      1568\n",
      "\n",
      "    accuracy                           0.86      6513\n",
      "   macro avg       0.81      0.80      0.80      6513\n",
      "weighted avg       0.86      0.86      0.86      6513\n",
      "\n"
     ]
    }
   ],
   "source": [
    "print(\"Report:\")\n",
    "knn_pred = final_model.predict(x_test_prepared)\n",
    "print(metrics.accuracy_score(y_test,knn_pred))\n",
    "print(classification_report(y_test, knn_pred))"
   ]
  },
  {
   "cell_type": "markdown",
   "metadata": {},
   "source": [
    "##  performance of the best estimators on the Test dataset with parameter tuning"
   ]
  },
  {
   "cell_type": "markdown",
   "metadata": {},
   "source": [
    "|  Score/ Metric                          |  LogisticReression   | Support Vector Machines | Naïve Bayes   | K-Nearest Neighbors | \n",
    "|----------------------------------------|----------------------|-------------------------|---------------|--------------------\n",
    "|Accuray on Test data without parameter tuning |    0.842          |  0.805                |    0.803     | 0.858             |\n",
    "|Accuray on Test data with parameter tuning    |    0.848          |  0.852                |    0.834     | 0.857             |\n",
    "\n",
    "<font color='blue'> We performed paarmeter tuning on the models with different tuning parameters and observed increase in the performence metrics of Support Vector Machines and Naïve Bayes classification algorithms.\n",
    "    \n",
    "<font color='blue'>Where as there is not much change in the performence of LogisticReression and K-Nearest Neighbors. Even after tuning the parameters in the algorithm K-Nearest Neighbors is the best classification model next to Support Vector Machines.</font>\n",
    "\n"
   ]
  },
  {
   "cell_type": "markdown",
   "metadata": {},
   "source": [
    "### Data for Multiple-class Classification:\n",
    "* URL: https://www.kaggle.com/uciml/human-activity-recognition-with-smartphones\n",
    "* Column “Activity” is the target label to classify."
   ]
  },
  {
   "cell_type": "code",
   "execution_count": 51,
   "metadata": {},
   "outputs": [
    {
     "data": {
      "text/html": [
       "        <script type=\"text/javascript\">\n",
       "        window.PlotlyConfig = {MathJaxConfig: 'local'};\n",
       "        if (window.MathJax) {MathJax.Hub.Config({SVG: {font: \"STIX-Web\"}});}\n",
       "        if (typeof require !== 'undefined') {\n",
       "        require.undef(\"plotly\");\n",
       "        requirejs.config({\n",
       "            paths: {\n",
       "                'plotly': ['https://cdn.plot.ly/plotly-latest.min']\n",
       "            }\n",
       "        });\n",
       "        require(['plotly'], function(Plotly) {\n",
       "            window._Plotly = Plotly;\n",
       "        });\n",
       "        }\n",
       "        </script>\n",
       "        "
      ]
     },
     "metadata": {},
     "output_type": "display_data"
    }
   ],
   "source": [
    "#Import libraries\n",
    "import pandas as pd\n",
    "# To do linear algebra\n",
    "import numpy as np\n",
    "from numpy import pi\n",
    "\n",
    "np.random.seed(42)\n",
    "\n",
    "# To create plots\n",
    "from matplotlib.colors import rgb2hex\n",
    "from matplotlib.cm import get_cmap\n",
    "import matplotlib.pyplot as plt\n",
    "\n",
    "# To create nicer plots\n",
    "import seaborn as sns\n",
    "\n",
    "# To create interactive plots\n",
    "from plotly.offline import init_notebook_mode, iplot\n",
    "import plotly.graph_objs as go\n",
    "init_notebook_mode(connected=True)\n",
    "\n",
    "import warnings\n",
    "warnings.filterwarnings(action=\"ignore\")"
   ]
  },
  {
   "cell_type": "code",
   "execution_count": 52,
   "metadata": {},
   "outputs": [],
   "source": [
    "# On Kaggle Notebook, after adding the data, you can import the data as Pandas DataFrame as follows\n",
    "import pandas as pd\n",
    "df_train = pd.read_csv(\"train.csv\")\n",
    "df_test = pd.read_csv(\"test.csv\")"
   ]
  },
  {
   "cell_type": "code",
   "execution_count": 53,
   "metadata": {},
   "outputs": [
    {
     "name": "stdout",
     "output_type": "stream",
     "text": [
      "(7352, 563)\n",
      "(2947, 563)\n"
     ]
    }
   ],
   "source": [
    "print(df_train.shape)\n",
    "print(df_test.shape)"
   ]
  },
  {
   "cell_type": "code",
   "execution_count": 54,
   "metadata": {},
   "outputs": [
    {
     "data": {
      "text/html": [
       "<div>\n",
       "<style scoped>\n",
       "    .dataframe tbody tr th:only-of-type {\n",
       "        vertical-align: middle;\n",
       "    }\n",
       "\n",
       "    .dataframe tbody tr th {\n",
       "        vertical-align: top;\n",
       "    }\n",
       "\n",
       "    .dataframe thead th {\n",
       "        text-align: right;\n",
       "    }\n",
       "</style>\n",
       "<table border=\"1\" class=\"dataframe\">\n",
       "  <thead>\n",
       "    <tr style=\"text-align: right;\">\n",
       "      <th></th>\n",
       "      <th>tBodyAcc-mean()-X</th>\n",
       "      <th>tBodyAcc-mean()-Y</th>\n",
       "      <th>tBodyAcc-mean()-Z</th>\n",
       "      <th>tBodyAcc-std()-X</th>\n",
       "      <th>tBodyAcc-std()-Y</th>\n",
       "      <th>tBodyAcc-std()-Z</th>\n",
       "      <th>tBodyAcc-mad()-X</th>\n",
       "      <th>tBodyAcc-mad()-Y</th>\n",
       "      <th>tBodyAcc-mad()-Z</th>\n",
       "      <th>tBodyAcc-max()-X</th>\n",
       "      <th>...</th>\n",
       "      <th>fBodyBodyGyroJerkMag-skewness()</th>\n",
       "      <th>fBodyBodyGyroJerkMag-kurtosis()</th>\n",
       "      <th>angle(tBodyAccMean,gravity)</th>\n",
       "      <th>angle(tBodyAccJerkMean),gravityMean)</th>\n",
       "      <th>angle(tBodyGyroMean,gravityMean)</th>\n",
       "      <th>angle(tBodyGyroJerkMean,gravityMean)</th>\n",
       "      <th>angle(X,gravityMean)</th>\n",
       "      <th>angle(Y,gravityMean)</th>\n",
       "      <th>angle(Z,gravityMean)</th>\n",
       "      <th>subject</th>\n",
       "    </tr>\n",
       "  </thead>\n",
       "  <tbody>\n",
       "    <tr>\n",
       "      <td>count</td>\n",
       "      <td>7352.000000</td>\n",
       "      <td>7352.000000</td>\n",
       "      <td>7352.000000</td>\n",
       "      <td>7352.000000</td>\n",
       "      <td>7352.000000</td>\n",
       "      <td>7352.000000</td>\n",
       "      <td>7352.000000</td>\n",
       "      <td>7352.000000</td>\n",
       "      <td>7352.000000</td>\n",
       "      <td>7352.000000</td>\n",
       "      <td>...</td>\n",
       "      <td>7352.000000</td>\n",
       "      <td>7352.000000</td>\n",
       "      <td>7352.000000</td>\n",
       "      <td>7352.000000</td>\n",
       "      <td>7352.000000</td>\n",
       "      <td>7352.000000</td>\n",
       "      <td>7352.000000</td>\n",
       "      <td>7352.000000</td>\n",
       "      <td>7352.000000</td>\n",
       "      <td>7352.000000</td>\n",
       "    </tr>\n",
       "    <tr>\n",
       "      <td>mean</td>\n",
       "      <td>0.274488</td>\n",
       "      <td>-0.017695</td>\n",
       "      <td>-0.109141</td>\n",
       "      <td>-0.605438</td>\n",
       "      <td>-0.510938</td>\n",
       "      <td>-0.604754</td>\n",
       "      <td>-0.630512</td>\n",
       "      <td>-0.526907</td>\n",
       "      <td>-0.606150</td>\n",
       "      <td>-0.468604</td>\n",
       "      <td>...</td>\n",
       "      <td>-0.307009</td>\n",
       "      <td>-0.625294</td>\n",
       "      <td>0.008684</td>\n",
       "      <td>0.002186</td>\n",
       "      <td>0.008726</td>\n",
       "      <td>-0.005981</td>\n",
       "      <td>-0.489547</td>\n",
       "      <td>0.058593</td>\n",
       "      <td>-0.056515</td>\n",
       "      <td>17.413085</td>\n",
       "    </tr>\n",
       "    <tr>\n",
       "      <td>std</td>\n",
       "      <td>0.070261</td>\n",
       "      <td>0.040811</td>\n",
       "      <td>0.056635</td>\n",
       "      <td>0.448734</td>\n",
       "      <td>0.502645</td>\n",
       "      <td>0.418687</td>\n",
       "      <td>0.424073</td>\n",
       "      <td>0.485942</td>\n",
       "      <td>0.414122</td>\n",
       "      <td>0.544547</td>\n",
       "      <td>...</td>\n",
       "      <td>0.321011</td>\n",
       "      <td>0.307584</td>\n",
       "      <td>0.336787</td>\n",
       "      <td>0.448306</td>\n",
       "      <td>0.608303</td>\n",
       "      <td>0.477975</td>\n",
       "      <td>0.511807</td>\n",
       "      <td>0.297480</td>\n",
       "      <td>0.279122</td>\n",
       "      <td>8.975143</td>\n",
       "    </tr>\n",
       "    <tr>\n",
       "      <td>min</td>\n",
       "      <td>-1.000000</td>\n",
       "      <td>-1.000000</td>\n",
       "      <td>-1.000000</td>\n",
       "      <td>-1.000000</td>\n",
       "      <td>-0.999873</td>\n",
       "      <td>-1.000000</td>\n",
       "      <td>-1.000000</td>\n",
       "      <td>-1.000000</td>\n",
       "      <td>-1.000000</td>\n",
       "      <td>-1.000000</td>\n",
       "      <td>...</td>\n",
       "      <td>-0.995357</td>\n",
       "      <td>-0.999765</td>\n",
       "      <td>-0.976580</td>\n",
       "      <td>-1.000000</td>\n",
       "      <td>-1.000000</td>\n",
       "      <td>-1.000000</td>\n",
       "      <td>-1.000000</td>\n",
       "      <td>-1.000000</td>\n",
       "      <td>-1.000000</td>\n",
       "      <td>1.000000</td>\n",
       "    </tr>\n",
       "    <tr>\n",
       "      <td>25%</td>\n",
       "      <td>0.262975</td>\n",
       "      <td>-0.024863</td>\n",
       "      <td>-0.120993</td>\n",
       "      <td>-0.992754</td>\n",
       "      <td>-0.978129</td>\n",
       "      <td>-0.980233</td>\n",
       "      <td>-0.993591</td>\n",
       "      <td>-0.978162</td>\n",
       "      <td>-0.980251</td>\n",
       "      <td>-0.936219</td>\n",
       "      <td>...</td>\n",
       "      <td>-0.542602</td>\n",
       "      <td>-0.845573</td>\n",
       "      <td>-0.121527</td>\n",
       "      <td>-0.289549</td>\n",
       "      <td>-0.482273</td>\n",
       "      <td>-0.376341</td>\n",
       "      <td>-0.812065</td>\n",
       "      <td>-0.017885</td>\n",
       "      <td>-0.143414</td>\n",
       "      <td>8.000000</td>\n",
       "    </tr>\n",
       "    <tr>\n",
       "      <td>50%</td>\n",
       "      <td>0.277193</td>\n",
       "      <td>-0.017219</td>\n",
       "      <td>-0.108676</td>\n",
       "      <td>-0.946196</td>\n",
       "      <td>-0.851897</td>\n",
       "      <td>-0.859365</td>\n",
       "      <td>-0.950709</td>\n",
       "      <td>-0.857328</td>\n",
       "      <td>-0.857143</td>\n",
       "      <td>-0.881637</td>\n",
       "      <td>...</td>\n",
       "      <td>-0.343685</td>\n",
       "      <td>-0.711692</td>\n",
       "      <td>0.009509</td>\n",
       "      <td>0.008943</td>\n",
       "      <td>0.008735</td>\n",
       "      <td>-0.000368</td>\n",
       "      <td>-0.709417</td>\n",
       "      <td>0.182071</td>\n",
       "      <td>0.003181</td>\n",
       "      <td>19.000000</td>\n",
       "    </tr>\n",
       "    <tr>\n",
       "      <td>75%</td>\n",
       "      <td>0.288461</td>\n",
       "      <td>-0.010783</td>\n",
       "      <td>-0.097794</td>\n",
       "      <td>-0.242813</td>\n",
       "      <td>-0.034231</td>\n",
       "      <td>-0.262415</td>\n",
       "      <td>-0.292680</td>\n",
       "      <td>-0.066701</td>\n",
       "      <td>-0.265671</td>\n",
       "      <td>-0.017129</td>\n",
       "      <td>...</td>\n",
       "      <td>-0.126979</td>\n",
       "      <td>-0.503878</td>\n",
       "      <td>0.150865</td>\n",
       "      <td>0.292861</td>\n",
       "      <td>0.506187</td>\n",
       "      <td>0.359368</td>\n",
       "      <td>-0.509079</td>\n",
       "      <td>0.248353</td>\n",
       "      <td>0.107659</td>\n",
       "      <td>26.000000</td>\n",
       "    </tr>\n",
       "    <tr>\n",
       "      <td>max</td>\n",
       "      <td>1.000000</td>\n",
       "      <td>1.000000</td>\n",
       "      <td>1.000000</td>\n",
       "      <td>1.000000</td>\n",
       "      <td>0.916238</td>\n",
       "      <td>1.000000</td>\n",
       "      <td>1.000000</td>\n",
       "      <td>0.967664</td>\n",
       "      <td>1.000000</td>\n",
       "      <td>1.000000</td>\n",
       "      <td>...</td>\n",
       "      <td>0.989538</td>\n",
       "      <td>0.956845</td>\n",
       "      <td>1.000000</td>\n",
       "      <td>1.000000</td>\n",
       "      <td>0.998702</td>\n",
       "      <td>0.996078</td>\n",
       "      <td>1.000000</td>\n",
       "      <td>0.478157</td>\n",
       "      <td>1.000000</td>\n",
       "      <td>30.000000</td>\n",
       "    </tr>\n",
       "  </tbody>\n",
       "</table>\n",
       "<p>8 rows × 562 columns</p>\n",
       "</div>"
      ],
      "text/plain": [
       "       tBodyAcc-mean()-X  tBodyAcc-mean()-Y  tBodyAcc-mean()-Z  \\\n",
       "count        7352.000000        7352.000000        7352.000000   \n",
       "mean            0.274488          -0.017695          -0.109141   \n",
       "std             0.070261           0.040811           0.056635   \n",
       "min            -1.000000          -1.000000          -1.000000   \n",
       "25%             0.262975          -0.024863          -0.120993   \n",
       "50%             0.277193          -0.017219          -0.108676   \n",
       "75%             0.288461          -0.010783          -0.097794   \n",
       "max             1.000000           1.000000           1.000000   \n",
       "\n",
       "       tBodyAcc-std()-X  tBodyAcc-std()-Y  tBodyAcc-std()-Z  tBodyAcc-mad()-X  \\\n",
       "count       7352.000000       7352.000000       7352.000000       7352.000000   \n",
       "mean          -0.605438         -0.510938         -0.604754         -0.630512   \n",
       "std            0.448734          0.502645          0.418687          0.424073   \n",
       "min           -1.000000         -0.999873         -1.000000         -1.000000   \n",
       "25%           -0.992754         -0.978129         -0.980233         -0.993591   \n",
       "50%           -0.946196         -0.851897         -0.859365         -0.950709   \n",
       "75%           -0.242813         -0.034231         -0.262415         -0.292680   \n",
       "max            1.000000          0.916238          1.000000          1.000000   \n",
       "\n",
       "       tBodyAcc-mad()-Y  tBodyAcc-mad()-Z  tBodyAcc-max()-X  ...  \\\n",
       "count       7352.000000       7352.000000       7352.000000  ...   \n",
       "mean          -0.526907         -0.606150         -0.468604  ...   \n",
       "std            0.485942          0.414122          0.544547  ...   \n",
       "min           -1.000000         -1.000000         -1.000000  ...   \n",
       "25%           -0.978162         -0.980251         -0.936219  ...   \n",
       "50%           -0.857328         -0.857143         -0.881637  ...   \n",
       "75%           -0.066701         -0.265671         -0.017129  ...   \n",
       "max            0.967664          1.000000          1.000000  ...   \n",
       "\n",
       "       fBodyBodyGyroJerkMag-skewness()  fBodyBodyGyroJerkMag-kurtosis()  \\\n",
       "count                      7352.000000                      7352.000000   \n",
       "mean                         -0.307009                        -0.625294   \n",
       "std                           0.321011                         0.307584   \n",
       "min                          -0.995357                        -0.999765   \n",
       "25%                          -0.542602                        -0.845573   \n",
       "50%                          -0.343685                        -0.711692   \n",
       "75%                          -0.126979                        -0.503878   \n",
       "max                           0.989538                         0.956845   \n",
       "\n",
       "       angle(tBodyAccMean,gravity)  angle(tBodyAccJerkMean),gravityMean)  \\\n",
       "count                  7352.000000                           7352.000000   \n",
       "mean                      0.008684                              0.002186   \n",
       "std                       0.336787                              0.448306   \n",
       "min                      -0.976580                             -1.000000   \n",
       "25%                      -0.121527                             -0.289549   \n",
       "50%                       0.009509                              0.008943   \n",
       "75%                       0.150865                              0.292861   \n",
       "max                       1.000000                              1.000000   \n",
       "\n",
       "       angle(tBodyGyroMean,gravityMean)  angle(tBodyGyroJerkMean,gravityMean)  \\\n",
       "count                       7352.000000                           7352.000000   \n",
       "mean                           0.008726                             -0.005981   \n",
       "std                            0.608303                              0.477975   \n",
       "min                           -1.000000                             -1.000000   \n",
       "25%                           -0.482273                             -0.376341   \n",
       "50%                            0.008735                             -0.000368   \n",
       "75%                            0.506187                              0.359368   \n",
       "max                            0.998702                              0.996078   \n",
       "\n",
       "       angle(X,gravityMean)  angle(Y,gravityMean)  angle(Z,gravityMean)  \\\n",
       "count           7352.000000           7352.000000           7352.000000   \n",
       "mean              -0.489547              0.058593             -0.056515   \n",
       "std                0.511807              0.297480              0.279122   \n",
       "min               -1.000000             -1.000000             -1.000000   \n",
       "25%               -0.812065             -0.017885             -0.143414   \n",
       "50%               -0.709417              0.182071              0.003181   \n",
       "75%               -0.509079              0.248353              0.107659   \n",
       "max                1.000000              0.478157              1.000000   \n",
       "\n",
       "           subject  \n",
       "count  7352.000000  \n",
       "mean     17.413085  \n",
       "std       8.975143  \n",
       "min       1.000000  \n",
       "25%       8.000000  \n",
       "50%      19.000000  \n",
       "75%      26.000000  \n",
       "max      30.000000  \n",
       "\n",
       "[8 rows x 562 columns]"
      ]
     },
     "execution_count": 54,
     "metadata": {},
     "output_type": "execute_result"
    }
   ],
   "source": [
    "df_train.describe()"
   ]
  },
  {
   "cell_type": "markdown",
   "metadata": {},
   "source": [
    "## Pre-Processing Data"
   ]
  },
  {
   "cell_type": "code",
   "execution_count": 55,
   "metadata": {},
   "outputs": [
    {
     "data": {
      "text/plain": [
       "Index(['tBodyAccmeanX', 'tBodyAccmeanY', 'tBodyAccmeanZ', 'tBodyAccstdX',\n",
       "       'tBodyAccstdY', 'tBodyAccstdZ', 'tBodyAccmadX', 'tBodyAccmadY',\n",
       "       'tBodyAccmadZ', 'tBodyAccmaxX',\n",
       "       ...\n",
       "       'fBodyBodyGyroJerkMagkurtosis', 'angletBodyAccMeangravity',\n",
       "       'angletBodyAccJerkMeangravityMean', 'angletBodyGyroMeangravityMean',\n",
       "       'angletBodyGyroJerkMeangravityMean', 'angleXgravityMean',\n",
       "       'angleYgravityMean', 'angleZgravityMean', 'subject', 'Activity'],\n",
       "      dtype='object', length=563)"
      ]
     },
     "execution_count": 55,
     "metadata": {},
     "output_type": "execute_result"
    }
   ],
   "source": [
    "columns = df_train.columns\n",
    "\n",
    "# Removing '()' from column names\n",
    "columns = columns.str.replace('[()]','')\n",
    "columns = columns.str.replace('[-]', '')\n",
    "columns = columns.str.replace('[,]','')\n",
    "\n",
    "df_train.columns = columns\n",
    "df_test.columns = columns\n",
    "\n",
    "df_train.columns"
   ]
  },
  {
   "cell_type": "code",
   "execution_count": 56,
   "metadata": {},
   "outputs": [
    {
     "name": "stdout",
     "output_type": "stream",
     "text": [
      "Labels: ['STANDING' 'SITTING' 'LAYING' 'WALKING' 'WALKING_DOWNSTAIRS'\n",
      " 'WALKING_UPSTAIRS']\n"
     ]
    }
   ],
   "source": [
    "print('Labels:', df_train['Activity'].unique())"
   ]
  },
  {
   "cell_type": "code",
   "execution_count": 57,
   "metadata": {},
   "outputs": [
    {
     "name": "stdout",
     "output_type": "stream",
     "text": [
      "Labels: ['STANDING' 'SITTING' 'LAYING' 'WALKING' 'WALKING_DOWNSTAIRS'\n",
      " 'WALKING_UPSTAIRS']\n"
     ]
    }
   ],
   "source": [
    "print('Labels:', df_test['Activity'].unique())"
   ]
  },
  {
   "cell_type": "code",
   "execution_count": 58,
   "metadata": {},
   "outputs": [
    {
     "name": "stdout",
     "output_type": "stream",
     "text": [
      "<class 'pandas.core.frame.DataFrame'>\n",
      "RangeIndex: 7352 entries, 0 to 7351\n",
      "Columns: 563 entries, tBodyAccmeanX to Activity\n",
      "dtypes: float64(561), int64(1), object(1)\n",
      "memory usage: 31.6+ MB\n"
     ]
    }
   ],
   "source": [
    "df_train.info()"
   ]
  },
  {
   "cell_type": "code",
   "execution_count": 59,
   "metadata": {},
   "outputs": [
    {
     "name": "stdout",
     "output_type": "stream",
     "text": [
      "<class 'pandas.core.frame.DataFrame'>\n",
      "RangeIndex: 2947 entries, 0 to 2946\n",
      "Columns: 563 entries, tBodyAccmeanX to Activity\n",
      "dtypes: float64(561), int64(1), object(1)\n",
      "memory usage: 12.7+ MB\n"
     ]
    }
   ],
   "source": [
    "df_test.info()"
   ]
  },
  {
   "cell_type": "code",
   "execution_count": 60,
   "metadata": {},
   "outputs": [
    {
     "name": "stdout",
     "output_type": "stream",
     "text": [
      "Number of null values in train data: 0\n"
     ]
    }
   ],
   "source": [
    "print(\"Number of null values in train data:\" ,df_train.isnull().sum().sum())"
   ]
  },
  {
   "cell_type": "code",
   "execution_count": 61,
   "metadata": {},
   "outputs": [
    {
     "name": "stdout",
     "output_type": "stream",
     "text": [
      "Number of null values in test data: 0\n"
     ]
    }
   ],
   "source": [
    "print(\"Number of null values in test data:\" ,df_test.isnull().sum().sum())"
   ]
  },
  {
   "cell_type": "code",
   "execution_count": 63,
   "metadata": {},
   "outputs": [
    {
     "name": "stdout",
     "output_type": "stream",
     "text": [
      "No of duplicates in train data: 0\n"
     ]
    }
   ],
   "source": [
    "print('No of duplicates in train data: {}'.format(sum(df_train.duplicated())))"
   ]
  },
  {
   "cell_type": "code",
   "execution_count": 64,
   "metadata": {},
   "outputs": [
    {
     "name": "stdout",
     "output_type": "stream",
     "text": [
      "No of duplicates in test data: 0\n"
     ]
    }
   ],
   "source": [
    "print('No of duplicates in test data: {}'.format(sum(df_test.duplicated())))"
   ]
  },
  {
   "cell_type": "markdown",
   "metadata": {},
   "source": [
    "#### Question 1:\n",
    "Create plots to visualize the distribution of the label \"Activity\". If the distribution of each class is balanced?\n",
    "If imbalanced, what strategies would you adopt and why?"
   ]
  },
  {
   "cell_type": "markdown",
   "metadata": {},
   "source": [
    "<font color='blue'>Imbalanced data is one of the major issues in machine learning as there won't be any guaranty that data collected will always be balanced. Here we can say that distribution of data is balanced as data seems equally distributed with small fluctuations.\n",
    "    \n",
    "We can assume and divide the activities into two categories, Laying, Standing, Sitting activities into one category and Walking, Walking upstairs, Walking downstairs as another category. We can observe some variance between Walking upstairs and Walking downstairs activities, but we believe that we can ignore this small variation as this might be because of different walking styles of individuals having a constant sampling rate in smartphones.\n",
    "\n",
    "If data is imbalanced, we can adopt strategies like Downsampling, Upsampling, Synthetic Minority Oversampling Technique (SMOTE). We prefer to perform SMOTE if the data distribution is imbalanced as this technique tries to add a new instance that is similar to the original data.</font>"
   ]
  },
  {
   "cell_type": "code",
   "execution_count": 65,
   "metadata": {},
   "outputs": [
    {
     "data": {
      "text/plain": [
       "LAYING                1407\n",
       "STANDING              1374\n",
       "SITTING               1286\n",
       "WALKING               1226\n",
       "WALKING_UPSTAIRS      1073\n",
       "WALKING_DOWNSTAIRS     986\n",
       "Name: Activity, dtype: int64"
      ]
     },
     "execution_count": 65,
     "metadata": {},
     "output_type": "execute_result"
    }
   ],
   "source": [
    "df_train.Activity.value_counts()"
   ]
  },
  {
   "cell_type": "code",
   "execution_count": 66,
   "metadata": {},
   "outputs": [
    {
     "data": {
      "text/plain": [
       "LAYING                537\n",
       "STANDING              532\n",
       "WALKING               496\n",
       "SITTING               491\n",
       "WALKING_UPSTAIRS      471\n",
       "WALKING_DOWNSTAIRS    420\n",
       "Name: Activity, dtype: int64"
      ]
     },
     "execution_count": 66,
     "metadata": {},
     "output_type": "execute_result"
    }
   ],
   "source": [
    "df_test.Activity.value_counts()"
   ]
  },
  {
   "cell_type": "code",
   "execution_count": 67,
   "metadata": {},
   "outputs": [
    {
     "data": {
      "text/html": [
       "<div>\n",
       "<style scoped>\n",
       "    .dataframe tbody tr th:only-of-type {\n",
       "        vertical-align: middle;\n",
       "    }\n",
       "\n",
       "    .dataframe tbody tr th {\n",
       "        vertical-align: top;\n",
       "    }\n",
       "\n",
       "    .dataframe thead th {\n",
       "        text-align: right;\n",
       "    }\n",
       "</style>\n",
       "<table border=\"1\" class=\"dataframe\">\n",
       "  <thead>\n",
       "    <tr style=\"text-align: right;\">\n",
       "      <th>Activity</th>\n",
       "      <th>LAYING</th>\n",
       "      <th>SITTING</th>\n",
       "      <th>STANDING</th>\n",
       "      <th>WALKING</th>\n",
       "      <th>WALKING_DOWNSTAIRS</th>\n",
       "      <th>WALKING_UPSTAIRS</th>\n",
       "    </tr>\n",
       "    <tr>\n",
       "      <th>subject</th>\n",
       "      <th></th>\n",
       "      <th></th>\n",
       "      <th></th>\n",
       "      <th></th>\n",
       "      <th></th>\n",
       "      <th></th>\n",
       "    </tr>\n",
       "  </thead>\n",
       "  <tbody>\n",
       "    <tr>\n",
       "      <td>1</td>\n",
       "      <td>50</td>\n",
       "      <td>47</td>\n",
       "      <td>53</td>\n",
       "      <td>95</td>\n",
       "      <td>49</td>\n",
       "      <td>53</td>\n",
       "    </tr>\n",
       "    <tr>\n",
       "      <td>3</td>\n",
       "      <td>62</td>\n",
       "      <td>52</td>\n",
       "      <td>61</td>\n",
       "      <td>58</td>\n",
       "      <td>49</td>\n",
       "      <td>59</td>\n",
       "    </tr>\n",
       "    <tr>\n",
       "      <td>5</td>\n",
       "      <td>52</td>\n",
       "      <td>44</td>\n",
       "      <td>56</td>\n",
       "      <td>56</td>\n",
       "      <td>47</td>\n",
       "      <td>47</td>\n",
       "    </tr>\n",
       "    <tr>\n",
       "      <td>6</td>\n",
       "      <td>57</td>\n",
       "      <td>55</td>\n",
       "      <td>57</td>\n",
       "      <td>57</td>\n",
       "      <td>48</td>\n",
       "      <td>51</td>\n",
       "    </tr>\n",
       "    <tr>\n",
       "      <td>7</td>\n",
       "      <td>52</td>\n",
       "      <td>48</td>\n",
       "      <td>53</td>\n",
       "      <td>57</td>\n",
       "      <td>47</td>\n",
       "      <td>51</td>\n",
       "    </tr>\n",
       "    <tr>\n",
       "      <td>8</td>\n",
       "      <td>54</td>\n",
       "      <td>46</td>\n",
       "      <td>54</td>\n",
       "      <td>48</td>\n",
       "      <td>38</td>\n",
       "      <td>41</td>\n",
       "    </tr>\n",
       "    <tr>\n",
       "      <td>11</td>\n",
       "      <td>57</td>\n",
       "      <td>53</td>\n",
       "      <td>47</td>\n",
       "      <td>59</td>\n",
       "      <td>46</td>\n",
       "      <td>54</td>\n",
       "    </tr>\n",
       "    <tr>\n",
       "      <td>14</td>\n",
       "      <td>51</td>\n",
       "      <td>54</td>\n",
       "      <td>60</td>\n",
       "      <td>59</td>\n",
       "      <td>45</td>\n",
       "      <td>54</td>\n",
       "    </tr>\n",
       "    <tr>\n",
       "      <td>15</td>\n",
       "      <td>72</td>\n",
       "      <td>59</td>\n",
       "      <td>53</td>\n",
       "      <td>54</td>\n",
       "      <td>42</td>\n",
       "      <td>48</td>\n",
       "    </tr>\n",
       "    <tr>\n",
       "      <td>16</td>\n",
       "      <td>70</td>\n",
       "      <td>69</td>\n",
       "      <td>78</td>\n",
       "      <td>51</td>\n",
       "      <td>47</td>\n",
       "      <td>51</td>\n",
       "    </tr>\n",
       "    <tr>\n",
       "      <td>17</td>\n",
       "      <td>71</td>\n",
       "      <td>64</td>\n",
       "      <td>78</td>\n",
       "      <td>61</td>\n",
       "      <td>46</td>\n",
       "      <td>48</td>\n",
       "    </tr>\n",
       "    <tr>\n",
       "      <td>19</td>\n",
       "      <td>83</td>\n",
       "      <td>73</td>\n",
       "      <td>73</td>\n",
       "      <td>52</td>\n",
       "      <td>39</td>\n",
       "      <td>40</td>\n",
       "    </tr>\n",
       "    <tr>\n",
       "      <td>21</td>\n",
       "      <td>90</td>\n",
       "      <td>85</td>\n",
       "      <td>89</td>\n",
       "      <td>52</td>\n",
       "      <td>45</td>\n",
       "      <td>47</td>\n",
       "    </tr>\n",
       "    <tr>\n",
       "      <td>22</td>\n",
       "      <td>72</td>\n",
       "      <td>62</td>\n",
       "      <td>63</td>\n",
       "      <td>46</td>\n",
       "      <td>36</td>\n",
       "      <td>42</td>\n",
       "    </tr>\n",
       "    <tr>\n",
       "      <td>23</td>\n",
       "      <td>72</td>\n",
       "      <td>68</td>\n",
       "      <td>68</td>\n",
       "      <td>59</td>\n",
       "      <td>54</td>\n",
       "      <td>51</td>\n",
       "    </tr>\n",
       "    <tr>\n",
       "      <td>25</td>\n",
       "      <td>73</td>\n",
       "      <td>65</td>\n",
       "      <td>74</td>\n",
       "      <td>74</td>\n",
       "      <td>58</td>\n",
       "      <td>65</td>\n",
       "    </tr>\n",
       "    <tr>\n",
       "      <td>26</td>\n",
       "      <td>76</td>\n",
       "      <td>78</td>\n",
       "      <td>74</td>\n",
       "      <td>59</td>\n",
       "      <td>50</td>\n",
       "      <td>55</td>\n",
       "    </tr>\n",
       "    <tr>\n",
       "      <td>27</td>\n",
       "      <td>74</td>\n",
       "      <td>70</td>\n",
       "      <td>80</td>\n",
       "      <td>57</td>\n",
       "      <td>44</td>\n",
       "      <td>51</td>\n",
       "    </tr>\n",
       "    <tr>\n",
       "      <td>28</td>\n",
       "      <td>80</td>\n",
       "      <td>72</td>\n",
       "      <td>79</td>\n",
       "      <td>54</td>\n",
       "      <td>46</td>\n",
       "      <td>51</td>\n",
       "    </tr>\n",
       "    <tr>\n",
       "      <td>29</td>\n",
       "      <td>69</td>\n",
       "      <td>60</td>\n",
       "      <td>65</td>\n",
       "      <td>53</td>\n",
       "      <td>48</td>\n",
       "      <td>49</td>\n",
       "    </tr>\n",
       "    <tr>\n",
       "      <td>30</td>\n",
       "      <td>70</td>\n",
       "      <td>62</td>\n",
       "      <td>59</td>\n",
       "      <td>65</td>\n",
       "      <td>62</td>\n",
       "      <td>65</td>\n",
       "    </tr>\n",
       "  </tbody>\n",
       "</table>\n",
       "</div>"
      ],
      "text/plain": [
       "Activity  LAYING  SITTING  STANDING  WALKING  WALKING_DOWNSTAIRS  \\\n",
       "subject                                                            \n",
       "1             50       47        53       95                  49   \n",
       "3             62       52        61       58                  49   \n",
       "5             52       44        56       56                  47   \n",
       "6             57       55        57       57                  48   \n",
       "7             52       48        53       57                  47   \n",
       "8             54       46        54       48                  38   \n",
       "11            57       53        47       59                  46   \n",
       "14            51       54        60       59                  45   \n",
       "15            72       59        53       54                  42   \n",
       "16            70       69        78       51                  47   \n",
       "17            71       64        78       61                  46   \n",
       "19            83       73        73       52                  39   \n",
       "21            90       85        89       52                  45   \n",
       "22            72       62        63       46                  36   \n",
       "23            72       68        68       59                  54   \n",
       "25            73       65        74       74                  58   \n",
       "26            76       78        74       59                  50   \n",
       "27            74       70        80       57                  44   \n",
       "28            80       72        79       54                  46   \n",
       "29            69       60        65       53                  48   \n",
       "30            70       62        59       65                  62   \n",
       "\n",
       "Activity  WALKING_UPSTAIRS  \n",
       "subject                     \n",
       "1                       53  \n",
       "3                       59  \n",
       "5                       47  \n",
       "6                       51  \n",
       "7                       51  \n",
       "8                       41  \n",
       "11                      54  \n",
       "14                      54  \n",
       "15                      48  \n",
       "16                      51  \n",
       "17                      48  \n",
       "19                      40  \n",
       "21                      47  \n",
       "22                      42  \n",
       "23                      51  \n",
       "25                      65  \n",
       "26                      55  \n",
       "27                      51  \n",
       "28                      51  \n",
       "29                      49  \n",
       "30                      65  "
      ]
     },
     "execution_count": 67,
     "metadata": {},
     "output_type": "execute_result"
    }
   ],
   "source": [
    "pd.crosstab(df_train.subject, df_train.Activity)"
   ]
  },
  {
   "cell_type": "code",
   "execution_count": 68,
   "metadata": {},
   "outputs": [
    {
     "data": {
      "text/html": [
       "<div>\n",
       "<style scoped>\n",
       "    .dataframe tbody tr th:only-of-type {\n",
       "        vertical-align: middle;\n",
       "    }\n",
       "\n",
       "    .dataframe tbody tr th {\n",
       "        vertical-align: top;\n",
       "    }\n",
       "\n",
       "    .dataframe thead th {\n",
       "        text-align: right;\n",
       "    }\n",
       "</style>\n",
       "<table border=\"1\" class=\"dataframe\">\n",
       "  <thead>\n",
       "    <tr style=\"text-align: right;\">\n",
       "      <th>Activity</th>\n",
       "      <th>LAYING</th>\n",
       "      <th>SITTING</th>\n",
       "      <th>STANDING</th>\n",
       "      <th>WALKING</th>\n",
       "      <th>WALKING_DOWNSTAIRS</th>\n",
       "      <th>WALKING_UPSTAIRS</th>\n",
       "    </tr>\n",
       "    <tr>\n",
       "      <th>subject</th>\n",
       "      <th></th>\n",
       "      <th></th>\n",
       "      <th></th>\n",
       "      <th></th>\n",
       "      <th></th>\n",
       "      <th></th>\n",
       "    </tr>\n",
       "  </thead>\n",
       "  <tbody>\n",
       "    <tr>\n",
       "      <td>2</td>\n",
       "      <td>48</td>\n",
       "      <td>46</td>\n",
       "      <td>54</td>\n",
       "      <td>59</td>\n",
       "      <td>47</td>\n",
       "      <td>48</td>\n",
       "    </tr>\n",
       "    <tr>\n",
       "      <td>4</td>\n",
       "      <td>54</td>\n",
       "      <td>50</td>\n",
       "      <td>56</td>\n",
       "      <td>60</td>\n",
       "      <td>45</td>\n",
       "      <td>52</td>\n",
       "    </tr>\n",
       "    <tr>\n",
       "      <td>9</td>\n",
       "      <td>50</td>\n",
       "      <td>50</td>\n",
       "      <td>45</td>\n",
       "      <td>52</td>\n",
       "      <td>42</td>\n",
       "      <td>49</td>\n",
       "    </tr>\n",
       "    <tr>\n",
       "      <td>10</td>\n",
       "      <td>58</td>\n",
       "      <td>54</td>\n",
       "      <td>44</td>\n",
       "      <td>53</td>\n",
       "      <td>38</td>\n",
       "      <td>47</td>\n",
       "    </tr>\n",
       "    <tr>\n",
       "      <td>12</td>\n",
       "      <td>60</td>\n",
       "      <td>51</td>\n",
       "      <td>61</td>\n",
       "      <td>50</td>\n",
       "      <td>46</td>\n",
       "      <td>52</td>\n",
       "    </tr>\n",
       "    <tr>\n",
       "      <td>13</td>\n",
       "      <td>62</td>\n",
       "      <td>49</td>\n",
       "      <td>57</td>\n",
       "      <td>57</td>\n",
       "      <td>47</td>\n",
       "      <td>55</td>\n",
       "    </tr>\n",
       "    <tr>\n",
       "      <td>18</td>\n",
       "      <td>65</td>\n",
       "      <td>57</td>\n",
       "      <td>73</td>\n",
       "      <td>56</td>\n",
       "      <td>55</td>\n",
       "      <td>58</td>\n",
       "    </tr>\n",
       "    <tr>\n",
       "      <td>20</td>\n",
       "      <td>68</td>\n",
       "      <td>66</td>\n",
       "      <td>73</td>\n",
       "      <td>51</td>\n",
       "      <td>45</td>\n",
       "      <td>51</td>\n",
       "    </tr>\n",
       "    <tr>\n",
       "      <td>24</td>\n",
       "      <td>72</td>\n",
       "      <td>68</td>\n",
       "      <td>69</td>\n",
       "      <td>58</td>\n",
       "      <td>55</td>\n",
       "      <td>59</td>\n",
       "    </tr>\n",
       "  </tbody>\n",
       "</table>\n",
       "</div>"
      ],
      "text/plain": [
       "Activity  LAYING  SITTING  STANDING  WALKING  WALKING_DOWNSTAIRS  \\\n",
       "subject                                                            \n",
       "2             48       46        54       59                  47   \n",
       "4             54       50        56       60                  45   \n",
       "9             50       50        45       52                  42   \n",
       "10            58       54        44       53                  38   \n",
       "12            60       51        61       50                  46   \n",
       "13            62       49        57       57                  47   \n",
       "18            65       57        73       56                  55   \n",
       "20            68       66        73       51                  45   \n",
       "24            72       68        69       58                  55   \n",
       "\n",
       "Activity  WALKING_UPSTAIRS  \n",
       "subject                     \n",
       "2                       48  \n",
       "4                       52  \n",
       "9                       49  \n",
       "10                      47  \n",
       "12                      52  \n",
       "13                      55  \n",
       "18                      58  \n",
       "20                      51  \n",
       "24                      59  "
      ]
     },
     "execution_count": 68,
     "metadata": {},
     "output_type": "execute_result"
    }
   ],
   "source": [
    "pd.crosstab(df_test.subject, df_test.Activity)"
   ]
  },
  {
   "cell_type": "code",
   "execution_count": 69,
   "metadata": {},
   "outputs": [
    {
     "data": {
      "application/vnd.plotly.v1+json": {
       "config": {
        "linkText": "Export to plot.ly",
        "plotlyServerURL": "https://plot.ly",
        "showLink": false
       },
       "data": [
        {
         "marker": {
          "color": [
           "#440154",
           "#414487",
           "#2a788e",
           "#22a884",
           "#7ad151",
           "#fde725"
          ]
         },
         "type": "bar",
         "x": [
          "LAYING",
          "STANDING",
          "SITTING",
          "WALKING",
          "WALKING_UPSTAIRS",
          "WALKING_DOWNSTAIRS"
         ],
         "y": [
          1407,
          1374,
          1286,
          1226,
          1073,
          986
         ]
        }
       ],
       "layout": {
        "template": {
         "data": {
          "bar": [
           {
            "error_x": {
             "color": "#2a3f5f"
            },
            "error_y": {
             "color": "#2a3f5f"
            },
            "marker": {
             "line": {
              "color": "#E5ECF6",
              "width": 0.5
             }
            },
            "type": "bar"
           }
          ],
          "barpolar": [
           {
            "marker": {
             "line": {
              "color": "#E5ECF6",
              "width": 0.5
             }
            },
            "type": "barpolar"
           }
          ],
          "carpet": [
           {
            "aaxis": {
             "endlinecolor": "#2a3f5f",
             "gridcolor": "white",
             "linecolor": "white",
             "minorgridcolor": "white",
             "startlinecolor": "#2a3f5f"
            },
            "baxis": {
             "endlinecolor": "#2a3f5f",
             "gridcolor": "white",
             "linecolor": "white",
             "minorgridcolor": "white",
             "startlinecolor": "#2a3f5f"
            },
            "type": "carpet"
           }
          ],
          "choropleth": [
           {
            "colorbar": {
             "outlinewidth": 0,
             "ticks": ""
            },
            "type": "choropleth"
           }
          ],
          "contour": [
           {
            "colorbar": {
             "outlinewidth": 0,
             "ticks": ""
            },
            "colorscale": [
             [
              0,
              "#0d0887"
             ],
             [
              0.1111111111111111,
              "#46039f"
             ],
             [
              0.2222222222222222,
              "#7201a8"
             ],
             [
              0.3333333333333333,
              "#9c179e"
             ],
             [
              0.4444444444444444,
              "#bd3786"
             ],
             [
              0.5555555555555556,
              "#d8576b"
             ],
             [
              0.6666666666666666,
              "#ed7953"
             ],
             [
              0.7777777777777778,
              "#fb9f3a"
             ],
             [
              0.8888888888888888,
              "#fdca26"
             ],
             [
              1,
              "#f0f921"
             ]
            ],
            "type": "contour"
           }
          ],
          "contourcarpet": [
           {
            "colorbar": {
             "outlinewidth": 0,
             "ticks": ""
            },
            "type": "contourcarpet"
           }
          ],
          "heatmap": [
           {
            "colorbar": {
             "outlinewidth": 0,
             "ticks": ""
            },
            "colorscale": [
             [
              0,
              "#0d0887"
             ],
             [
              0.1111111111111111,
              "#46039f"
             ],
             [
              0.2222222222222222,
              "#7201a8"
             ],
             [
              0.3333333333333333,
              "#9c179e"
             ],
             [
              0.4444444444444444,
              "#bd3786"
             ],
             [
              0.5555555555555556,
              "#d8576b"
             ],
             [
              0.6666666666666666,
              "#ed7953"
             ],
             [
              0.7777777777777778,
              "#fb9f3a"
             ],
             [
              0.8888888888888888,
              "#fdca26"
             ],
             [
              1,
              "#f0f921"
             ]
            ],
            "type": "heatmap"
           }
          ],
          "heatmapgl": [
           {
            "colorbar": {
             "outlinewidth": 0,
             "ticks": ""
            },
            "colorscale": [
             [
              0,
              "#0d0887"
             ],
             [
              0.1111111111111111,
              "#46039f"
             ],
             [
              0.2222222222222222,
              "#7201a8"
             ],
             [
              0.3333333333333333,
              "#9c179e"
             ],
             [
              0.4444444444444444,
              "#bd3786"
             ],
             [
              0.5555555555555556,
              "#d8576b"
             ],
             [
              0.6666666666666666,
              "#ed7953"
             ],
             [
              0.7777777777777778,
              "#fb9f3a"
             ],
             [
              0.8888888888888888,
              "#fdca26"
             ],
             [
              1,
              "#f0f921"
             ]
            ],
            "type": "heatmapgl"
           }
          ],
          "histogram": [
           {
            "marker": {
             "colorbar": {
              "outlinewidth": 0,
              "ticks": ""
             }
            },
            "type": "histogram"
           }
          ],
          "histogram2d": [
           {
            "colorbar": {
             "outlinewidth": 0,
             "ticks": ""
            },
            "colorscale": [
             [
              0,
              "#0d0887"
             ],
             [
              0.1111111111111111,
              "#46039f"
             ],
             [
              0.2222222222222222,
              "#7201a8"
             ],
             [
              0.3333333333333333,
              "#9c179e"
             ],
             [
              0.4444444444444444,
              "#bd3786"
             ],
             [
              0.5555555555555556,
              "#d8576b"
             ],
             [
              0.6666666666666666,
              "#ed7953"
             ],
             [
              0.7777777777777778,
              "#fb9f3a"
             ],
             [
              0.8888888888888888,
              "#fdca26"
             ],
             [
              1,
              "#f0f921"
             ]
            ],
            "type": "histogram2d"
           }
          ],
          "histogram2dcontour": [
           {
            "colorbar": {
             "outlinewidth": 0,
             "ticks": ""
            },
            "colorscale": [
             [
              0,
              "#0d0887"
             ],
             [
              0.1111111111111111,
              "#46039f"
             ],
             [
              0.2222222222222222,
              "#7201a8"
             ],
             [
              0.3333333333333333,
              "#9c179e"
             ],
             [
              0.4444444444444444,
              "#bd3786"
             ],
             [
              0.5555555555555556,
              "#d8576b"
             ],
             [
              0.6666666666666666,
              "#ed7953"
             ],
             [
              0.7777777777777778,
              "#fb9f3a"
             ],
             [
              0.8888888888888888,
              "#fdca26"
             ],
             [
              1,
              "#f0f921"
             ]
            ],
            "type": "histogram2dcontour"
           }
          ],
          "mesh3d": [
           {
            "colorbar": {
             "outlinewidth": 0,
             "ticks": ""
            },
            "type": "mesh3d"
           }
          ],
          "parcoords": [
           {
            "line": {
             "colorbar": {
              "outlinewidth": 0,
              "ticks": ""
             }
            },
            "type": "parcoords"
           }
          ],
          "pie": [
           {
            "automargin": true,
            "type": "pie"
           }
          ],
          "scatter": [
           {
            "marker": {
             "colorbar": {
              "outlinewidth": 0,
              "ticks": ""
             }
            },
            "type": "scatter"
           }
          ],
          "scatter3d": [
           {
            "line": {
             "colorbar": {
              "outlinewidth": 0,
              "ticks": ""
             }
            },
            "marker": {
             "colorbar": {
              "outlinewidth": 0,
              "ticks": ""
             }
            },
            "type": "scatter3d"
           }
          ],
          "scattercarpet": [
           {
            "marker": {
             "colorbar": {
              "outlinewidth": 0,
              "ticks": ""
             }
            },
            "type": "scattercarpet"
           }
          ],
          "scattergeo": [
           {
            "marker": {
             "colorbar": {
              "outlinewidth": 0,
              "ticks": ""
             }
            },
            "type": "scattergeo"
           }
          ],
          "scattergl": [
           {
            "marker": {
             "colorbar": {
              "outlinewidth": 0,
              "ticks": ""
             }
            },
            "type": "scattergl"
           }
          ],
          "scattermapbox": [
           {
            "marker": {
             "colorbar": {
              "outlinewidth": 0,
              "ticks": ""
             }
            },
            "type": "scattermapbox"
           }
          ],
          "scatterpolar": [
           {
            "marker": {
             "colorbar": {
              "outlinewidth": 0,
              "ticks": ""
             }
            },
            "type": "scatterpolar"
           }
          ],
          "scatterpolargl": [
           {
            "marker": {
             "colorbar": {
              "outlinewidth": 0,
              "ticks": ""
             }
            },
            "type": "scatterpolargl"
           }
          ],
          "scatterternary": [
           {
            "marker": {
             "colorbar": {
              "outlinewidth": 0,
              "ticks": ""
             }
            },
            "type": "scatterternary"
           }
          ],
          "surface": [
           {
            "colorbar": {
             "outlinewidth": 0,
             "ticks": ""
            },
            "colorscale": [
             [
              0,
              "#0d0887"
             ],
             [
              0.1111111111111111,
              "#46039f"
             ],
             [
              0.2222222222222222,
              "#7201a8"
             ],
             [
              0.3333333333333333,
              "#9c179e"
             ],
             [
              0.4444444444444444,
              "#bd3786"
             ],
             [
              0.5555555555555556,
              "#d8576b"
             ],
             [
              0.6666666666666666,
              "#ed7953"
             ],
             [
              0.7777777777777778,
              "#fb9f3a"
             ],
             [
              0.8888888888888888,
              "#fdca26"
             ],
             [
              1,
              "#f0f921"
             ]
            ],
            "type": "surface"
           }
          ],
          "table": [
           {
            "cells": {
             "fill": {
              "color": "#EBF0F8"
             },
             "line": {
              "color": "white"
             }
            },
            "header": {
             "fill": {
              "color": "#C8D4E3"
             },
             "line": {
              "color": "white"
             }
            },
            "type": "table"
           }
          ]
         },
         "layout": {
          "annotationdefaults": {
           "arrowcolor": "#2a3f5f",
           "arrowhead": 0,
           "arrowwidth": 1
          },
          "coloraxis": {
           "colorbar": {
            "outlinewidth": 0,
            "ticks": ""
           }
          },
          "colorscale": {
           "diverging": [
            [
             0,
             "#8e0152"
            ],
            [
             0.1,
             "#c51b7d"
            ],
            [
             0.2,
             "#de77ae"
            ],
            [
             0.3,
             "#f1b6da"
            ],
            [
             0.4,
             "#fde0ef"
            ],
            [
             0.5,
             "#f7f7f7"
            ],
            [
             0.6,
             "#e6f5d0"
            ],
            [
             0.7,
             "#b8e186"
            ],
            [
             0.8,
             "#7fbc41"
            ],
            [
             0.9,
             "#4d9221"
            ],
            [
             1,
             "#276419"
            ]
           ],
           "sequential": [
            [
             0,
             "#0d0887"
            ],
            [
             0.1111111111111111,
             "#46039f"
            ],
            [
             0.2222222222222222,
             "#7201a8"
            ],
            [
             0.3333333333333333,
             "#9c179e"
            ],
            [
             0.4444444444444444,
             "#bd3786"
            ],
            [
             0.5555555555555556,
             "#d8576b"
            ],
            [
             0.6666666666666666,
             "#ed7953"
            ],
            [
             0.7777777777777778,
             "#fb9f3a"
            ],
            [
             0.8888888888888888,
             "#fdca26"
            ],
            [
             1,
             "#f0f921"
            ]
           ],
           "sequentialminus": [
            [
             0,
             "#0d0887"
            ],
            [
             0.1111111111111111,
             "#46039f"
            ],
            [
             0.2222222222222222,
             "#7201a8"
            ],
            [
             0.3333333333333333,
             "#9c179e"
            ],
            [
             0.4444444444444444,
             "#bd3786"
            ],
            [
             0.5555555555555556,
             "#d8576b"
            ],
            [
             0.6666666666666666,
             "#ed7953"
            ],
            [
             0.7777777777777778,
             "#fb9f3a"
            ],
            [
             0.8888888888888888,
             "#fdca26"
            ],
            [
             1,
             "#f0f921"
            ]
           ]
          },
          "colorway": [
           "#636efa",
           "#EF553B",
           "#00cc96",
           "#ab63fa",
           "#FFA15A",
           "#19d3f3",
           "#FF6692",
           "#B6E880",
           "#FF97FF",
           "#FECB52"
          ],
          "font": {
           "color": "#2a3f5f"
          },
          "geo": {
           "bgcolor": "white",
           "lakecolor": "white",
           "landcolor": "#E5ECF6",
           "showlakes": true,
           "showland": true,
           "subunitcolor": "white"
          },
          "hoverlabel": {
           "align": "left"
          },
          "hovermode": "closest",
          "mapbox": {
           "style": "light"
          },
          "paper_bgcolor": "white",
          "plot_bgcolor": "#E5ECF6",
          "polar": {
           "angularaxis": {
            "gridcolor": "white",
            "linecolor": "white",
            "ticks": ""
           },
           "bgcolor": "#E5ECF6",
           "radialaxis": {
            "gridcolor": "white",
            "linecolor": "white",
            "ticks": ""
           }
          },
          "scene": {
           "xaxis": {
            "backgroundcolor": "#E5ECF6",
            "gridcolor": "white",
            "gridwidth": 2,
            "linecolor": "white",
            "showbackground": true,
            "ticks": "",
            "zerolinecolor": "white"
           },
           "yaxis": {
            "backgroundcolor": "#E5ECF6",
            "gridcolor": "white",
            "gridwidth": 2,
            "linecolor": "white",
            "showbackground": true,
            "ticks": "",
            "zerolinecolor": "white"
           },
           "zaxis": {
            "backgroundcolor": "#E5ECF6",
            "gridcolor": "white",
            "gridwidth": 2,
            "linecolor": "white",
            "showbackground": true,
            "ticks": "",
            "zerolinecolor": "white"
           }
          },
          "shapedefaults": {
           "line": {
            "color": "#2a3f5f"
           }
          },
          "ternary": {
           "aaxis": {
            "gridcolor": "white",
            "linecolor": "white",
            "ticks": ""
           },
           "baxis": {
            "gridcolor": "white",
            "linecolor": "white",
            "ticks": ""
           },
           "bgcolor": "#E5ECF6",
           "caxis": {
            "gridcolor": "white",
            "linecolor": "white",
            "ticks": ""
           }
          },
          "title": {
           "x": 0.05
          },
          "xaxis": {
           "automargin": true,
           "gridcolor": "white",
           "linecolor": "white",
           "ticks": "",
           "title": {
            "standoff": 15
           },
           "zerolinecolor": "white",
           "zerolinewidth": 2
          },
          "yaxis": {
           "automargin": true,
           "gridcolor": "white",
           "linecolor": "white",
           "ticks": "",
           "title": {
            "standoff": 15
           },
           "zerolinecolor": "white",
           "zerolinewidth": 2
          }
         }
        },
        "title": {
         "text": "Smartphone Activity Label Distribution for train data"
        },
        "xaxis": {
         "title": {
          "text": "Activity"
         }
        },
        "yaxis": {
         "title": {
          "text": "Count"
         }
        }
       }
      },
      "text/html": [
       "<div>\n",
       "        \n",
       "        \n",
       "            <div id=\"427369e6-28cb-4a1e-a8de-14cbf65f2b48\" class=\"plotly-graph-div\" style=\"height:525px; width:100%;\"></div>\n",
       "            <script type=\"text/javascript\">\n",
       "                require([\"plotly\"], function(Plotly) {\n",
       "                    window.PLOTLYENV=window.PLOTLYENV || {};\n",
       "                    \n",
       "                if (document.getElementById(\"427369e6-28cb-4a1e-a8de-14cbf65f2b48\")) {\n",
       "                    Plotly.newPlot(\n",
       "                        '427369e6-28cb-4a1e-a8de-14cbf65f2b48',\n",
       "                        [{\"marker\": {\"color\": [\"#440154\", \"#414487\", \"#2a788e\", \"#22a884\", \"#7ad151\", \"#fde725\"]}, \"type\": \"bar\", \"x\": [\"LAYING\", \"STANDING\", \"SITTING\", \"WALKING\", \"WALKING_UPSTAIRS\", \"WALKING_DOWNSTAIRS\"], \"y\": [1407, 1374, 1286, 1226, 1073, 986]}],\n",
       "                        {\"template\": {\"data\": {\"bar\": [{\"error_x\": {\"color\": \"#2a3f5f\"}, \"error_y\": {\"color\": \"#2a3f5f\"}, \"marker\": {\"line\": {\"color\": \"#E5ECF6\", \"width\": 0.5}}, \"type\": \"bar\"}], \"barpolar\": [{\"marker\": {\"line\": {\"color\": \"#E5ECF6\", \"width\": 0.5}}, \"type\": \"barpolar\"}], \"carpet\": [{\"aaxis\": {\"endlinecolor\": \"#2a3f5f\", \"gridcolor\": \"white\", \"linecolor\": \"white\", \"minorgridcolor\": \"white\", \"startlinecolor\": \"#2a3f5f\"}, \"baxis\": {\"endlinecolor\": \"#2a3f5f\", \"gridcolor\": \"white\", \"linecolor\": \"white\", \"minorgridcolor\": \"white\", \"startlinecolor\": \"#2a3f5f\"}, \"type\": \"carpet\"}], \"choropleth\": [{\"colorbar\": {\"outlinewidth\": 0, \"ticks\": \"\"}, \"type\": \"choropleth\"}], \"contour\": [{\"colorbar\": {\"outlinewidth\": 0, \"ticks\": \"\"}, \"colorscale\": [[0.0, \"#0d0887\"], [0.1111111111111111, \"#46039f\"], [0.2222222222222222, \"#7201a8\"], [0.3333333333333333, \"#9c179e\"], [0.4444444444444444, \"#bd3786\"], [0.5555555555555556, \"#d8576b\"], [0.6666666666666666, \"#ed7953\"], [0.7777777777777778, \"#fb9f3a\"], [0.8888888888888888, \"#fdca26\"], [1.0, \"#f0f921\"]], \"type\": \"contour\"}], \"contourcarpet\": [{\"colorbar\": {\"outlinewidth\": 0, \"ticks\": \"\"}, \"type\": \"contourcarpet\"}], \"heatmap\": [{\"colorbar\": {\"outlinewidth\": 0, \"ticks\": \"\"}, \"colorscale\": [[0.0, \"#0d0887\"], [0.1111111111111111, \"#46039f\"], [0.2222222222222222, \"#7201a8\"], [0.3333333333333333, \"#9c179e\"], [0.4444444444444444, \"#bd3786\"], [0.5555555555555556, \"#d8576b\"], [0.6666666666666666, \"#ed7953\"], [0.7777777777777778, \"#fb9f3a\"], [0.8888888888888888, \"#fdca26\"], [1.0, \"#f0f921\"]], \"type\": \"heatmap\"}], \"heatmapgl\": [{\"colorbar\": {\"outlinewidth\": 0, \"ticks\": \"\"}, \"colorscale\": [[0.0, \"#0d0887\"], [0.1111111111111111, \"#46039f\"], [0.2222222222222222, \"#7201a8\"], [0.3333333333333333, \"#9c179e\"], [0.4444444444444444, \"#bd3786\"], [0.5555555555555556, \"#d8576b\"], [0.6666666666666666, \"#ed7953\"], [0.7777777777777778, \"#fb9f3a\"], [0.8888888888888888, \"#fdca26\"], [1.0, \"#f0f921\"]], \"type\": \"heatmapgl\"}], \"histogram\": [{\"marker\": {\"colorbar\": {\"outlinewidth\": 0, \"ticks\": \"\"}}, \"type\": \"histogram\"}], \"histogram2d\": [{\"colorbar\": {\"outlinewidth\": 0, \"ticks\": \"\"}, \"colorscale\": [[0.0, \"#0d0887\"], [0.1111111111111111, \"#46039f\"], [0.2222222222222222, \"#7201a8\"], [0.3333333333333333, \"#9c179e\"], [0.4444444444444444, \"#bd3786\"], [0.5555555555555556, \"#d8576b\"], [0.6666666666666666, \"#ed7953\"], [0.7777777777777778, \"#fb9f3a\"], [0.8888888888888888, \"#fdca26\"], [1.0, \"#f0f921\"]], \"type\": \"histogram2d\"}], \"histogram2dcontour\": [{\"colorbar\": {\"outlinewidth\": 0, \"ticks\": \"\"}, \"colorscale\": [[0.0, \"#0d0887\"], [0.1111111111111111, \"#46039f\"], [0.2222222222222222, \"#7201a8\"], [0.3333333333333333, \"#9c179e\"], [0.4444444444444444, \"#bd3786\"], [0.5555555555555556, \"#d8576b\"], [0.6666666666666666, \"#ed7953\"], [0.7777777777777778, \"#fb9f3a\"], [0.8888888888888888, \"#fdca26\"], [1.0, \"#f0f921\"]], \"type\": \"histogram2dcontour\"}], \"mesh3d\": [{\"colorbar\": {\"outlinewidth\": 0, \"ticks\": \"\"}, \"type\": \"mesh3d\"}], \"parcoords\": [{\"line\": {\"colorbar\": {\"outlinewidth\": 0, \"ticks\": \"\"}}, \"type\": \"parcoords\"}], \"pie\": [{\"automargin\": true, \"type\": \"pie\"}], \"scatter\": [{\"marker\": {\"colorbar\": {\"outlinewidth\": 0, \"ticks\": \"\"}}, \"type\": \"scatter\"}], \"scatter3d\": [{\"line\": {\"colorbar\": {\"outlinewidth\": 0, \"ticks\": \"\"}}, \"marker\": {\"colorbar\": {\"outlinewidth\": 0, \"ticks\": \"\"}}, \"type\": \"scatter3d\"}], \"scattercarpet\": [{\"marker\": {\"colorbar\": {\"outlinewidth\": 0, \"ticks\": \"\"}}, \"type\": \"scattercarpet\"}], \"scattergeo\": [{\"marker\": {\"colorbar\": {\"outlinewidth\": 0, \"ticks\": \"\"}}, \"type\": \"scattergeo\"}], \"scattergl\": [{\"marker\": {\"colorbar\": {\"outlinewidth\": 0, \"ticks\": \"\"}}, \"type\": \"scattergl\"}], \"scattermapbox\": [{\"marker\": {\"colorbar\": {\"outlinewidth\": 0, \"ticks\": \"\"}}, \"type\": \"scattermapbox\"}], \"scatterpolar\": [{\"marker\": {\"colorbar\": {\"outlinewidth\": 0, \"ticks\": \"\"}}, \"type\": \"scatterpolar\"}], \"scatterpolargl\": [{\"marker\": {\"colorbar\": {\"outlinewidth\": 0, \"ticks\": \"\"}}, \"type\": \"scatterpolargl\"}], \"scatterternary\": [{\"marker\": {\"colorbar\": {\"outlinewidth\": 0, \"ticks\": \"\"}}, \"type\": \"scatterternary\"}], \"surface\": [{\"colorbar\": {\"outlinewidth\": 0, \"ticks\": \"\"}, \"colorscale\": [[0.0, \"#0d0887\"], [0.1111111111111111, \"#46039f\"], [0.2222222222222222, \"#7201a8\"], [0.3333333333333333, \"#9c179e\"], [0.4444444444444444, \"#bd3786\"], [0.5555555555555556, \"#d8576b\"], [0.6666666666666666, \"#ed7953\"], [0.7777777777777778, \"#fb9f3a\"], [0.8888888888888888, \"#fdca26\"], [1.0, \"#f0f921\"]], \"type\": \"surface\"}], \"table\": [{\"cells\": {\"fill\": {\"color\": \"#EBF0F8\"}, \"line\": {\"color\": \"white\"}}, \"header\": {\"fill\": {\"color\": \"#C8D4E3\"}, \"line\": {\"color\": \"white\"}}, \"type\": \"table\"}]}, \"layout\": {\"annotationdefaults\": {\"arrowcolor\": \"#2a3f5f\", \"arrowhead\": 0, \"arrowwidth\": 1}, \"coloraxis\": {\"colorbar\": {\"outlinewidth\": 0, \"ticks\": \"\"}}, \"colorscale\": {\"diverging\": [[0, \"#8e0152\"], [0.1, \"#c51b7d\"], [0.2, \"#de77ae\"], [0.3, \"#f1b6da\"], [0.4, \"#fde0ef\"], [0.5, \"#f7f7f7\"], [0.6, \"#e6f5d0\"], [0.7, \"#b8e186\"], [0.8, \"#7fbc41\"], [0.9, \"#4d9221\"], [1, \"#276419\"]], \"sequential\": [[0.0, \"#0d0887\"], [0.1111111111111111, \"#46039f\"], [0.2222222222222222, \"#7201a8\"], [0.3333333333333333, \"#9c179e\"], [0.4444444444444444, \"#bd3786\"], [0.5555555555555556, \"#d8576b\"], [0.6666666666666666, \"#ed7953\"], [0.7777777777777778, \"#fb9f3a\"], [0.8888888888888888, \"#fdca26\"], [1.0, \"#f0f921\"]], \"sequentialminus\": [[0.0, \"#0d0887\"], [0.1111111111111111, \"#46039f\"], [0.2222222222222222, \"#7201a8\"], [0.3333333333333333, \"#9c179e\"], [0.4444444444444444, \"#bd3786\"], [0.5555555555555556, \"#d8576b\"], [0.6666666666666666, \"#ed7953\"], [0.7777777777777778, \"#fb9f3a\"], [0.8888888888888888, \"#fdca26\"], [1.0, \"#f0f921\"]]}, \"colorway\": [\"#636efa\", \"#EF553B\", \"#00cc96\", \"#ab63fa\", \"#FFA15A\", \"#19d3f3\", \"#FF6692\", \"#B6E880\", \"#FF97FF\", \"#FECB52\"], \"font\": {\"color\": \"#2a3f5f\"}, \"geo\": {\"bgcolor\": \"white\", \"lakecolor\": \"white\", \"landcolor\": \"#E5ECF6\", \"showlakes\": true, \"showland\": true, \"subunitcolor\": \"white\"}, \"hoverlabel\": {\"align\": \"left\"}, \"hovermode\": \"closest\", \"mapbox\": {\"style\": \"light\"}, \"paper_bgcolor\": \"white\", \"plot_bgcolor\": \"#E5ECF6\", \"polar\": {\"angularaxis\": {\"gridcolor\": \"white\", \"linecolor\": \"white\", \"ticks\": \"\"}, \"bgcolor\": \"#E5ECF6\", \"radialaxis\": {\"gridcolor\": \"white\", \"linecolor\": \"white\", \"ticks\": \"\"}}, \"scene\": {\"xaxis\": {\"backgroundcolor\": \"#E5ECF6\", \"gridcolor\": \"white\", \"gridwidth\": 2, \"linecolor\": \"white\", \"showbackground\": true, \"ticks\": \"\", \"zerolinecolor\": \"white\"}, \"yaxis\": {\"backgroundcolor\": \"#E5ECF6\", \"gridcolor\": \"white\", \"gridwidth\": 2, \"linecolor\": \"white\", \"showbackground\": true, \"ticks\": \"\", \"zerolinecolor\": \"white\"}, \"zaxis\": {\"backgroundcolor\": \"#E5ECF6\", \"gridcolor\": \"white\", \"gridwidth\": 2, \"linecolor\": \"white\", \"showbackground\": true, \"ticks\": \"\", \"zerolinecolor\": \"white\"}}, \"shapedefaults\": {\"line\": {\"color\": \"#2a3f5f\"}}, \"ternary\": {\"aaxis\": {\"gridcolor\": \"white\", \"linecolor\": \"white\", \"ticks\": \"\"}, \"baxis\": {\"gridcolor\": \"white\", \"linecolor\": \"white\", \"ticks\": \"\"}, \"bgcolor\": \"#E5ECF6\", \"caxis\": {\"gridcolor\": \"white\", \"linecolor\": \"white\", \"ticks\": \"\"}}, \"title\": {\"x\": 0.05}, \"xaxis\": {\"automargin\": true, \"gridcolor\": \"white\", \"linecolor\": \"white\", \"ticks\": \"\", \"title\": {\"standoff\": 15}, \"zerolinecolor\": \"white\", \"zerolinewidth\": 2}, \"yaxis\": {\"automargin\": true, \"gridcolor\": \"white\", \"linecolor\": \"white\", \"ticks\": \"\", \"title\": {\"standoff\": 15}, \"zerolinecolor\": \"white\", \"zerolinewidth\": 2}}}, \"title\": {\"text\": \"Smartphone Activity Label Distribution for train data\"}, \"xaxis\": {\"title\": {\"text\": \"Activity\"}}, \"yaxis\": {\"title\": {\"text\": \"Count\"}}},\n",
       "                        {\"responsive\": true}\n",
       "                    ).then(function(){\n",
       "                            \n",
       "var gd = document.getElementById('427369e6-28cb-4a1e-a8de-14cbf65f2b48');\n",
       "var x = new MutationObserver(function (mutations, observer) {{\n",
       "        var display = window.getComputedStyle(gd).display;\n",
       "        if (!display || display === 'none') {{\n",
       "            console.log([gd, 'removed!']);\n",
       "            Plotly.purge(gd);\n",
       "            observer.disconnect();\n",
       "        }}\n",
       "}});\n",
       "\n",
       "// Listen for the removal of the full notebook cells\n",
       "var notebookContainer = gd.closest('#notebook-container');\n",
       "if (notebookContainer) {{\n",
       "    x.observe(notebookContainer, {childList: true});\n",
       "}}\n",
       "\n",
       "// Listen for the clearing of the current output cell\n",
       "var outputEl = gd.closest('.output');\n",
       "if (outputEl) {{\n",
       "    x.observe(outputEl, {childList: true});\n",
       "}}\n",
       "\n",
       "                        })\n",
       "                };\n",
       "                });\n",
       "            </script>\n",
       "        </div>"
      ]
     },
     "metadata": {},
     "output_type": "display_data"
    }
   ],
   "source": [
    "# Plotting data\n",
    "label_counts = df_train.Activity.value_counts()\n",
    "\n",
    "\n",
    "# Get colors\n",
    "n = label_counts.shape[0]\n",
    "colormap = get_cmap('viridis')\n",
    "colors = [rgb2hex(colormap(col)) for col in np.arange(0, 1.01, 1/(n-1))]\n",
    "\n",
    "# Create plot\n",
    "activity_data = go.Bar(x = label_counts.index,\n",
    "              y = label_counts,\n",
    "              marker = dict(color = colors))\n",
    "\n",
    "fig_layout = go.Layout(title = 'Smartphone Activity Label Distribution for train data',\n",
    "                   xaxis = dict(title = 'Activity'),\n",
    "                   yaxis = dict(title = 'Count'))\n",
    "\n",
    "fig = go.Figure(data=[activity_data], layout=fig_layout)\n",
    "iplot(fig)"
   ]
  },
  {
   "cell_type": "code",
   "execution_count": 70,
   "metadata": {},
   "outputs": [
    {
     "data": {
      "application/vnd.plotly.v1+json": {
       "config": {
        "linkText": "Export to plot.ly",
        "plotlyServerURL": "https://plot.ly",
        "showLink": false
       },
       "data": [
        {
         "marker": {
          "color": [
           "#440154",
           "#414487",
           "#2a788e",
           "#22a884",
           "#7ad151",
           "#fde725"
          ]
         },
         "type": "bar",
         "x": [
          "LAYING",
          "STANDING",
          "WALKING",
          "SITTING",
          "WALKING_UPSTAIRS",
          "WALKING_DOWNSTAIRS"
         ],
         "y": [
          537,
          532,
          496,
          491,
          471,
          420
         ]
        }
       ],
       "layout": {
        "template": {
         "data": {
          "bar": [
           {
            "error_x": {
             "color": "#2a3f5f"
            },
            "error_y": {
             "color": "#2a3f5f"
            },
            "marker": {
             "line": {
              "color": "#E5ECF6",
              "width": 0.5
             }
            },
            "type": "bar"
           }
          ],
          "barpolar": [
           {
            "marker": {
             "line": {
              "color": "#E5ECF6",
              "width": 0.5
             }
            },
            "type": "barpolar"
           }
          ],
          "carpet": [
           {
            "aaxis": {
             "endlinecolor": "#2a3f5f",
             "gridcolor": "white",
             "linecolor": "white",
             "minorgridcolor": "white",
             "startlinecolor": "#2a3f5f"
            },
            "baxis": {
             "endlinecolor": "#2a3f5f",
             "gridcolor": "white",
             "linecolor": "white",
             "minorgridcolor": "white",
             "startlinecolor": "#2a3f5f"
            },
            "type": "carpet"
           }
          ],
          "choropleth": [
           {
            "colorbar": {
             "outlinewidth": 0,
             "ticks": ""
            },
            "type": "choropleth"
           }
          ],
          "contour": [
           {
            "colorbar": {
             "outlinewidth": 0,
             "ticks": ""
            },
            "colorscale": [
             [
              0,
              "#0d0887"
             ],
             [
              0.1111111111111111,
              "#46039f"
             ],
             [
              0.2222222222222222,
              "#7201a8"
             ],
             [
              0.3333333333333333,
              "#9c179e"
             ],
             [
              0.4444444444444444,
              "#bd3786"
             ],
             [
              0.5555555555555556,
              "#d8576b"
             ],
             [
              0.6666666666666666,
              "#ed7953"
             ],
             [
              0.7777777777777778,
              "#fb9f3a"
             ],
             [
              0.8888888888888888,
              "#fdca26"
             ],
             [
              1,
              "#f0f921"
             ]
            ],
            "type": "contour"
           }
          ],
          "contourcarpet": [
           {
            "colorbar": {
             "outlinewidth": 0,
             "ticks": ""
            },
            "type": "contourcarpet"
           }
          ],
          "heatmap": [
           {
            "colorbar": {
             "outlinewidth": 0,
             "ticks": ""
            },
            "colorscale": [
             [
              0,
              "#0d0887"
             ],
             [
              0.1111111111111111,
              "#46039f"
             ],
             [
              0.2222222222222222,
              "#7201a8"
             ],
             [
              0.3333333333333333,
              "#9c179e"
             ],
             [
              0.4444444444444444,
              "#bd3786"
             ],
             [
              0.5555555555555556,
              "#d8576b"
             ],
             [
              0.6666666666666666,
              "#ed7953"
             ],
             [
              0.7777777777777778,
              "#fb9f3a"
             ],
             [
              0.8888888888888888,
              "#fdca26"
             ],
             [
              1,
              "#f0f921"
             ]
            ],
            "type": "heatmap"
           }
          ],
          "heatmapgl": [
           {
            "colorbar": {
             "outlinewidth": 0,
             "ticks": ""
            },
            "colorscale": [
             [
              0,
              "#0d0887"
             ],
             [
              0.1111111111111111,
              "#46039f"
             ],
             [
              0.2222222222222222,
              "#7201a8"
             ],
             [
              0.3333333333333333,
              "#9c179e"
             ],
             [
              0.4444444444444444,
              "#bd3786"
             ],
             [
              0.5555555555555556,
              "#d8576b"
             ],
             [
              0.6666666666666666,
              "#ed7953"
             ],
             [
              0.7777777777777778,
              "#fb9f3a"
             ],
             [
              0.8888888888888888,
              "#fdca26"
             ],
             [
              1,
              "#f0f921"
             ]
            ],
            "type": "heatmapgl"
           }
          ],
          "histogram": [
           {
            "marker": {
             "colorbar": {
              "outlinewidth": 0,
              "ticks": ""
             }
            },
            "type": "histogram"
           }
          ],
          "histogram2d": [
           {
            "colorbar": {
             "outlinewidth": 0,
             "ticks": ""
            },
            "colorscale": [
             [
              0,
              "#0d0887"
             ],
             [
              0.1111111111111111,
              "#46039f"
             ],
             [
              0.2222222222222222,
              "#7201a8"
             ],
             [
              0.3333333333333333,
              "#9c179e"
             ],
             [
              0.4444444444444444,
              "#bd3786"
             ],
             [
              0.5555555555555556,
              "#d8576b"
             ],
             [
              0.6666666666666666,
              "#ed7953"
             ],
             [
              0.7777777777777778,
              "#fb9f3a"
             ],
             [
              0.8888888888888888,
              "#fdca26"
             ],
             [
              1,
              "#f0f921"
             ]
            ],
            "type": "histogram2d"
           }
          ],
          "histogram2dcontour": [
           {
            "colorbar": {
             "outlinewidth": 0,
             "ticks": ""
            },
            "colorscale": [
             [
              0,
              "#0d0887"
             ],
             [
              0.1111111111111111,
              "#46039f"
             ],
             [
              0.2222222222222222,
              "#7201a8"
             ],
             [
              0.3333333333333333,
              "#9c179e"
             ],
             [
              0.4444444444444444,
              "#bd3786"
             ],
             [
              0.5555555555555556,
              "#d8576b"
             ],
             [
              0.6666666666666666,
              "#ed7953"
             ],
             [
              0.7777777777777778,
              "#fb9f3a"
             ],
             [
              0.8888888888888888,
              "#fdca26"
             ],
             [
              1,
              "#f0f921"
             ]
            ],
            "type": "histogram2dcontour"
           }
          ],
          "mesh3d": [
           {
            "colorbar": {
             "outlinewidth": 0,
             "ticks": ""
            },
            "type": "mesh3d"
           }
          ],
          "parcoords": [
           {
            "line": {
             "colorbar": {
              "outlinewidth": 0,
              "ticks": ""
             }
            },
            "type": "parcoords"
           }
          ],
          "pie": [
           {
            "automargin": true,
            "type": "pie"
           }
          ],
          "scatter": [
           {
            "marker": {
             "colorbar": {
              "outlinewidth": 0,
              "ticks": ""
             }
            },
            "type": "scatter"
           }
          ],
          "scatter3d": [
           {
            "line": {
             "colorbar": {
              "outlinewidth": 0,
              "ticks": ""
             }
            },
            "marker": {
             "colorbar": {
              "outlinewidth": 0,
              "ticks": ""
             }
            },
            "type": "scatter3d"
           }
          ],
          "scattercarpet": [
           {
            "marker": {
             "colorbar": {
              "outlinewidth": 0,
              "ticks": ""
             }
            },
            "type": "scattercarpet"
           }
          ],
          "scattergeo": [
           {
            "marker": {
             "colorbar": {
              "outlinewidth": 0,
              "ticks": ""
             }
            },
            "type": "scattergeo"
           }
          ],
          "scattergl": [
           {
            "marker": {
             "colorbar": {
              "outlinewidth": 0,
              "ticks": ""
             }
            },
            "type": "scattergl"
           }
          ],
          "scattermapbox": [
           {
            "marker": {
             "colorbar": {
              "outlinewidth": 0,
              "ticks": ""
             }
            },
            "type": "scattermapbox"
           }
          ],
          "scatterpolar": [
           {
            "marker": {
             "colorbar": {
              "outlinewidth": 0,
              "ticks": ""
             }
            },
            "type": "scatterpolar"
           }
          ],
          "scatterpolargl": [
           {
            "marker": {
             "colorbar": {
              "outlinewidth": 0,
              "ticks": ""
             }
            },
            "type": "scatterpolargl"
           }
          ],
          "scatterternary": [
           {
            "marker": {
             "colorbar": {
              "outlinewidth": 0,
              "ticks": ""
             }
            },
            "type": "scatterternary"
           }
          ],
          "surface": [
           {
            "colorbar": {
             "outlinewidth": 0,
             "ticks": ""
            },
            "colorscale": [
             [
              0,
              "#0d0887"
             ],
             [
              0.1111111111111111,
              "#46039f"
             ],
             [
              0.2222222222222222,
              "#7201a8"
             ],
             [
              0.3333333333333333,
              "#9c179e"
             ],
             [
              0.4444444444444444,
              "#bd3786"
             ],
             [
              0.5555555555555556,
              "#d8576b"
             ],
             [
              0.6666666666666666,
              "#ed7953"
             ],
             [
              0.7777777777777778,
              "#fb9f3a"
             ],
             [
              0.8888888888888888,
              "#fdca26"
             ],
             [
              1,
              "#f0f921"
             ]
            ],
            "type": "surface"
           }
          ],
          "table": [
           {
            "cells": {
             "fill": {
              "color": "#EBF0F8"
             },
             "line": {
              "color": "white"
             }
            },
            "header": {
             "fill": {
              "color": "#C8D4E3"
             },
             "line": {
              "color": "white"
             }
            },
            "type": "table"
           }
          ]
         },
         "layout": {
          "annotationdefaults": {
           "arrowcolor": "#2a3f5f",
           "arrowhead": 0,
           "arrowwidth": 1
          },
          "coloraxis": {
           "colorbar": {
            "outlinewidth": 0,
            "ticks": ""
           }
          },
          "colorscale": {
           "diverging": [
            [
             0,
             "#8e0152"
            ],
            [
             0.1,
             "#c51b7d"
            ],
            [
             0.2,
             "#de77ae"
            ],
            [
             0.3,
             "#f1b6da"
            ],
            [
             0.4,
             "#fde0ef"
            ],
            [
             0.5,
             "#f7f7f7"
            ],
            [
             0.6,
             "#e6f5d0"
            ],
            [
             0.7,
             "#b8e186"
            ],
            [
             0.8,
             "#7fbc41"
            ],
            [
             0.9,
             "#4d9221"
            ],
            [
             1,
             "#276419"
            ]
           ],
           "sequential": [
            [
             0,
             "#0d0887"
            ],
            [
             0.1111111111111111,
             "#46039f"
            ],
            [
             0.2222222222222222,
             "#7201a8"
            ],
            [
             0.3333333333333333,
             "#9c179e"
            ],
            [
             0.4444444444444444,
             "#bd3786"
            ],
            [
             0.5555555555555556,
             "#d8576b"
            ],
            [
             0.6666666666666666,
             "#ed7953"
            ],
            [
             0.7777777777777778,
             "#fb9f3a"
            ],
            [
             0.8888888888888888,
             "#fdca26"
            ],
            [
             1,
             "#f0f921"
            ]
           ],
           "sequentialminus": [
            [
             0,
             "#0d0887"
            ],
            [
             0.1111111111111111,
             "#46039f"
            ],
            [
             0.2222222222222222,
             "#7201a8"
            ],
            [
             0.3333333333333333,
             "#9c179e"
            ],
            [
             0.4444444444444444,
             "#bd3786"
            ],
            [
             0.5555555555555556,
             "#d8576b"
            ],
            [
             0.6666666666666666,
             "#ed7953"
            ],
            [
             0.7777777777777778,
             "#fb9f3a"
            ],
            [
             0.8888888888888888,
             "#fdca26"
            ],
            [
             1,
             "#f0f921"
            ]
           ]
          },
          "colorway": [
           "#636efa",
           "#EF553B",
           "#00cc96",
           "#ab63fa",
           "#FFA15A",
           "#19d3f3",
           "#FF6692",
           "#B6E880",
           "#FF97FF",
           "#FECB52"
          ],
          "font": {
           "color": "#2a3f5f"
          },
          "geo": {
           "bgcolor": "white",
           "lakecolor": "white",
           "landcolor": "#E5ECF6",
           "showlakes": true,
           "showland": true,
           "subunitcolor": "white"
          },
          "hoverlabel": {
           "align": "left"
          },
          "hovermode": "closest",
          "mapbox": {
           "style": "light"
          },
          "paper_bgcolor": "white",
          "plot_bgcolor": "#E5ECF6",
          "polar": {
           "angularaxis": {
            "gridcolor": "white",
            "linecolor": "white",
            "ticks": ""
           },
           "bgcolor": "#E5ECF6",
           "radialaxis": {
            "gridcolor": "white",
            "linecolor": "white",
            "ticks": ""
           }
          },
          "scene": {
           "xaxis": {
            "backgroundcolor": "#E5ECF6",
            "gridcolor": "white",
            "gridwidth": 2,
            "linecolor": "white",
            "showbackground": true,
            "ticks": "",
            "zerolinecolor": "white"
           },
           "yaxis": {
            "backgroundcolor": "#E5ECF6",
            "gridcolor": "white",
            "gridwidth": 2,
            "linecolor": "white",
            "showbackground": true,
            "ticks": "",
            "zerolinecolor": "white"
           },
           "zaxis": {
            "backgroundcolor": "#E5ECF6",
            "gridcolor": "white",
            "gridwidth": 2,
            "linecolor": "white",
            "showbackground": true,
            "ticks": "",
            "zerolinecolor": "white"
           }
          },
          "shapedefaults": {
           "line": {
            "color": "#2a3f5f"
           }
          },
          "ternary": {
           "aaxis": {
            "gridcolor": "white",
            "linecolor": "white",
            "ticks": ""
           },
           "baxis": {
            "gridcolor": "white",
            "linecolor": "white",
            "ticks": ""
           },
           "bgcolor": "#E5ECF6",
           "caxis": {
            "gridcolor": "white",
            "linecolor": "white",
            "ticks": ""
           }
          },
          "title": {
           "x": 0.05
          },
          "xaxis": {
           "automargin": true,
           "gridcolor": "white",
           "linecolor": "white",
           "ticks": "",
           "title": {
            "standoff": 15
           },
           "zerolinecolor": "white",
           "zerolinewidth": 2
          },
          "yaxis": {
           "automargin": true,
           "gridcolor": "white",
           "linecolor": "white",
           "ticks": "",
           "title": {
            "standoff": 15
           },
           "zerolinecolor": "white",
           "zerolinewidth": 2
          }
         }
        },
        "title": {
         "text": "Smartphone Activity Label Distribution for test data"
        },
        "xaxis": {
         "title": {
          "text": "Activity"
         }
        },
        "yaxis": {
         "title": {
          "text": "Count"
         }
        }
       }
      },
      "text/html": [
       "<div>\n",
       "        \n",
       "        \n",
       "            <div id=\"d065a3e6-ba3f-4305-9733-947b4b287d8b\" class=\"plotly-graph-div\" style=\"height:525px; width:100%;\"></div>\n",
       "            <script type=\"text/javascript\">\n",
       "                require([\"plotly\"], function(Plotly) {\n",
       "                    window.PLOTLYENV=window.PLOTLYENV || {};\n",
       "                    \n",
       "                if (document.getElementById(\"d065a3e6-ba3f-4305-9733-947b4b287d8b\")) {\n",
       "                    Plotly.newPlot(\n",
       "                        'd065a3e6-ba3f-4305-9733-947b4b287d8b',\n",
       "                        [{\"marker\": {\"color\": [\"#440154\", \"#414487\", \"#2a788e\", \"#22a884\", \"#7ad151\", \"#fde725\"]}, \"type\": \"bar\", \"x\": [\"LAYING\", \"STANDING\", \"WALKING\", \"SITTING\", \"WALKING_UPSTAIRS\", \"WALKING_DOWNSTAIRS\"], \"y\": [537, 532, 496, 491, 471, 420]}],\n",
       "                        {\"template\": {\"data\": {\"bar\": [{\"error_x\": {\"color\": \"#2a3f5f\"}, \"error_y\": {\"color\": \"#2a3f5f\"}, \"marker\": {\"line\": {\"color\": \"#E5ECF6\", \"width\": 0.5}}, \"type\": \"bar\"}], \"barpolar\": [{\"marker\": {\"line\": {\"color\": \"#E5ECF6\", \"width\": 0.5}}, \"type\": \"barpolar\"}], \"carpet\": [{\"aaxis\": {\"endlinecolor\": \"#2a3f5f\", \"gridcolor\": \"white\", \"linecolor\": \"white\", \"minorgridcolor\": \"white\", \"startlinecolor\": \"#2a3f5f\"}, \"baxis\": {\"endlinecolor\": \"#2a3f5f\", \"gridcolor\": \"white\", \"linecolor\": \"white\", \"minorgridcolor\": \"white\", \"startlinecolor\": \"#2a3f5f\"}, \"type\": \"carpet\"}], \"choropleth\": [{\"colorbar\": {\"outlinewidth\": 0, \"ticks\": \"\"}, \"type\": \"choropleth\"}], \"contour\": [{\"colorbar\": {\"outlinewidth\": 0, \"ticks\": \"\"}, \"colorscale\": [[0.0, \"#0d0887\"], [0.1111111111111111, \"#46039f\"], [0.2222222222222222, \"#7201a8\"], [0.3333333333333333, \"#9c179e\"], [0.4444444444444444, \"#bd3786\"], [0.5555555555555556, \"#d8576b\"], [0.6666666666666666, \"#ed7953\"], [0.7777777777777778, \"#fb9f3a\"], [0.8888888888888888, \"#fdca26\"], [1.0, \"#f0f921\"]], \"type\": \"contour\"}], \"contourcarpet\": [{\"colorbar\": {\"outlinewidth\": 0, \"ticks\": \"\"}, \"type\": \"contourcarpet\"}], \"heatmap\": [{\"colorbar\": {\"outlinewidth\": 0, \"ticks\": \"\"}, \"colorscale\": [[0.0, \"#0d0887\"], [0.1111111111111111, \"#46039f\"], [0.2222222222222222, \"#7201a8\"], [0.3333333333333333, \"#9c179e\"], [0.4444444444444444, \"#bd3786\"], [0.5555555555555556, \"#d8576b\"], [0.6666666666666666, \"#ed7953\"], [0.7777777777777778, \"#fb9f3a\"], [0.8888888888888888, \"#fdca26\"], [1.0, \"#f0f921\"]], \"type\": \"heatmap\"}], \"heatmapgl\": [{\"colorbar\": {\"outlinewidth\": 0, \"ticks\": \"\"}, \"colorscale\": [[0.0, \"#0d0887\"], [0.1111111111111111, \"#46039f\"], [0.2222222222222222, \"#7201a8\"], [0.3333333333333333, \"#9c179e\"], [0.4444444444444444, \"#bd3786\"], [0.5555555555555556, \"#d8576b\"], [0.6666666666666666, \"#ed7953\"], [0.7777777777777778, \"#fb9f3a\"], [0.8888888888888888, \"#fdca26\"], [1.0, \"#f0f921\"]], \"type\": \"heatmapgl\"}], \"histogram\": [{\"marker\": {\"colorbar\": {\"outlinewidth\": 0, \"ticks\": \"\"}}, \"type\": \"histogram\"}], \"histogram2d\": [{\"colorbar\": {\"outlinewidth\": 0, \"ticks\": \"\"}, \"colorscale\": [[0.0, \"#0d0887\"], [0.1111111111111111, \"#46039f\"], [0.2222222222222222, \"#7201a8\"], [0.3333333333333333, \"#9c179e\"], [0.4444444444444444, \"#bd3786\"], [0.5555555555555556, \"#d8576b\"], [0.6666666666666666, \"#ed7953\"], [0.7777777777777778, \"#fb9f3a\"], [0.8888888888888888, \"#fdca26\"], [1.0, \"#f0f921\"]], \"type\": \"histogram2d\"}], \"histogram2dcontour\": [{\"colorbar\": {\"outlinewidth\": 0, \"ticks\": \"\"}, \"colorscale\": [[0.0, \"#0d0887\"], [0.1111111111111111, \"#46039f\"], [0.2222222222222222, \"#7201a8\"], [0.3333333333333333, \"#9c179e\"], [0.4444444444444444, \"#bd3786\"], [0.5555555555555556, \"#d8576b\"], [0.6666666666666666, \"#ed7953\"], [0.7777777777777778, \"#fb9f3a\"], [0.8888888888888888, \"#fdca26\"], [1.0, \"#f0f921\"]], \"type\": \"histogram2dcontour\"}], \"mesh3d\": [{\"colorbar\": {\"outlinewidth\": 0, \"ticks\": \"\"}, \"type\": \"mesh3d\"}], \"parcoords\": [{\"line\": {\"colorbar\": {\"outlinewidth\": 0, \"ticks\": \"\"}}, \"type\": \"parcoords\"}], \"pie\": [{\"automargin\": true, \"type\": \"pie\"}], \"scatter\": [{\"marker\": {\"colorbar\": {\"outlinewidth\": 0, \"ticks\": \"\"}}, \"type\": \"scatter\"}], \"scatter3d\": [{\"line\": {\"colorbar\": {\"outlinewidth\": 0, \"ticks\": \"\"}}, \"marker\": {\"colorbar\": {\"outlinewidth\": 0, \"ticks\": \"\"}}, \"type\": \"scatter3d\"}], \"scattercarpet\": [{\"marker\": {\"colorbar\": {\"outlinewidth\": 0, \"ticks\": \"\"}}, \"type\": \"scattercarpet\"}], \"scattergeo\": [{\"marker\": {\"colorbar\": {\"outlinewidth\": 0, \"ticks\": \"\"}}, \"type\": \"scattergeo\"}], \"scattergl\": [{\"marker\": {\"colorbar\": {\"outlinewidth\": 0, \"ticks\": \"\"}}, \"type\": \"scattergl\"}], \"scattermapbox\": [{\"marker\": {\"colorbar\": {\"outlinewidth\": 0, \"ticks\": \"\"}}, \"type\": \"scattermapbox\"}], \"scatterpolar\": [{\"marker\": {\"colorbar\": {\"outlinewidth\": 0, \"ticks\": \"\"}}, \"type\": \"scatterpolar\"}], \"scatterpolargl\": [{\"marker\": {\"colorbar\": {\"outlinewidth\": 0, \"ticks\": \"\"}}, \"type\": \"scatterpolargl\"}], \"scatterternary\": [{\"marker\": {\"colorbar\": {\"outlinewidth\": 0, \"ticks\": \"\"}}, \"type\": \"scatterternary\"}], \"surface\": [{\"colorbar\": {\"outlinewidth\": 0, \"ticks\": \"\"}, \"colorscale\": [[0.0, \"#0d0887\"], [0.1111111111111111, \"#46039f\"], [0.2222222222222222, \"#7201a8\"], [0.3333333333333333, \"#9c179e\"], [0.4444444444444444, \"#bd3786\"], [0.5555555555555556, \"#d8576b\"], [0.6666666666666666, \"#ed7953\"], [0.7777777777777778, \"#fb9f3a\"], [0.8888888888888888, \"#fdca26\"], [1.0, \"#f0f921\"]], \"type\": \"surface\"}], \"table\": [{\"cells\": {\"fill\": {\"color\": \"#EBF0F8\"}, \"line\": {\"color\": \"white\"}}, \"header\": {\"fill\": {\"color\": \"#C8D4E3\"}, \"line\": {\"color\": \"white\"}}, \"type\": \"table\"}]}, \"layout\": {\"annotationdefaults\": {\"arrowcolor\": \"#2a3f5f\", \"arrowhead\": 0, \"arrowwidth\": 1}, \"coloraxis\": {\"colorbar\": {\"outlinewidth\": 0, \"ticks\": \"\"}}, \"colorscale\": {\"diverging\": [[0, \"#8e0152\"], [0.1, \"#c51b7d\"], [0.2, \"#de77ae\"], [0.3, \"#f1b6da\"], [0.4, \"#fde0ef\"], [0.5, \"#f7f7f7\"], [0.6, \"#e6f5d0\"], [0.7, \"#b8e186\"], [0.8, \"#7fbc41\"], [0.9, \"#4d9221\"], [1, \"#276419\"]], \"sequential\": [[0.0, \"#0d0887\"], [0.1111111111111111, \"#46039f\"], [0.2222222222222222, \"#7201a8\"], [0.3333333333333333, \"#9c179e\"], [0.4444444444444444, \"#bd3786\"], [0.5555555555555556, \"#d8576b\"], [0.6666666666666666, \"#ed7953\"], [0.7777777777777778, \"#fb9f3a\"], [0.8888888888888888, \"#fdca26\"], [1.0, \"#f0f921\"]], \"sequentialminus\": [[0.0, \"#0d0887\"], [0.1111111111111111, \"#46039f\"], [0.2222222222222222, \"#7201a8\"], [0.3333333333333333, \"#9c179e\"], [0.4444444444444444, \"#bd3786\"], [0.5555555555555556, \"#d8576b\"], [0.6666666666666666, \"#ed7953\"], [0.7777777777777778, \"#fb9f3a\"], [0.8888888888888888, \"#fdca26\"], [1.0, \"#f0f921\"]]}, \"colorway\": [\"#636efa\", \"#EF553B\", \"#00cc96\", \"#ab63fa\", \"#FFA15A\", \"#19d3f3\", \"#FF6692\", \"#B6E880\", \"#FF97FF\", \"#FECB52\"], \"font\": {\"color\": \"#2a3f5f\"}, \"geo\": {\"bgcolor\": \"white\", \"lakecolor\": \"white\", \"landcolor\": \"#E5ECF6\", \"showlakes\": true, \"showland\": true, \"subunitcolor\": \"white\"}, \"hoverlabel\": {\"align\": \"left\"}, \"hovermode\": \"closest\", \"mapbox\": {\"style\": \"light\"}, \"paper_bgcolor\": \"white\", \"plot_bgcolor\": \"#E5ECF6\", \"polar\": {\"angularaxis\": {\"gridcolor\": \"white\", \"linecolor\": \"white\", \"ticks\": \"\"}, \"bgcolor\": \"#E5ECF6\", \"radialaxis\": {\"gridcolor\": \"white\", \"linecolor\": \"white\", \"ticks\": \"\"}}, \"scene\": {\"xaxis\": {\"backgroundcolor\": \"#E5ECF6\", \"gridcolor\": \"white\", \"gridwidth\": 2, \"linecolor\": \"white\", \"showbackground\": true, \"ticks\": \"\", \"zerolinecolor\": \"white\"}, \"yaxis\": {\"backgroundcolor\": \"#E5ECF6\", \"gridcolor\": \"white\", \"gridwidth\": 2, \"linecolor\": \"white\", \"showbackground\": true, \"ticks\": \"\", \"zerolinecolor\": \"white\"}, \"zaxis\": {\"backgroundcolor\": \"#E5ECF6\", \"gridcolor\": \"white\", \"gridwidth\": 2, \"linecolor\": \"white\", \"showbackground\": true, \"ticks\": \"\", \"zerolinecolor\": \"white\"}}, \"shapedefaults\": {\"line\": {\"color\": \"#2a3f5f\"}}, \"ternary\": {\"aaxis\": {\"gridcolor\": \"white\", \"linecolor\": \"white\", \"ticks\": \"\"}, \"baxis\": {\"gridcolor\": \"white\", \"linecolor\": \"white\", \"ticks\": \"\"}, \"bgcolor\": \"#E5ECF6\", \"caxis\": {\"gridcolor\": \"white\", \"linecolor\": \"white\", \"ticks\": \"\"}}, \"title\": {\"x\": 0.05}, \"xaxis\": {\"automargin\": true, \"gridcolor\": \"white\", \"linecolor\": \"white\", \"ticks\": \"\", \"title\": {\"standoff\": 15}, \"zerolinecolor\": \"white\", \"zerolinewidth\": 2}, \"yaxis\": {\"automargin\": true, \"gridcolor\": \"white\", \"linecolor\": \"white\", \"ticks\": \"\", \"title\": {\"standoff\": 15}, \"zerolinecolor\": \"white\", \"zerolinewidth\": 2}}}, \"title\": {\"text\": \"Smartphone Activity Label Distribution for test data\"}, \"xaxis\": {\"title\": {\"text\": \"Activity\"}}, \"yaxis\": {\"title\": {\"text\": \"Count\"}}},\n",
       "                        {\"responsive\": true}\n",
       "                    ).then(function(){\n",
       "                            \n",
       "var gd = document.getElementById('d065a3e6-ba3f-4305-9733-947b4b287d8b');\n",
       "var x = new MutationObserver(function (mutations, observer) {{\n",
       "        var display = window.getComputedStyle(gd).display;\n",
       "        if (!display || display === 'none') {{\n",
       "            console.log([gd, 'removed!']);\n",
       "            Plotly.purge(gd);\n",
       "            observer.disconnect();\n",
       "        }}\n",
       "}});\n",
       "\n",
       "// Listen for the removal of the full notebook cells\n",
       "var notebookContainer = gd.closest('#notebook-container');\n",
       "if (notebookContainer) {{\n",
       "    x.observe(notebookContainer, {childList: true});\n",
       "}}\n",
       "\n",
       "// Listen for the clearing of the current output cell\n",
       "var outputEl = gd.closest('.output');\n",
       "if (outputEl) {{\n",
       "    x.observe(outputEl, {childList: true});\n",
       "}}\n",
       "\n",
       "                        })\n",
       "                };\n",
       "                });\n",
       "            </script>\n",
       "        </div>"
      ]
     },
     "metadata": {},
     "output_type": "display_data"
    }
   ],
   "source": [
    "# Plotting data\n",
    "label_counts1 = df_test.Activity.value_counts()\n",
    "\n",
    "\n",
    "# Get colors\n",
    "n = label_counts1.shape[0]\n",
    "colormap = get_cmap('viridis')\n",
    "colors = [rgb2hex(colormap(col)) for col in np.arange(0, 1.01, 1/(n-1))]\n",
    "\n",
    "# Create plot\n",
    "activity_data = go.Bar(x = label_counts1.index,\n",
    "              y = label_counts1,\n",
    "              marker = dict(color = colors))\n",
    "\n",
    "fig_layout = go.Layout(title = 'Smartphone Activity Label Distribution for test data',\n",
    "                   xaxis = dict(title = 'Activity'),\n",
    "                   yaxis = dict(title = 'Count'))\n",
    "\n",
    "fig = go.Figure(data=[activity_data], layout=fig_layout)\n",
    "iplot(fig)"
   ]
  },
  {
   "cell_type": "code",
   "execution_count": 71,
   "metadata": {},
   "outputs": [],
   "source": [
    "import matplotlib.pyplot as plt\n",
    "import seaborn as sns\n",
    "\n",
    "sns.set_style('whitegrid')\n",
    "plt.rcParams['font.family'] = 'Dejavu Sans'"
   ]
  },
  {
   "cell_type": "code",
   "execution_count": 72,
   "metadata": {},
   "outputs": [
    {
     "data": {
      "image/png": "[encoded data removed]",
      "text/plain": [
       "<Figure size 1152x576 with 1 Axes>"
      ]
     },
     "metadata": {},
     "output_type": "display_data"
    }
   ],
   "source": [
    "plt.figure(figsize=(16,8))\n",
    "plt.title('Data provided by each user', fontsize=20)\n",
    "sns.countplot(x='subject',hue='Activity', data = df_train)\n",
    "plt.show()"
   ]
  },
  {
   "cell_type": "code",
   "execution_count": 73,
   "metadata": {},
   "outputs": [
    {
     "data": {
      "image/png": "[encoded data removed]",
      "text/plain": [
       "<Figure size 1152x576 with 1 Axes>"
      ]
     },
     "metadata": {},
     "output_type": "display_data"
    }
   ],
   "source": [
    "plt.figure(figsize=(16,8))\n",
    "plt.title('Data provided by each user', fontsize=20)\n",
    "sns.countplot(x='subject',hue='Activity', data = df_test)\n",
    "plt.show()"
   ]
  },
  {
   "cell_type": "markdown",
   "metadata": {},
   "source": [
    "#### Question 2:\n",
    "Evaluate the performance of Logistic Regression, Support Vector Machines, Naïve Bayes and K-Nearest Neighbors, with cross-validation. Which classifiers is not capable of handling multiple classes natively? Then what strategy/strategies can be applied to perform multiclass classification for those algorithms. Compare the performance of different algorithms on Test set. "
   ]
  },
  {
   "cell_type": "markdown",
   "metadata": {},
   "source": [
    "<font color='blue'>Native classifiers like Logistic Regression, Perceptron, Support Vector Machines are designed for binary classification problems. We cannot use these types of algorithms directly on multiclass classification problems. To handle this problem we can use heuristic methods that can be used to split a multi-class classification problem into multiple binary classification datasets and train a binary classification model on each dataset. The heuristic methods are One-vs-Rest (OvR) and One-vs-One (OvO). For algorithms like Support Vector Machine classifiers, which perform poorly with the size of the training set, we can prefer OvO as it is faster to train many classifiers on small training datasets than training few classifiers on large training datasets. For binary classification algorithms like Logistic regression, OvR methods are preferred.</font>\n",
    "\n",
    "<font color='blue'>While utilizing these algorithms from Scikit-Learn, we no need to handle these methods explicitly, as Scikit-Learn automatically detects when we try to use a binary classification algorithm for a multiclass classification problem. OvR method will be the default for binary classification algorithms except for SVM classifiers, which utilizes the OvO method.</font>"
   ]
  },
  {
   "cell_type": "code",
   "execution_count": 74,
   "metadata": {},
   "outputs": [],
   "source": [
    "Activity_prepared = df_train.drop(['subject', 'Activity'], axis=1) # drop labels for training set\n",
    "Activity_labels = df_train[\"Activity\"].copy()\n",
    "Activity_test = df_test.drop(['subject', 'Activity'], axis=1)\n",
    "Activity_test_labels = df_test[\"Activity\"].copy()"
   ]
  },
  {
   "cell_type": "code",
   "execution_count": 75,
   "metadata": {},
   "outputs": [],
   "source": [
    "from sklearn.preprocessing import StandardScaler, LabelEncoder\n",
    "encode = LabelEncoder()\n",
    "Activity_labels = encode.fit_transform(Activity_labels)\n",
    "Activity_test_labels = encode.fit_transform(Activity_test_labels)"
   ]
  },
  {
   "cell_type": "code",
   "execution_count": 76,
   "metadata": {},
   "outputs": [
    {
     "data": {
      "text/html": [
       "<div>\n",
       "<style scoped>\n",
       "    .dataframe tbody tr th:only-of-type {\n",
       "        vertical-align: middle;\n",
       "    }\n",
       "\n",
       "    .dataframe tbody tr th {\n",
       "        vertical-align: top;\n",
       "    }\n",
       "\n",
       "    .dataframe thead th {\n",
       "        text-align: right;\n",
       "    }\n",
       "</style>\n",
       "<table border=\"1\" class=\"dataframe\">\n",
       "  <thead>\n",
       "    <tr style=\"text-align: right;\">\n",
       "      <th></th>\n",
       "      <th>tBodyAccmeanX</th>\n",
       "      <th>tBodyAccmeanY</th>\n",
       "      <th>tBodyAccmeanZ</th>\n",
       "      <th>tBodyAccstdX</th>\n",
       "      <th>tBodyAccstdY</th>\n",
       "      <th>tBodyAccstdZ</th>\n",
       "      <th>tBodyAccmadX</th>\n",
       "      <th>tBodyAccmadY</th>\n",
       "      <th>tBodyAccmadZ</th>\n",
       "      <th>tBodyAccmaxX</th>\n",
       "      <th>...</th>\n",
       "      <th>fBodyBodyGyroJerkMagmeanFreq</th>\n",
       "      <th>fBodyBodyGyroJerkMagskewness</th>\n",
       "      <th>fBodyBodyGyroJerkMagkurtosis</th>\n",
       "      <th>angletBodyAccMeangravity</th>\n",
       "      <th>angletBodyAccJerkMeangravityMean</th>\n",
       "      <th>angletBodyGyroMeangravityMean</th>\n",
       "      <th>angletBodyGyroJerkMeangravityMean</th>\n",
       "      <th>angleXgravityMean</th>\n",
       "      <th>angleYgravityMean</th>\n",
       "      <th>angleZgravityMean</th>\n",
       "    </tr>\n",
       "  </thead>\n",
       "  <tbody>\n",
       "    <tr>\n",
       "      <td>0</td>\n",
       "      <td>0.288585</td>\n",
       "      <td>-0.020294</td>\n",
       "      <td>-0.132905</td>\n",
       "      <td>-0.995279</td>\n",
       "      <td>-0.983111</td>\n",
       "      <td>-0.913526</td>\n",
       "      <td>-0.995112</td>\n",
       "      <td>-0.983185</td>\n",
       "      <td>-0.923527</td>\n",
       "      <td>-0.934724</td>\n",
       "      <td>...</td>\n",
       "      <td>-0.074323</td>\n",
       "      <td>-0.298676</td>\n",
       "      <td>-0.710304</td>\n",
       "      <td>-0.112754</td>\n",
       "      <td>0.030400</td>\n",
       "      <td>-0.464761</td>\n",
       "      <td>-0.018446</td>\n",
       "      <td>-0.841247</td>\n",
       "      <td>0.179941</td>\n",
       "      <td>-0.058627</td>\n",
       "    </tr>\n",
       "    <tr>\n",
       "      <td>1</td>\n",
       "      <td>0.278419</td>\n",
       "      <td>-0.016411</td>\n",
       "      <td>-0.123520</td>\n",
       "      <td>-0.998245</td>\n",
       "      <td>-0.975300</td>\n",
       "      <td>-0.960322</td>\n",
       "      <td>-0.998807</td>\n",
       "      <td>-0.974914</td>\n",
       "      <td>-0.957686</td>\n",
       "      <td>-0.943068</td>\n",
       "      <td>...</td>\n",
       "      <td>0.158075</td>\n",
       "      <td>-0.595051</td>\n",
       "      <td>-0.861499</td>\n",
       "      <td>0.053477</td>\n",
       "      <td>-0.007435</td>\n",
       "      <td>-0.732626</td>\n",
       "      <td>0.703511</td>\n",
       "      <td>-0.844788</td>\n",
       "      <td>0.180289</td>\n",
       "      <td>-0.054317</td>\n",
       "    </tr>\n",
       "    <tr>\n",
       "      <td>2</td>\n",
       "      <td>0.279653</td>\n",
       "      <td>-0.019467</td>\n",
       "      <td>-0.113462</td>\n",
       "      <td>-0.995380</td>\n",
       "      <td>-0.967187</td>\n",
       "      <td>-0.978944</td>\n",
       "      <td>-0.996520</td>\n",
       "      <td>-0.963668</td>\n",
       "      <td>-0.977469</td>\n",
       "      <td>-0.938692</td>\n",
       "      <td>...</td>\n",
       "      <td>0.414503</td>\n",
       "      <td>-0.390748</td>\n",
       "      <td>-0.760104</td>\n",
       "      <td>-0.118559</td>\n",
       "      <td>0.177899</td>\n",
       "      <td>0.100699</td>\n",
       "      <td>0.808529</td>\n",
       "      <td>-0.848933</td>\n",
       "      <td>0.180637</td>\n",
       "      <td>-0.049118</td>\n",
       "    </tr>\n",
       "    <tr>\n",
       "      <td>3</td>\n",
       "      <td>0.279174</td>\n",
       "      <td>-0.026201</td>\n",
       "      <td>-0.123283</td>\n",
       "      <td>-0.996091</td>\n",
       "      <td>-0.983403</td>\n",
       "      <td>-0.990675</td>\n",
       "      <td>-0.997099</td>\n",
       "      <td>-0.982750</td>\n",
       "      <td>-0.989302</td>\n",
       "      <td>-0.938692</td>\n",
       "      <td>...</td>\n",
       "      <td>0.404573</td>\n",
       "      <td>-0.117290</td>\n",
       "      <td>-0.482845</td>\n",
       "      <td>-0.036788</td>\n",
       "      <td>-0.012892</td>\n",
       "      <td>0.640011</td>\n",
       "      <td>-0.485366</td>\n",
       "      <td>-0.848649</td>\n",
       "      <td>0.181935</td>\n",
       "      <td>-0.047663</td>\n",
       "    </tr>\n",
       "    <tr>\n",
       "      <td>4</td>\n",
       "      <td>0.276629</td>\n",
       "      <td>-0.016570</td>\n",
       "      <td>-0.115362</td>\n",
       "      <td>-0.998139</td>\n",
       "      <td>-0.980817</td>\n",
       "      <td>-0.990482</td>\n",
       "      <td>-0.998321</td>\n",
       "      <td>-0.979672</td>\n",
       "      <td>-0.990441</td>\n",
       "      <td>-0.942469</td>\n",
       "      <td>...</td>\n",
       "      <td>0.087753</td>\n",
       "      <td>-0.351471</td>\n",
       "      <td>-0.699205</td>\n",
       "      <td>0.123320</td>\n",
       "      <td>0.122542</td>\n",
       "      <td>0.693578</td>\n",
       "      <td>-0.615971</td>\n",
       "      <td>-0.847865</td>\n",
       "      <td>0.185151</td>\n",
       "      <td>-0.043892</td>\n",
       "    </tr>\n",
       "    <tr>\n",
       "      <td>...</td>\n",
       "      <td>...</td>\n",
       "      <td>...</td>\n",
       "      <td>...</td>\n",
       "      <td>...</td>\n",
       "      <td>...</td>\n",
       "      <td>...</td>\n",
       "      <td>...</td>\n",
       "      <td>...</td>\n",
       "      <td>...</td>\n",
       "      <td>...</td>\n",
       "      <td>...</td>\n",
       "      <td>...</td>\n",
       "      <td>...</td>\n",
       "      <td>...</td>\n",
       "      <td>...</td>\n",
       "      <td>...</td>\n",
       "      <td>...</td>\n",
       "      <td>...</td>\n",
       "      <td>...</td>\n",
       "      <td>...</td>\n",
       "      <td>...</td>\n",
       "    </tr>\n",
       "    <tr>\n",
       "      <td>7347</td>\n",
       "      <td>0.299665</td>\n",
       "      <td>-0.057193</td>\n",
       "      <td>-0.181233</td>\n",
       "      <td>-0.195387</td>\n",
       "      <td>0.039905</td>\n",
       "      <td>0.077078</td>\n",
       "      <td>-0.282301</td>\n",
       "      <td>0.043616</td>\n",
       "      <td>0.060410</td>\n",
       "      <td>0.210795</td>\n",
       "      <td>...</td>\n",
       "      <td>-0.070157</td>\n",
       "      <td>-0.588433</td>\n",
       "      <td>-0.880324</td>\n",
       "      <td>-0.190437</td>\n",
       "      <td>0.829718</td>\n",
       "      <td>0.206972</td>\n",
       "      <td>-0.425619</td>\n",
       "      <td>-0.791883</td>\n",
       "      <td>0.238604</td>\n",
       "      <td>0.049819</td>\n",
       "    </tr>\n",
       "    <tr>\n",
       "      <td>7348</td>\n",
       "      <td>0.273853</td>\n",
       "      <td>-0.007749</td>\n",
       "      <td>-0.147468</td>\n",
       "      <td>-0.235309</td>\n",
       "      <td>0.004816</td>\n",
       "      <td>0.059280</td>\n",
       "      <td>-0.322552</td>\n",
       "      <td>-0.029456</td>\n",
       "      <td>0.080585</td>\n",
       "      <td>0.117440</td>\n",
       "      <td>...</td>\n",
       "      <td>0.165259</td>\n",
       "      <td>-0.390738</td>\n",
       "      <td>-0.680744</td>\n",
       "      <td>0.064907</td>\n",
       "      <td>0.875679</td>\n",
       "      <td>-0.879033</td>\n",
       "      <td>0.400219</td>\n",
       "      <td>-0.771840</td>\n",
       "      <td>0.252676</td>\n",
       "      <td>0.050053</td>\n",
       "    </tr>\n",
       "    <tr>\n",
       "      <td>7349</td>\n",
       "      <td>0.273387</td>\n",
       "      <td>-0.017011</td>\n",
       "      <td>-0.045022</td>\n",
       "      <td>-0.218218</td>\n",
       "      <td>-0.103822</td>\n",
       "      <td>0.274533</td>\n",
       "      <td>-0.304515</td>\n",
       "      <td>-0.098913</td>\n",
       "      <td>0.332584</td>\n",
       "      <td>0.043999</td>\n",
       "      <td>...</td>\n",
       "      <td>0.195034</td>\n",
       "      <td>0.025145</td>\n",
       "      <td>-0.304029</td>\n",
       "      <td>0.052806</td>\n",
       "      <td>-0.266724</td>\n",
       "      <td>0.864404</td>\n",
       "      <td>0.701169</td>\n",
       "      <td>-0.779133</td>\n",
       "      <td>0.249145</td>\n",
       "      <td>0.040811</td>\n",
       "    </tr>\n",
       "    <tr>\n",
       "      <td>7350</td>\n",
       "      <td>0.289654</td>\n",
       "      <td>-0.018843</td>\n",
       "      <td>-0.158281</td>\n",
       "      <td>-0.219139</td>\n",
       "      <td>-0.111412</td>\n",
       "      <td>0.268893</td>\n",
       "      <td>-0.310487</td>\n",
       "      <td>-0.068200</td>\n",
       "      <td>0.319473</td>\n",
       "      <td>0.101702</td>\n",
       "      <td>...</td>\n",
       "      <td>0.013865</td>\n",
       "      <td>0.063907</td>\n",
       "      <td>-0.344314</td>\n",
       "      <td>-0.101360</td>\n",
       "      <td>0.700740</td>\n",
       "      <td>0.936674</td>\n",
       "      <td>-0.589479</td>\n",
       "      <td>-0.785181</td>\n",
       "      <td>0.246432</td>\n",
       "      <td>0.025339</td>\n",
       "    </tr>\n",
       "    <tr>\n",
       "      <td>7351</td>\n",
       "      <td>0.351503</td>\n",
       "      <td>-0.012423</td>\n",
       "      <td>-0.203867</td>\n",
       "      <td>-0.269270</td>\n",
       "      <td>-0.087212</td>\n",
       "      <td>0.177404</td>\n",
       "      <td>-0.377404</td>\n",
       "      <td>-0.038678</td>\n",
       "      <td>0.229430</td>\n",
       "      <td>0.269013</td>\n",
       "      <td>...</td>\n",
       "      <td>-0.058402</td>\n",
       "      <td>-0.387052</td>\n",
       "      <td>-0.740738</td>\n",
       "      <td>-0.280088</td>\n",
       "      <td>-0.007739</td>\n",
       "      <td>-0.056088</td>\n",
       "      <td>-0.616956</td>\n",
       "      <td>-0.783267</td>\n",
       "      <td>0.246809</td>\n",
       "      <td>0.036695</td>\n",
       "    </tr>\n",
       "  </tbody>\n",
       "</table>\n",
       "<p>7352 rows × 561 columns</p>\n",
       "</div>"
      ],
      "text/plain": [
       "      tBodyAccmeanX  tBodyAccmeanY  tBodyAccmeanZ  tBodyAccstdX  tBodyAccstdY  \\\n",
       "0          0.288585      -0.020294      -0.132905     -0.995279     -0.983111   \n",
       "1          0.278419      -0.016411      -0.123520     -0.998245     -0.975300   \n",
       "2          0.279653      -0.019467      -0.113462     -0.995380     -0.967187   \n",
       "3          0.279174      -0.026201      -0.123283     -0.996091     -0.983403   \n",
       "4          0.276629      -0.016570      -0.115362     -0.998139     -0.980817   \n",
       "...             ...            ...            ...           ...           ...   \n",
       "7347       0.299665      -0.057193      -0.181233     -0.195387      0.039905   \n",
       "7348       0.273853      -0.007749      -0.147468     -0.235309      0.004816   \n",
       "7349       0.273387      -0.017011      -0.045022     -0.218218     -0.103822   \n",
       "7350       0.289654      -0.018843      -0.158281     -0.219139     -0.111412   \n",
       "7351       0.351503      -0.012423      -0.203867     -0.269270     -0.087212   \n",
       "\n",
       "      tBodyAccstdZ  tBodyAccmadX  tBodyAccmadY  tBodyAccmadZ  tBodyAccmaxX  \\\n",
       "0        -0.913526     -0.995112     -0.983185     -0.923527     -0.934724   \n",
       "1        -0.960322     -0.998807     -0.974914     -0.957686     -0.943068   \n",
       "2        -0.978944     -0.996520     -0.963668     -0.977469     -0.938692   \n",
       "3        -0.990675     -0.997099     -0.982750     -0.989302     -0.938692   \n",
       "4        -0.990482     -0.998321     -0.979672     -0.990441     -0.942469   \n",
       "...            ...           ...           ...           ...           ...   \n",
       "7347      0.077078     -0.282301      0.043616      0.060410      0.210795   \n",
       "7348      0.059280     -0.322552     -0.029456      0.080585      0.117440   \n",
       "7349      0.274533     -0.304515     -0.098913      0.332584      0.043999   \n",
       "7350      0.268893     -0.310487     -0.068200      0.319473      0.101702   \n",
       "7351      0.177404     -0.377404     -0.038678      0.229430      0.269013   \n",
       "\n",
       "      ...  fBodyBodyGyroJerkMagmeanFreq  fBodyBodyGyroJerkMagskewness  \\\n",
       "0     ...                     -0.074323                     -0.298676   \n",
       "1     ...                      0.158075                     -0.595051   \n",
       "2     ...                      0.414503                     -0.390748   \n",
       "3     ...                      0.404573                     -0.117290   \n",
       "4     ...                      0.087753                     -0.351471   \n",
       "...   ...                           ...                           ...   \n",
       "7347  ...                     -0.070157                     -0.588433   \n",
       "7348  ...                      0.165259                     -0.390738   \n",
       "7349  ...                      0.195034                      0.025145   \n",
       "7350  ...                      0.013865                      0.063907   \n",
       "7351  ...                     -0.058402                     -0.387052   \n",
       "\n",
       "      fBodyBodyGyroJerkMagkurtosis  angletBodyAccMeangravity  \\\n",
       "0                        -0.710304                 -0.112754   \n",
       "1                        -0.861499                  0.053477   \n",
       "2                        -0.760104                 -0.118559   \n",
       "3                        -0.482845                 -0.036788   \n",
       "4                        -0.699205                  0.123320   \n",
       "...                            ...                       ...   \n",
       "7347                     -0.880324                 -0.190437   \n",
       "7348                     -0.680744                  0.064907   \n",
       "7349                     -0.304029                  0.052806   \n",
       "7350                     -0.344314                 -0.101360   \n",
       "7351                     -0.740738                 -0.280088   \n",
       "\n",
       "      angletBodyAccJerkMeangravityMean  angletBodyGyroMeangravityMean  \\\n",
       "0                             0.030400                      -0.464761   \n",
       "1                            -0.007435                      -0.732626   \n",
       "2                             0.177899                       0.100699   \n",
       "3                            -0.012892                       0.640011   \n",
       "4                             0.122542                       0.693578   \n",
       "...                                ...                            ...   \n",
       "7347                          0.829718                       0.206972   \n",
       "7348                          0.875679                      -0.879033   \n",
       "7349                         -0.266724                       0.864404   \n",
       "7350                          0.700740                       0.936674   \n",
       "7351                         -0.007739                      -0.056088   \n",
       "\n",
       "      angletBodyGyroJerkMeangravityMean  angleXgravityMean  angleYgravityMean  \\\n",
       "0                             -0.018446          -0.841247           0.179941   \n",
       "1                              0.703511          -0.844788           0.180289   \n",
       "2                              0.808529          -0.848933           0.180637   \n",
       "3                             -0.485366          -0.848649           0.181935   \n",
       "4                             -0.615971          -0.847865           0.185151   \n",
       "...                                 ...                ...                ...   \n",
       "7347                          -0.425619          -0.791883           0.238604   \n",
       "7348                           0.400219          -0.771840           0.252676   \n",
       "7349                           0.701169          -0.779133           0.249145   \n",
       "7350                          -0.589479          -0.785181           0.246432   \n",
       "7351                          -0.616956          -0.783267           0.246809   \n",
       "\n",
       "      angleZgravityMean  \n",
       "0             -0.058627  \n",
       "1             -0.054317  \n",
       "2             -0.049118  \n",
       "3             -0.047663  \n",
       "4             -0.043892  \n",
       "...                 ...  \n",
       "7347           0.049819  \n",
       "7348           0.050053  \n",
       "7349           0.040811  \n",
       "7350           0.025339  \n",
       "7351           0.036695  \n",
       "\n",
       "[7352 rows x 561 columns]"
      ]
     },
     "execution_count": 76,
     "metadata": {},
     "output_type": "execute_result"
    }
   ],
   "source": [
    "Activity_prepared"
   ]
  },
  {
   "cell_type": "markdown",
   "metadata": {},
   "source": [
    "## Logistic Regression"
   ]
  },
  {
   "cell_type": "code",
   "execution_count": 77,
   "metadata": {},
   "outputs": [
    {
     "name": "stdout",
     "output_type": "stream",
     "text": [
      "Accuracy on Train data: 0.9907508161044614\n",
      "Accuracy on Test data: 0.9586019681031558\n",
      "Cross validation accuracy: 0.9451909568175096\n"
     ]
    }
   ],
   "source": [
    "from sklearn.linear_model import LogisticRegression\n",
    "from sklearn import metrics\n",
    "from sklearn.model_selection import cross_val_score\n",
    "\n",
    "logreg = LogisticRegression()\n",
    "logreg.fit(Activity_prepared, Activity_labels)\n",
    "logreg_train_predictions = logreg.predict(Activity_prepared)\n",
    "logreg_test_predictions = logreg.predict(Activity_test)\n",
    "\n",
    "print(\"Accuracy on Train data:\",metrics.accuracy_score(Activity_labels,logreg_train_predictions)) \n",
    "print(\"Accuracy on Test data:\",metrics.accuracy_score(Activity_test_labels,logreg_test_predictions))\n",
    "\n",
    "print(\"Cross validation accuracy:\",cross_val_score(logreg, Activity_prepared, Activity_labels, cv=10, scoring='accuracy').mean())"
   ]
  },
  {
   "cell_type": "markdown",
   "metadata": {},
   "source": [
    "## OneVsRestClassifier with LogisticRegression"
   ]
  },
  {
   "cell_type": "code",
   "execution_count": 78,
   "metadata": {},
   "outputs": [
    {
     "name": "stdout",
     "output_type": "stream",
     "text": [
      "Accuracy on Train data: 0.9910228509249184\n",
      "Accuracy on Test data: 0.9647098744485918\n",
      "Cross validation accuracy: 0.9484540446613428\n"
     ]
    }
   ],
   "source": [
    "from sklearn import metrics\n",
    "from sklearn.model_selection import cross_val_score\n",
    "from sklearn.multiclass import OneVsRestClassifier\n",
    "\n",
    "logreg = OneVsRestClassifier(LogisticRegression())\n",
    "logreg.fit(Activity_prepared, Activity_labels)\n",
    "logreg_train_predictions = logreg.predict(Activity_prepared)\n",
    "logreg_test_predictions = logreg.predict(Activity_test)\n",
    "\n",
    "print(\"Accuracy on Train data:\",metrics.accuracy_score(Activity_labels,logreg_train_predictions)) \n",
    "print(\"Accuracy on Test data:\",metrics.accuracy_score(Activity_test_labels,logreg_test_predictions))\n",
    "print(\"Cross validation accuracy:\",cross_val_score(logreg, Activity_prepared, Activity_labels, cv=10, scoring='accuracy').mean())"
   ]
  },
  {
   "cell_type": "markdown",
   "metadata": {},
   "source": [
    "## Support Vector Machines"
   ]
  },
  {
   "cell_type": "code",
   "execution_count": 79,
   "metadata": {},
   "outputs": [
    {
     "name": "stdout",
     "output_type": "stream",
     "text": [
      "Accuracy on Train data: 0.9790533188248096\n",
      "Accuracy on Test data: 0.9504580929759077\n",
      "Cross validation accuracy: 0.9397478556640048\n"
     ]
    }
   ],
   "source": [
    "from sklearn.svm import SVC\n",
    "svc_model = SVC()\n",
    "\n",
    "svc_model.fit(Activity_prepared, Activity_labels)\n",
    "svc_model_train_predictions = svc_model.predict(Activity_prepared)\n",
    "svc_model_test_predictions = svc_model.predict(Activity_test)\n",
    "\n",
    "print(\"Accuracy on Train data:\",metrics.accuracy_score(Activity_labels,svc_model_train_predictions)) \n",
    "print(\"Accuracy on Test data:\",metrics.accuracy_score(Activity_test_labels,svc_model_test_predictions))\n",
    "print(\"Cross validation accuracy:\",cross_val_score(svc_model, Activity_prepared, Activity_labels, cv=10, scoring='accuracy').mean())"
   ]
  },
  {
   "cell_type": "markdown",
   "metadata": {},
   "source": [
    "## OneVsOneClassifier with Support Vector Machines"
   ]
  },
  {
   "cell_type": "code",
   "execution_count": 80,
   "metadata": {},
   "outputs": [
    {
     "name": "stdout",
     "output_type": "stream",
     "text": [
      "Accuracy on Train data: 0.9793253536452666\n",
      "Accuracy on Test data: 0.9491007804546997\n",
      "Cross validation accuracy: 0.9412442694469092\n"
     ]
    }
   ],
   "source": [
    "from sklearn.svm import SVC\n",
    "from sklearn.multiclass import OneVsOneClassifier\n",
    "svc_model = OneVsOneClassifier(SVC())\n",
    "\n",
    "svc_model.fit(Activity_prepared, Activity_labels)\n",
    "svc_model_train_predictions = svc_model.predict(Activity_prepared)\n",
    "svc_model_test_predictions = svc_model.predict(Activity_test)\n",
    "\n",
    "print(\"Accuracy on Train data:\",metrics.accuracy_score(Activity_labels,svc_model_train_predictions)) \n",
    "print(\"Accuracy on Test data:\",metrics.accuracy_score(Activity_test_labels,svc_model_test_predictions))\n",
    "print(\"Cross validation accuracy:\",cross_val_score(svc_model, Activity_prepared, Activity_labels, cv=10, scoring='accuracy').mean())"
   ]
  },
  {
   "cell_type": "markdown",
   "metadata": {},
   "source": [
    "## Naive Bayes"
   ]
  },
  {
   "cell_type": "code",
   "execution_count": 81,
   "metadata": {},
   "outputs": [
    {
     "name": "stdout",
     "output_type": "stream",
     "text": [
      "Accuracy on Train data: 0.7463275299238302\n",
      "Accuracy on Test data: 0.7702748557855447\n",
      "Cross validation accuracy: 0.6979094572611654\n"
     ]
    }
   ],
   "source": [
    "from sklearn.naive_bayes import GaussianNB\n",
    "gnb = GaussianNB()\n",
    "\n",
    "gnb.fit(Activity_prepared, Activity_labels)\n",
    "gnb_model_train_predictions = gnb.predict(Activity_prepared)\n",
    "gnb_model_test_predictions = gnb.predict(Activity_test)\n",
    "\n",
    "print(\"Accuracy on Train data:\",metrics.accuracy_score(Activity_labels,gnb_model_train_predictions)) \n",
    "print(\"Accuracy on Test data:\",metrics.accuracy_score(Activity_test_labels,gnb_model_test_predictions))\n",
    "print(\"Cross validation accuracy:\",cross_val_score(gnb, Activity_prepared, Activity_labels, cv=10, scoring='accuracy').mean())"
   ]
  },
  {
   "cell_type": "markdown",
   "metadata": {},
   "source": [
    "## KNN"
   ]
  },
  {
   "cell_type": "code",
   "execution_count": 82,
   "metadata": {},
   "outputs": [
    {
     "name": "stdout",
     "output_type": "stream",
     "text": [
      "Accuracy on Train data: 0.984221980413493\n",
      "Accuracy on Test data: 0.9002375296912114\n",
      "Cross validation accuracy: 0.9065640712806861\n"
     ]
    }
   ],
   "source": [
    "from sklearn.neighbors import KNeighborsClassifier\n",
    "\n",
    "knn = KNeighborsClassifier(n_neighbors=5)\n",
    "knn.fit(Activity_prepared, Activity_labels)\n",
    "knn_model_train_predictions = knn.predict(Activity_prepared)\n",
    "knn_model_test_predictions = knn.predict(Activity_test)\n",
    "\n",
    "print(\"Accuracy on Train data:\",metrics.accuracy_score(Activity_labels,knn_model_train_predictions)) \n",
    "print(\"Accuracy on Test data:\",metrics.accuracy_score(Activity_test_labels,knn_model_test_predictions))\n",
    "print(\"Cross validation accuracy:\",cross_val_score(knn, Activity_prepared, Activity_labels, cv=10, scoring='accuracy').mean())"
   ]
  },
  {
   "cell_type": "markdown",
   "metadata": {},
   "source": [
    "## Results and Model comparisions"
   ]
  },
  {
   "cell_type": "markdown",
   "metadata": {},
   "source": [
    "|  Score/ Metric                          |  LogisticReression   | Support Vector Machines | Naïve Bayes   | K-Nearest Neighbors | \n",
    "|----------------------------------------|----------------------|-------------------------|---------------|---------------------|\n",
    "|Accuracy on Train data                  |    0.991           |  0.979                |    0.746    | 0.984             |\n",
    "|Accuray on Test data                    |    0.964           |  0.949                |    0.770    | 0.900             |\n",
    "|Cross validation Acuuracy on Train data |    0.948           |  0.941                |    0.697    | 0.906             |\n",
    "\n",
    "<font color='blue'>Logistic Regression: From the performence metrics of logistic regression on Train with tarin data is 0.991 and Test data is 0.964. we have done the Cross validation on the Train data, the accuracy of the of the cross validation is 0.948 which is less than normal Train accuracy.From the cross validation results,It is clear that the classification task accuracy is not correctly defined with the Logistic Regreesion. which is deviating from the Train accuracy.</font>\n",
    "\n",
    "<font color='blue'>Support Vector Machines: From the performence metrics of Support Vector Machines on Train with tarin data is 0.979 and Test data is 0.949. we have done the Cross validation on the Train data, the accuracy of the of the cross validation is 0.941 which is less than Train accuracy.from the Cross validation results It is clear that the classification task accuracy is not correctly defined with the Support Vector Machines.and it is is deviating from the Train accuracy but it is equal to test data accuracy.</font>\n",
    "\n",
    "<font color='blue'>Naïve Bayes: From the performence metrics of Naïve Bayes on Train with tarin data is 0.746 and Test data is 0.770. we have done the Cross validation on the Train data, the accuracy of the of the cross validation is 0.697 which is less than Train accuracy.So form the results it is clear that the classification accuracy is not correctly defined with the train data accuracy.</font>\n",
    " \n",
    "<font color='blue'>K-Nearest Neighbors: From the performence metrics of K-Nearest Neighbors on Train with tarin data is 0.984 and Test data is 0.900. we have done the Cross validation on the Train data, the accuracy of the of the cross validation is 0.906 which is less than normal Train accuracy. Here, the Corss validation does not give equal accuracy with the Train vaidation.There is a differnce in the accuracy so it is highly deviating.But it is euqal with the test data accuracy.</font>\n",
    "\n",
    "<font color= 'blue'>Logistic Regression performed very good when compared with the other models with an accuracy of 0.991 which is highest of all models.</font>\n",
    "\n",
    "<font color= 'blue'>Logistic Regression performed very good when compared with the other models with an accuracy of test data which is 0.964 and it is highest of all models</font>\n"
   ]
  },
  {
   "cell_type": "markdown",
   "metadata": {},
   "source": [
    "#### Question 3:\n",
    "Would scaling the features affect the classification results? Discuss your results and findings."
   ]
  },
  {
   "cell_type": "markdown",
   "metadata": {},
   "source": [
    "## Standard scaler"
   ]
  },
  {
   "cell_type": "code",
   "execution_count": 83,
   "metadata": {},
   "outputs": [],
   "source": [
    "from sklearn.preprocessing import StandardScaler\n",
    "stdScaler = StandardScaler()\n",
    "Activity_prepared_scaled = stdScaler.fit_transform(Activity_prepared.values)\n",
    "Activity_test_scaled = stdScaler.transform(Activity_test.values)"
   ]
  },
  {
   "cell_type": "markdown",
   "metadata": {},
   "source": [
    "## Logistic Regression"
   ]
  },
  {
   "cell_type": "code",
   "execution_count": 84,
   "metadata": {},
   "outputs": [
    {
     "name": "stdout",
     "output_type": "stream",
     "text": [
      "Accuracy on Train data: 0.9964635473340587\n",
      "Accuracy on Test data: 0.9545300305395318\n",
      "Cross validation accuracy: 0.9458712289263531\n"
     ]
    }
   ],
   "source": [
    "logreg = LogisticRegression()\n",
    "logreg.fit(Activity_prepared_scaled, Activity_labels)\n",
    "logreg_train_predictions = logreg.predict(Activity_prepared_scaled)\n",
    "logreg_test_predictions = logreg.predict(Activity_test_scaled)\n",
    "\n",
    "print(\"Accuracy on Train data:\",metrics.accuracy_score(Activity_labels,logreg_train_predictions)) \n",
    "print(\"Accuracy on Test data:\",metrics.accuracy_score(Activity_test_labels,logreg_test_predictions))\n",
    "print(\"Cross validation accuracy:\",cross_val_score(logreg, Activity_prepared_scaled, Activity_labels, cv=10, scoring='accuracy').mean())"
   ]
  },
  {
   "cell_type": "markdown",
   "metadata": {},
   "source": [
    "## OneVsRestClassifier with LogisticRegression"
   ]
  },
  {
   "cell_type": "code",
   "execution_count": 87,
   "metadata": {},
   "outputs": [
    {
     "name": "stdout",
     "output_type": "stream",
     "text": [
      "Accuracy on Train data: 0.9949673558215452\n",
      "Accuracy on Test data: 0.9579233118425518\n",
      "Cross validation accuracy: 0.9469580005915409\n"
     ]
    }
   ],
   "source": [
    "logreg = OneVsRestClassifier(LogisticRegression())\n",
    "logreg.fit(Activity_prepared_scaled, Activity_labels)\n",
    "logreg_train_predictions = logreg.predict(Activity_prepared_scaled)\n",
    "logreg_test_predictions = logreg.predict(Activity_test_scaled)\n",
    "\n",
    "print(\"Accuracy on Train data:\",metrics.accuracy_score(Activity_labels,logreg_train_predictions)) \n",
    "print(\"Accuracy on Test data:\",metrics.accuracy_score(Activity_test_labels,logreg_test_predictions))\n",
    "print(\"Cross validation accuracy:\",cross_val_score(logreg, Activity_prepared_scaled, Activity_labels, cv=10, scoring='accuracy').mean())"
   ]
  },
  {
   "cell_type": "markdown",
   "metadata": {},
   "source": [
    "## Support Vector Machines"
   ]
  },
  {
   "cell_type": "code",
   "execution_count": 88,
   "metadata": {},
   "outputs": [
    {
     "name": "stdout",
     "output_type": "stream",
     "text": [
      "Accuracy on Train data: 0.9866702937976061\n",
      "Accuracy on Test data: 0.9518154054971157\n",
      "Cross validation accuracy: 0.9377087030464359\n"
     ]
    }
   ],
   "source": [
    "svc_model = SVC()\n",
    "\n",
    "svc_model.fit(Activity_prepared_scaled, Activity_labels)\n",
    "svc_model_train_predictions = svc_model.predict(Activity_prepared_scaled)\n",
    "svc_model_test_predictions = svc_model.predict(Activity_test_scaled)\n",
    "\n",
    "print(\"Accuracy on Train data:\",metrics.accuracy_score(Activity_labels,svc_model_train_predictions)) \n",
    "print(\"Accuracy on Test data:\",metrics.accuracy_score(Activity_test_labels,svc_model_test_predictions))\n",
    "print(\"Cross validation accuracy:\",cross_val_score(svc_model, Activity_prepared_scaled, Activity_labels, cv=10, scoring='accuracy').mean())"
   ]
  },
  {
   "cell_type": "markdown",
   "metadata": {},
   "source": [
    "## OneVsOneClassifier with Support Vector Machines"
   ]
  },
  {
   "cell_type": "code",
   "execution_count": 89,
   "metadata": {},
   "outputs": [
    {
     "name": "stdout",
     "output_type": "stream",
     "text": [
      "Accuracy on Train data: 0.9934711643090316\n",
      "Accuracy on Test data: 0.9548693586698337\n",
      "Cross validation accuracy: 0.9373014640638864\n"
     ]
    }
   ],
   "source": [
    "svc_model = OneVsOneClassifier(SVC())\n",
    "\n",
    "svc_model.fit(Activity_prepared_scaled, Activity_labels)\n",
    "svc_model_train_predictions = svc_model.predict(Activity_prepared_scaled)\n",
    "svc_model_test_predictions = svc_model.predict(Activity_test_scaled)\n",
    "\n",
    "print(\"Accuracy on Train data:\",metrics.accuracy_score(Activity_labels,svc_model_train_predictions)) \n",
    "print(\"Accuracy on Test data:\",metrics.accuracy_score(Activity_test_labels,svc_model_test_predictions))\n",
    "print(\"Cross validation accuracy:\",cross_val_score(svc_model, Activity_prepared_scaled, Activity_labels, cv=10, scoring='accuracy').mean())"
   ]
  },
  {
   "cell_type": "markdown",
   "metadata": {},
   "source": [
    "## Naive Bayes"
   ]
  },
  {
   "cell_type": "code",
   "execution_count": 90,
   "metadata": {},
   "outputs": [
    {
     "name": "stdout",
     "output_type": "stream",
     "text": [
      "Accuracy on Train data: 0.7461915125136017\n",
      "Accuracy on Test data: 0.7702748557855447\n",
      "Cross validation accuracy: 0.697773587695948\n"
     ]
    }
   ],
   "source": [
    "gnb = GaussianNB()\n",
    "\n",
    "gnb.fit(Activity_prepared_scaled, Activity_labels)\n",
    "gnb_model_train_predictions = gnb.predict(Activity_prepared_scaled)\n",
    "gnb_model_test_predictions = gnb.predict(Activity_test_scaled)\n",
    "\n",
    "print(\"Accuracy on Train data:\",metrics.accuracy_score(Activity_labels,gnb_model_train_predictions)) \n",
    "print(\"Accuracy on Test data:\",metrics.accuracy_score(Activity_test_labels,gnb_model_test_predictions))\n",
    "print(\"Cross validation accuracy:\",cross_val_score(gnb, Activity_prepared_scaled, Activity_labels, cv=10, scoring='accuracy').mean())"
   ]
  },
  {
   "cell_type": "markdown",
   "metadata": {},
   "source": [
    "## KNN"
   ]
  },
  {
   "cell_type": "code",
   "execution_count": 91,
   "metadata": {},
   "outputs": [
    {
     "name": "stdout",
     "output_type": "stream",
     "text": [
      "Accuracy on Train data: 0.9828618063112078\n",
      "Accuracy on Test data: 0.8836104513064132\n",
      "Cross validation accuracy: 0.8826240387459332\n"
     ]
    }
   ],
   "source": [
    "knn = KNeighborsClassifier(n_neighbors=5)\n",
    "knn.fit(Activity_prepared_scaled, Activity_labels)\n",
    "knn_model_train_predictions = knn.predict(Activity_prepared_scaled)\n",
    "knn_model_test_predictions = knn.predict(Activity_test_scaled)\n",
    "\n",
    "print(\"Accuracy on Train data:\",metrics.accuracy_score(Activity_labels,knn_model_train_predictions)) \n",
    "print(\"Accuracy on Test data:\",metrics.accuracy_score(Activity_test_labels,knn_model_test_predictions))\n",
    "print(\"Cross validation accuracy:\",cross_val_score(knn, Activity_prepared_scaled, Activity_labels, cv=10, scoring='accuracy').mean())"
   ]
  },
  {
   "cell_type": "markdown",
   "metadata": {},
   "source": [
    "## Robust scaler"
   ]
  },
  {
   "cell_type": "code",
   "execution_count": 92,
   "metadata": {},
   "outputs": [],
   "source": [
    "from sklearn.preprocessing import RobustScaler\n",
    "rbtScaler = RobustScaler()\n",
    "Activity_prepared_scaled = rbtScaler.fit_transform(Activity_prepared.values)\n",
    "Activity_test_scaled = rbtScaler.transform(Activity_test.values)"
   ]
  },
  {
   "cell_type": "markdown",
   "metadata": {},
   "source": [
    "## Logistic Regression"
   ]
  },
  {
   "cell_type": "code",
   "execution_count": 94,
   "metadata": {},
   "outputs": [
    {
     "name": "stdout",
     "output_type": "stream",
     "text": [
      "Accuracy on Train data: 0.9946953210010882\n",
      "Accuracy on Test data: 0.9528333898880217\n",
      "Cross validation accuracy: 0.9402942916296952\n"
     ]
    }
   ],
   "source": [
    "logreg = LogisticRegression()\n",
    "logreg.fit(Activity_prepared_scaled, Activity_labels)\n",
    "logreg_train_predictions = logreg.predict(Activity_prepared_scaled)\n",
    "logreg_test_predictions = logreg.predict(Activity_test_scaled)\n",
    "\n",
    "print(\"Accuracy on Train data:\",metrics.accuracy_score(Activity_labels,logreg_train_predictions)) \n",
    "print(\"Accuracy on Test data:\",metrics.accuracy_score(Activity_test_labels,logreg_test_predictions))\n",
    "print(\"Cross validation accuracy:\",cross_val_score(logreg, Activity_prepared_scaled, Activity_labels, cv=10, scoring='accuracy').mean())"
   ]
  },
  {
   "cell_type": "markdown",
   "metadata": {},
   "source": [
    "## OneVsRestClassifier with LogisticRegression"
   ]
  },
  {
   "cell_type": "code",
   "execution_count": 96,
   "metadata": {},
   "outputs": [
    {
     "name": "stdout",
     "output_type": "stream",
     "text": [
      "Accuracy on Train data: 0.9929270946681176\n",
      "Accuracy on Test data: 0.9596199524940617\n",
      "Cross validation accuracy: 0.9396138346643005\n"
     ]
    }
   ],
   "source": [
    "logreg = OneVsRestClassifier(LogisticRegression())\n",
    "logreg.fit(Activity_prepared_scaled, Activity_labels)\n",
    "logreg_train_predictions = logreg.predict(Activity_prepared_scaled)\n",
    "logreg_test_predictions = logreg.predict(Activity_test_scaled)\n",
    "\n",
    "print(\"Accuracy on Train data:\",metrics.accuracy_score(Activity_labels,logreg_train_predictions)) \n",
    "print(\"Accuracy on Test data:\",metrics.accuracy_score(Activity_test_labels,logreg_test_predictions))\n",
    "print(\"Cross validation accuracy:\",cross_val_score(logreg, Activity_prepared_scaled, Activity_labels, cv=10, scoring='accuracy').mean())"
   ]
  },
  {
   "cell_type": "markdown",
   "metadata": {},
   "source": [
    "## Support Vector Machines"
   ]
  },
  {
   "cell_type": "code",
   "execution_count": 97,
   "metadata": {},
   "outputs": [
    {
     "name": "stdout",
     "output_type": "stream",
     "text": [
      "Accuracy on Train data: 0.9775571273122959\n",
      "Accuracy on Test data: 0.9355276552426196\n",
      "Cross validation accuracy: 0.9099556344276843\n"
     ]
    }
   ],
   "source": [
    "svc_model = SVC()\n",
    "\n",
    "svc_model.fit(Activity_prepared_scaled, Activity_labels)\n",
    "svc_model_train_predictions = svc_model.predict(Activity_prepared_scaled)\n",
    "svc_model_test_predictions = svc_model.predict(Activity_test_scaled)\n",
    "\n",
    "print(\"Accuracy on Train data:\",metrics.accuracy_score(Activity_labels,svc_model_train_predictions)) \n",
    "print(\"Accuracy on Test data:\",metrics.accuracy_score(Activity_test_labels,svc_model_test_predictions))\n",
    "print(\"Cross validation accuracy:\",cross_val_score(svc_model, Activity_prepared_scaled, Activity_labels, cv=10, scoring='accuracy').mean())"
   ]
  },
  {
   "cell_type": "markdown",
   "metadata": {},
   "source": [
    "## OneVsOneClassifier with Support Vector Machines"
   ]
  },
  {
   "cell_type": "code",
   "execution_count": 98,
   "metadata": {},
   "outputs": [
    {
     "name": "stdout",
     "output_type": "stream",
     "text": [
      "Accuracy on Train data: 0.9915669205658324\n",
      "Accuracy on Test data: 0.9453681710213777\n",
      "Cross validation accuracy: 0.9196160529429163\n"
     ]
    }
   ],
   "source": [
    "svc_model = OneVsOneClassifier(SVC())\n",
    "\n",
    "svc_model.fit(Activity_prepared_scaled, Activity_labels)\n",
    "svc_model_train_predictions = svc_model.predict(Activity_prepared_scaled)\n",
    "svc_model_test_predictions = svc_model.predict(Activity_test_scaled)\n",
    "\n",
    "print(\"Accuracy on Train data:\",metrics.accuracy_score(Activity_labels,svc_model_train_predictions)) \n",
    "print(\"Accuracy on Test data:\",metrics.accuracy_score(Activity_test_labels,svc_model_test_predictions))\n",
    "print(\"Cross validation accuracy:\",cross_val_score(svc_model, Activity_prepared_scaled, Activity_labels, cv=10, scoring='accuracy').mean())"
   ]
  },
  {
   "cell_type": "markdown",
   "metadata": {},
   "source": [
    "## Naive Bayes"
   ]
  },
  {
   "cell_type": "code",
   "execution_count": 99,
   "metadata": {},
   "outputs": [
    {
     "name": "stdout",
     "output_type": "stream",
     "text": [
      "Accuracy on Train data: 0.7463275299238302\n",
      "Accuracy on Test data: 0.7702748557855447\n",
      "Cross validation accuracy: 0.6979094572611654\n"
     ]
    }
   ],
   "source": [
    "gnb = GaussianNB()\n",
    "\n",
    "gnb.fit(Activity_prepared_scaled, Activity_labels)\n",
    "gnb_model_train_predictions = gnb.predict(Activity_prepared_scaled)\n",
    "gnb_model_test_predictions = gnb.predict(Activity_test_scaled)\n",
    "\n",
    "print(\"Accuracy on Train data:\",metrics.accuracy_score(Activity_labels,gnb_model_train_predictions)) \n",
    "print(\"Accuracy on Test data:\",metrics.accuracy_score(Activity_test_labels,gnb_model_test_predictions))\n",
    "print(\"Cross validation accuracy:\",cross_val_score(gnb, Activity_prepared_scaled, Activity_labels, cv=10, scoring='accuracy').mean())"
   ]
  },
  {
   "cell_type": "markdown",
   "metadata": {},
   "source": [
    "## KNN"
   ]
  },
  {
   "cell_type": "code",
   "execution_count": 100,
   "metadata": {},
   "outputs": [
    {
     "name": "stdout",
     "output_type": "stream",
     "text": [
      "Accuracy on Train data: 0.9453210010881393\n",
      "Accuracy on Test data: 0.829317950458093\n",
      "Cross validation accuracy: 0.8450728334812186\n"
     ]
    }
   ],
   "source": [
    "knn = KNeighborsClassifier(n_neighbors=5)\n",
    "knn.fit(Activity_prepared_scaled, Activity_labels)\n",
    "knn_model_train_predictions = knn.predict(Activity_prepared_scaled)\n",
    "knn_model_test_predictions = knn.predict(Activity_test_scaled)\n",
    "\n",
    "print(\"Accuracy on Train data:\",metrics.accuracy_score(Activity_labels,knn_model_train_predictions)) \n",
    "print(\"Accuracy on Test data:\",metrics.accuracy_score(Activity_test_labels,knn_model_test_predictions))\n",
    "print(\"Cross validation accuracy:\",cross_val_score(knn, Activity_prepared_scaled, Activity_labels, cv=10, scoring='accuracy').mean())"
   ]
  },
  {
   "cell_type": "markdown",
   "metadata": {},
   "source": [
    "## Results and Comparisions"
   ]
  },
  {
   "cell_type": "markdown",
   "metadata": {},
   "source": [
    "\n",
    "### Standard Scalar\n",
    "\n",
    "|  Score/ Metric                          |  LogisticReression   | Support Vector Machines | Naïve Bayes   | K-Nearest Neighbors | \n",
    "|----------------------------------------|----------------------|-------------------------|---------------|---------------------|\n",
    "|Accuracy on Train data                  |    0.994           |  0.993                |    0.746    | 0.982             |\n",
    "|Accuray on Test data                    |    0.957           |  0.954               |    0.770    | 0.883             |\n",
    "|Cross validation Acuuracy on Train data |    0.946           |  0.937                |    0.697    | 0.982             |\n",
    "\n",
    "\n",
    "### Robust Scalar\n",
    "\n",
    "|  Score/ Metric                          |  LogisticReression   | Support Vector Machines | Naïve Bayes   | K-Nearest Neighbors | \n",
    "|----------------------------------------|----------------------|-------------------------|---------------|---------------------|\n",
    "|Accuracy on Train data                  |    0.992           |  0.991                |    0.746    | 0.945             |\n",
    "|Accuray on Test data                    |    0.959           |  0.945                |    0.770    | 0.829             |\n",
    "|Cross validation Acuuracy on Train data |    0.939           |  0.919                |    0.697    | 0.845             |\n",
    "\n",
    "\n",
    "<font color = 'blue'>We perfomed scaling on the models usind standard scalar and Robust scalar methods, Both methods did not show improvement in the performence of Logistic Regression and Naive Bayes classification algorithms. \n",
    "\n",
    "We have observed an increase in the performence of Support Vector Machines on both scaling methods. For KNN algorithm performence reduced in the Robust scalar method.</font>"
   ]
  },
  {
   "cell_type": "markdown",
   "metadata": {},
   "source": [
    "#### Question 4:\n",
    "Tune the parameters of each algorithms, then evaluate the performance of the best estimators on the Test dataset, does the results improved? Discuss your results and findings."
   ]
  },
  {
   "cell_type": "markdown",
   "metadata": {},
   "source": [
    "## SVC"
   ]
  },
  {
   "cell_type": "code",
   "execution_count": 101,
   "metadata": {},
   "outputs": [
    {
     "name": "stdout",
     "output_type": "stream",
     "text": [
      "Tuning Hyper Parameter with Accuracy Metrics\n"
     ]
    },
    {
     "data": {
      "text/plain": [
       "GridSearchCV(cv=10, estimator=SVC(),\n",
       "             param_grid=[{'C': [1, 10, 100, 1000], 'gamma': [0.001, 0.0001],\n",
       "                          'kernel': ['rbf']},\n",
       "                         {'C': [1, 10, 100, 1000], 'kernel': ['linear']}],\n",
       "             scoring='accuracy')"
      ]
     },
     "execution_count": 101,
     "metadata": {},
     "output_type": "execute_result"
    }
   ],
   "source": [
    "from sklearn.model_selection import GridSearchCV\n",
    "from sklearn.metrics import classification_report\n",
    "from sklearn import svm\n",
    "model = svm.SVC()\n",
    "tuned_parameters = [{'kernel': ['rbf'], 'gamma': [1e-3, 1e-4],\n",
    "                     'C': [1, 10, 100, 1000]},\n",
    "                    {'kernel': ['linear'], 'C': [1, 10, 100, 1000]}]\n",
    "\n",
    "#score = 'accuracy'\n",
    "print(\"Tuning Hyper Parameter with Accuracy Metrics\")\n",
    "svc_clf = GridSearchCV(model, tuned_parameters, cv=10, scoring= 'accuracy')\n",
    "svc_clf.fit(Activity_prepared_scaled,Activity_labels)"
   ]
  },
  {
   "cell_type": "code",
   "execution_count": 102,
   "metadata": {},
   "outputs": [],
   "source": [
    "#clf.fit(Activity_prepared_scaled,Activity_labels)\n",
    "final_model = svc_clf.best_estimator_"
   ]
  },
  {
   "cell_type": "code",
   "execution_count": 103,
   "metadata": {},
   "outputs": [
    {
     "name": "stdout",
     "output_type": "stream",
     "text": [
      "Report:\n",
      "0.9552086868001357\n",
      "              precision    recall  f1-score   support\n",
      "\n",
      "           0       1.00      1.00      1.00       537\n",
      "           1       0.96      0.90      0.93       491\n",
      "           2       0.92      0.97      0.94       532\n",
      "           3       0.94      0.99      0.96       496\n",
      "           4       0.98      0.92      0.95       420\n",
      "           5       0.94      0.95      0.94       471\n",
      "\n",
      "    accuracy                           0.96      2947\n",
      "   macro avg       0.96      0.95      0.95      2947\n",
      "weighted avg       0.96      0.96      0.96      2947\n",
      "\n"
     ]
    }
   ],
   "source": [
    "print(\"Report:\")\n",
    "svc_pred = final_model.predict(Activity_test_scaled)\n",
    "print(metrics.accuracy_score(Activity_test_labels,svc_pred)) \n",
    "print(classification_report(Activity_test_labels, svc_pred))"
   ]
  },
  {
   "cell_type": "markdown",
   "metadata": {},
   "source": [
    "## Logistic regression"
   ]
  },
  {
   "cell_type": "code",
   "execution_count": 104,
   "metadata": {},
   "outputs": [
    {
     "name": "stdout",
     "output_type": "stream",
     "text": [
      "Tuning Hyper Parameter with Accuracy Metrics\n"
     ]
    },
    {
     "data": {
      "text/plain": [
       "GridSearchCV(cv=10, estimator=LogisticRegression(), n_jobs=-1,\n",
       "             param_grid={'C': [0.01, 0.1, 1, 10, 20, 30],\n",
       "                         'penalty': ['l2', 'l1']},\n",
       "             return_train_score=True, scoring='accuracy')"
      ]
     },
     "execution_count": 104,
     "metadata": {},
     "output_type": "execute_result"
    }
   ],
   "source": [
    "parameters = {'C':[0.01, 0.1, 1, 10, 20, 30], 'penalty':['l2','l1']}\n",
    "\n",
    "logreg = LogisticRegression()\n",
    "print(\"Tuning Hyper Parameter with Accuracy Metrics\")\n",
    "logreg_clf = GridSearchCV(logreg, parameters, cv=10, scoring= 'accuracy', n_jobs = -1,  return_train_score=True)\n",
    "logreg_clf.fit(Activity_prepared_scaled,Activity_labels)"
   ]
  },
  {
   "cell_type": "code",
   "execution_count": 105,
   "metadata": {},
   "outputs": [],
   "source": [
    "final_model = logreg_clf.best_estimator_"
   ]
  },
  {
   "cell_type": "code",
   "execution_count": 106,
   "metadata": {},
   "outputs": [
    {
     "name": "stdout",
     "output_type": "stream",
     "text": [
      "Report:\n",
      "0.9528333898880217\n",
      "              precision    recall  f1-score   support\n",
      "\n",
      "           0       0.98      1.00      0.99       537\n",
      "           1       0.96      0.87      0.91       491\n",
      "           2       0.91      0.96      0.94       532\n",
      "           3       0.94      0.99      0.96       496\n",
      "           4       0.99      0.94      0.96       420\n",
      "           5       0.96      0.94      0.95       471\n",
      "\n",
      "    accuracy                           0.95      2947\n",
      "   macro avg       0.95      0.95      0.95      2947\n",
      "weighted avg       0.95      0.95      0.95      2947\n",
      "\n"
     ]
    }
   ],
   "source": [
    "print(\"Report:\")\n",
    "logreg_pred = final_model.predict(Activity_test_scaled)\n",
    "print(metrics.accuracy_score(Activity_test_labels,logreg_pred)) \n",
    "print(classification_report(Activity_test_labels, logreg_pred))"
   ]
  },
  {
   "cell_type": "markdown",
   "metadata": {},
   "source": [
    "## Naive Bayes"
   ]
  },
  {
   "cell_type": "code",
   "execution_count": 107,
   "metadata": {},
   "outputs": [
    {
     "name": "stdout",
     "output_type": "stream",
     "text": [
      "Tuning Hyper Parameter with Accuracy Metrics\n"
     ]
    },
    {
     "data": {
      "text/plain": [
       "GridSearchCV(cv=10, estimator=GaussianNB(), n_jobs=-1,\n",
       "             param_grid={'var_smoothing': array([1.00000000e+00, 8.11130831e-01, 6.57933225e-01, 5.33669923e-01,\n",
       "       4.32876128e-01, 3.51119173e-01, 2.84803587e-01, 2.31012970e-01,\n",
       "       1.87381742e-01, 1.51991108e-01, 1.23284674e-01, 1.00000000e-01,\n",
       "       8.11130831e-02, 6.57933225e-02, 5.33669923e-02, 4.32876128e-02,\n",
       "       3.51119173e-02, 2.848035...\n",
       "       1.23284674e-07, 1.00000000e-07, 8.11130831e-08, 6.57933225e-08,\n",
       "       5.33669923e-08, 4.32876128e-08, 3.51119173e-08, 2.84803587e-08,\n",
       "       2.31012970e-08, 1.87381742e-08, 1.51991108e-08, 1.23284674e-08,\n",
       "       1.00000000e-08, 8.11130831e-09, 6.57933225e-09, 5.33669923e-09,\n",
       "       4.32876128e-09, 3.51119173e-09, 2.84803587e-09, 2.31012970e-09,\n",
       "       1.87381742e-09, 1.51991108e-09, 1.23284674e-09, 1.00000000e-09])},\n",
       "             return_train_score=True, scoring='accuracy')"
      ]
     },
     "execution_count": 107,
     "metadata": {},
     "output_type": "execute_result"
    }
   ],
   "source": [
    "params_NB = {'var_smoothing': np.logspace(0,-9, num=100)}\n",
    "gnb = GaussianNB()\n",
    "\n",
    "print(\"Tuning Hyper Parameter with Accuracy Metrics\")\n",
    "gnb_clf = GridSearchCV(gnb, params_NB, cv=10, scoring= 'accuracy', n_jobs = -1, return_train_score=True)\n",
    "gnb_clf.fit(Activity_prepared_scaled,Activity_labels)"
   ]
  },
  {
   "cell_type": "code",
   "execution_count": 108,
   "metadata": {},
   "outputs": [],
   "source": [
    "final_model = gnb_clf.best_estimator_"
   ]
  },
  {
   "cell_type": "code",
   "execution_count": 109,
   "metadata": {},
   "outputs": [
    {
     "name": "stdout",
     "output_type": "stream",
     "text": [
      "Report:\n",
      "0.8177807940278249\n",
      "              precision    recall  f1-score   support\n",
      "\n",
      "           0       0.99      1.00      0.99       537\n",
      "           1       0.95      0.50      0.66       491\n",
      "           2       0.68      0.95      0.79       532\n",
      "           3       0.83      0.84      0.83       496\n",
      "           4       0.83      0.61      0.70       420\n",
      "           5       0.76      0.96      0.85       471\n",
      "\n",
      "    accuracy                           0.82      2947\n",
      "   macro avg       0.84      0.81      0.80      2947\n",
      "weighted avg       0.84      0.82      0.81      2947\n",
      "\n"
     ]
    }
   ],
   "source": [
    "print(\"Report:\")\n",
    "gnb_pred = final_model.predict(Activity_test_scaled)\n",
    "print(metrics.accuracy_score(Activity_test_labels,gnb_pred)) \n",
    "print(classification_report(Activity_test_labels, gnb_pred))"
   ]
  },
  {
   "cell_type": "markdown",
   "metadata": {},
   "source": [
    " ## KNN"
   ]
  },
  {
   "cell_type": "code",
   "execution_count": 110,
   "metadata": {},
   "outputs": [
    {
     "name": "stdout",
     "output_type": "stream",
     "text": [
      "Tuning Hyper Parameter with Accuracy Metrics\n"
     ]
    },
    {
     "data": {
      "text/plain": [
       "GridSearchCV(cv=10, estimator=KNeighborsClassifier(), n_jobs=-1,\n",
       "             param_grid={'n_neighbors': [1, 3, 5], 'p': [1, 2]},\n",
       "             return_train_score=True, scoring='accuracy')"
      ]
     },
     "execution_count": 110,
     "metadata": {},
     "output_type": "execute_result"
    }
   ],
   "source": [
    "params_KNN = {'n_neighbors': [1, 3, 5], \n",
    "              'p': [1, 2]}\n",
    "knn = KNeighborsClassifier()\n",
    "print(\"Tuning Hyper Parameter with Accuracy Metrics\")\n",
    "knn_clf = GridSearchCV(knn, params_KNN, cv=10, scoring= 'accuracy', n_jobs = -1, return_train_score=True)\n",
    "knn_clf.fit(Activity_prepared_scaled,Activity_labels)"
   ]
  },
  {
   "cell_type": "code",
   "execution_count": 111,
   "metadata": {},
   "outputs": [],
   "source": [
    "final_model = knn_clf.best_estimator_"
   ]
  },
  {
   "cell_type": "code",
   "execution_count": 112,
   "metadata": {},
   "outputs": [
    {
     "name": "stdout",
     "output_type": "stream",
     "text": [
      "Report:\n",
      "0.9015948422124194\n",
      "              precision    recall  f1-score   support\n",
      "\n",
      "           0       1.00      1.00      1.00       537\n",
      "           1       0.94      0.83      0.88       491\n",
      "           2       0.86      0.95      0.90       532\n",
      "           3       0.81      0.98      0.89       496\n",
      "           4       0.97      0.71      0.82       420\n",
      "           5       0.87      0.90      0.88       471\n",
      "\n",
      "    accuracy                           0.90      2947\n",
      "   macro avg       0.91      0.89      0.90      2947\n",
      "weighted avg       0.91      0.90      0.90      2947\n",
      "\n"
     ]
    }
   ],
   "source": [
    "print(\"Report:\")\n",
    "knn_pred = final_model.predict(Activity_test_scaled)\n",
    "print(metrics.accuracy_score(Activity_test_labels,knn_pred)) \n",
    "print(classification_report(Activity_test_labels, knn_pred))"
   ]
  },
  {
   "cell_type": "markdown",
   "metadata": {},
   "source": [
    "## performance of the best estimators on the Test dataset with parameter tuning"
   ]
  },
  {
   "cell_type": "markdown",
   "metadata": {},
   "source": [
    "|  Score/ Metric                          |  LogisticReression   | Support Vector Machines | Naïve Bayes   | K-Nearest Neighbors | \n",
    "|----------------------------------------|----------------------|-------------------------|---------------|--------------------\n",
    "|Accuray on Test data without parameter tuning |    0.959          |  0.945                |    0.770     | 0.829            |\n",
    "|Accuray on Test data with parameter tuning    |    0.952          |  0.955                |    0.817     | 0.901             |\n",
    "\n",
    "<font color='blue'> We performed paarmeter tuning on the models with different tuning parameters and observed increase in the performence metrics of Support Vector Machines, Naïve Bayes classification and K-Nearest Neighbors algorithms.\n",
    "    \n",
    "<font color='blue'>Where as there is not much change in the performence of LogisticReression. After tuning the parameters in the algorithm Support Vector Machines is the best classification model next to LogisticReression.</font>\n",
    "\n"
   ]
  }
 ],
 "metadata": {
  "kernelspec": {
   "display_name": "Python 3",
   "language": "python",
   "name": "python3"
  },
  "language_info": {
   "codemirror_mode": {
    "name": "ipython",
    "version": 3
   },
   "file_extension": ".py",
   "mimetype": "text/x-python",
   "name": "python",
   "nbconvert_exporter": "python",
   "pygments_lexer": "ipython3",
   "version": "3.7.3"
  }
 },
 "nbformat": 4,
 "nbformat_minor": 4
}
